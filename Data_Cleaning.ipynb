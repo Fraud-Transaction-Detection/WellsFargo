{
  "nbformat": 4,
  "nbformat_minor": 0,
  "metadata": {
    "colab": {
      "name": "Data Cleaning.ipynb",
      "provenance": []
    },
    "kernelspec": {
      "name": "python3",
      "display_name": "Python 3"
    },
    "language_info": {
      "name": "python"
    }
  },
  "cells": [
    {
      "cell_type": "code",
      "source": [
        "import pandas as pd \n",
        "import numpy as np\n",
        "import matplotlib.pyplot as plt"
      ],
      "metadata": {
        "id": "dYWX6KvfAt_u"
      },
      "execution_count": null,
      "outputs": []
    },
    {
      "cell_type": "code",
      "source": [
        "data = pd.read_excel(\"/content/buffer4.xlsx\")"
      ],
      "metadata": {
        "id": "WN_g6vlFA0Ix"
      },
      "execution_count": null,
      "outputs": []
    },
    {
      "cell_type": "code",
      "source": [
        "print(data.info())"
      ],
      "metadata": {
        "colab": {
          "base_uri": "https://localhost:8080/"
        },
        "id": "rJy0zuJpA8zp",
        "outputId": "b965bb44-444a-4d3e-fd49-6670188ee189"
      },
      "execution_count": null,
      "outputs": [
        {
          "output_type": "stream",
          "name": "stdout",
          "text": [
            "<class 'pandas.core.frame.DataFrame'>\n",
            "RangeIndex: 13491 entries, 0 to 13490\n",
            "Data columns (total 24 columns):\n",
            " #   Column                   Non-Null Count  Dtype         \n",
            "---  ------                   --------------  -----         \n",
            " 0   TRAN_AMT                 13491 non-null  float64       \n",
            " 1   ACCT_PRE_TRAN_AVAIL_BAL  13491 non-null  float64       \n",
            " 2   CUST_AGE                 13491 non-null  int64         \n",
            " 3   OPEN_ACCT_CT             13491 non-null  int64         \n",
            " 4   WF_dvc_age               13491 non-null  int64         \n",
            " 5   PWD_UPDT_TS              13491 non-null  datetime64[ns]\n",
            " 6   CARR_NAME                11077 non-null  object        \n",
            " 7   RGN_NAME                 11077 non-null  object        \n",
            " 8   STATE_PRVNC_TXT          11077 non-null  object        \n",
            " 9   ALERT_TRGR_CD            13491 non-null  object        \n",
            " 10  DVC_TYPE_TXT             11828 non-null  object        \n",
            " 11  AUTHC_PRIM_TYPE_CD       13491 non-null  object        \n",
            " 12  AUTHC_SCNDRY_STAT_TXT    13417 non-null  object        \n",
            " 13  CUST_ZIP                 13491 non-null  int64         \n",
            " 14  CUST_STATE               13455 non-null  object        \n",
            " 15  PH_NUM_UPDT_TS           13491 non-null  datetime64[ns]\n",
            " 16  CUST_SINCE_DT            13491 non-null  datetime64[ns]\n",
            " 17  TRAN_TS                  13491 non-null  object        \n",
            " 18  TRAN_DT                  13491 non-null  object        \n",
            " 19  ACTN_CD                  13491 non-null  object        \n",
            " 20  ACTN_INTNL_TXT           13491 non-null  object        \n",
            " 21  TRAN_TYPE_CD             13491 non-null  object        \n",
            " 22  ACTVY_DT                 13491 non-null  object        \n",
            " 23  FRAUD_NONFRAUD           13491 non-null  object        \n",
            "dtypes: datetime64[ns](3), float64(2), int64(4), object(15)\n",
            "memory usage: 2.5+ MB\n",
            "None\n"
          ]
        }
      ]
    },
    {
      "cell_type": "code",
      "source": [
        "from datetime import datetime\n",
        "cst_since = pd.Series(data[\"CUST_SINCE_DT\"])\n",
        "cst_since_numeric = cst_since\n",
        "for i in range(len(cst_since)):\n",
        "  cst_since_numeric[i] = int(round(cst_since[i].timestamp()))\n",
        "print(cst_since_numeric.head(100))"
      ],
      "metadata": {
        "colab": {
          "base_uri": "https://localhost:8080/"
        },
        "id": "ML7o74sCBotp",
        "outputId": "4be97cb3-7326-4663-8012-c7a5ec8e414b"
      },
      "execution_count": null,
      "outputs": [
        {
          "output_type": "stream",
          "name": "stdout",
          "text": [
            "0      726278400\n",
            "1       32054400\n",
            "2      760060800\n",
            "3     1004572800\n",
            "4      539654400\n",
            "         ...    \n",
            "95     950054400\n",
            "96     866851200\n",
            "97    1475884800\n",
            "98    1471910400\n",
            "99    1065830400\n",
            "Name: CUST_SINCE_DT, Length: 100, dtype: object\n"
          ]
        }
      ]
    },
    {
      "cell_type": "code",
      "source": [
        "from datetime import datetime\n",
        "ph_num_up = pd.Series(data[\"PH_NUM_UPDT_TS\"])\n",
        "ph_num_up_numeric = ph_num_up\n",
        "for i in range(len(ph_num_up)):\n",
        "  ph_num_up_numeric[i] = int(round(ph_num_up[i].timestamp()))\n",
        "print(ph_num_up_numeric.head(100))"
      ],
      "metadata": {
        "colab": {
          "base_uri": "https://localhost:8080/"
        },
        "id": "bJI3cZEpDAFT",
        "outputId": "1af3368a-6abe-47d2-a0ad-b9196f8cc422"
      },
      "execution_count": null,
      "outputs": [
        {
          "output_type": "stream",
          "name": "stdout",
          "text": [
            "0     1614182110\n",
            "1       32054400\n",
            "2     1557018519\n",
            "3     1550299537\n",
            "4     1588933626\n",
            "         ...    \n",
            "95     950054400\n",
            "96    1504839231\n",
            "97    1475884800\n",
            "98    1471910400\n",
            "99    1065830400\n",
            "Name: PH_NUM_UPDT_TS, Length: 100, dtype: object\n"
          ]
        }
      ]
    },
    {
      "cell_type": "code",
      "source": [
        "from datetime import datetime\n",
        "pwd_up = pd.Series(data[\"PWD_UPDT_TS\"])\n",
        "pwd_up_numeric = pwd_up\n",
        "for i in range(len(pwd_up)):\n",
        "  pwd_up_numeric[i] = int(round(pwd_up[i].timestamp()))\n",
        "print(pwd_up_numeric.head(100))"
      ],
      "metadata": {
        "colab": {
          "base_uri": "https://localhost:8080/"
        },
        "id": "Si_qOOYjDBUK",
        "outputId": "f0d54191-bb15-40ee-e67f-6e1816a32073"
      },
      "execution_count": null,
      "outputs": [
        {
          "output_type": "stream",
          "name": "stdout",
          "text": [
            "0     1516100638\n",
            "1       32054400\n",
            "2     1640169771\n",
            "3     1581146911\n",
            "4     1609157564\n",
            "         ...    \n",
            "95    1494335240\n",
            "96    1614372941\n",
            "97    1496066840\n",
            "98    1621389431\n",
            "99    1065830400\n",
            "Name: PWD_UPDT_TS, Length: 100, dtype: object\n"
          ]
        }
      ]
    },
    {
      "cell_type": "code",
      "source": [
        "data[\"pwd_up_numeric\"] = pwd_up_numeric\n",
        "data[\"ph_num_up_numeric\"] = ph_num_up_numeric\n",
        "data[\"cst_since_numeric\"] = cst_since_numeric"
      ],
      "metadata": {
        "id": "z44fPL0LEwlr"
      },
      "execution_count": null,
      "outputs": []
    },
    {
      "cell_type": "code",
      "source": [
        "print(data[\"TRAN_TS\"].head(100))"
      ],
      "metadata": {
        "colab": {
          "base_uri": "https://localhost:8080/"
        },
        "id": "E4MtdVf1H2iG",
        "outputId": "512aa055-5347-4803-bde9-5fca86168a9a"
      },
      "execution_count": null,
      "outputs": [
        {
          "output_type": "stream",
          "name": "stdout",
          "text": [
            "0       5/3/2021 18:3:58\n",
            "1     1/13/2021 19:19:37\n",
            "2       4/8/2021 9:42:51\n",
            "3     8/10/2021 15:28:31\n",
            "4     6/27/2021 11:12:44\n",
            "             ...        \n",
            "95      6/4/2021 11:0:51\n",
            "96     7/21/2021 9:55:41\n",
            "97     7/18/2021 17:0:51\n",
            "98     6/26/2021 9:57:11\n",
            "99     5/19/2021 11:37:9\n",
            "Name: TRAN_TS, Length: 100, dtype: object\n"
          ]
        }
      ]
    },
    {
      "cell_type": "code",
      "source": [
        "tran_TS = pd.Series(data[\"TRAN_TS\"])\n",
        "cst_since = pd.Series(data[\"CUST_SINCE_DT\"])\n",
        "tran_TS.fillna(130, inplace = True )\n",
        "#phn.head(100)\n",
        "for i in range(len(cst_since)):\n",
        "  if tran_TS[i] == 130:\n",
        "    tran_TS[i] = cst_since[i]\n",
        "print(tran_TS.head(100))\n"
      ],
      "metadata": {
        "colab": {
          "base_uri": "https://localhost:8080/"
        },
        "id": "IEb5Pn4KHr_m",
        "outputId": "a1469b75-3b65-439a-f28d-72a31335c60f"
      },
      "execution_count": null,
      "outputs": [
        {
          "output_type": "stream",
          "name": "stdout",
          "text": [
            "0       5/3/2021 18:3:58\n",
            "1     1/13/2021 19:19:37\n",
            "2       4/8/2021 9:42:51\n",
            "3     8/10/2021 15:28:31\n",
            "4     6/27/2021 11:12:44\n",
            "             ...        \n",
            "95      6/4/2021 11:0:51\n",
            "96     7/21/2021 9:55:41\n",
            "97     7/18/2021 17:0:51\n",
            "98     6/26/2021 9:57:11\n",
            "99     5/19/2021 11:37:9\n",
            "Name: TRAN_TS, Length: 100, dtype: object\n"
          ]
        }
      ]
    },
    {
      "cell_type": "code",
      "source": [
        "from pandas.core.tools.datetimes import to_datetime\n",
        "temp1 = pd.to_datetime(tran_TS , errors = 'coerce')\n",
        "temp1.head(1000)\n",
        "data[\"TRAN_TS\"] = temp1"
      ],
      "metadata": {
        "id": "feDkShj8JLPq"
      },
      "execution_count": null,
      "outputs": []
    },
    {
      "cell_type": "code",
      "source": [
        "TRAN_TS_done =  data[data[\"TRAN_TS\"].notna()]"
      ],
      "metadata": {
        "id": "QUXK7dzoKF6r"
      },
      "execution_count": null,
      "outputs": []
    },
    {
      "cell_type": "code",
      "source": [
        "data.to_excel(\"/content/buffer5.xlsx\", index = False)"
      ],
      "metadata": {
        "id": "Twrlcf1bKWaX"
      },
      "execution_count": null,
      "outputs": []
    },
    {
      "cell_type": "code",
      "source": [
        "data1 = pd.read_excel(\"/content/buffer5.xlsx\")"
      ],
      "metadata": {
        "id": "8pBO1GfjKluU"
      },
      "execution_count": null,
      "outputs": []
    },
    {
      "cell_type": "code",
      "source": [
        "print(data.info())"
      ],
      "metadata": {
        "colab": {
          "base_uri": "https://localhost:8080/"
        },
        "id": "IZuyr6-UK21S",
        "outputId": "8bc8ea65-6391-4dde-daf1-dca7b1bc9fe5"
      },
      "execution_count": null,
      "outputs": [
        {
          "output_type": "stream",
          "name": "stdout",
          "text": [
            "<class 'pandas.core.frame.DataFrame'>\n",
            "RangeIndex: 13491 entries, 0 to 13490\n",
            "Data columns (total 27 columns):\n",
            " #   Column                   Non-Null Count  Dtype         \n",
            "---  ------                   --------------  -----         \n",
            " 0   TRAN_AMT                 13491 non-null  float64       \n",
            " 1   ACCT_PRE_TRAN_AVAIL_BAL  13491 non-null  float64       \n",
            " 2   CUST_AGE                 13491 non-null  int64         \n",
            " 3   OPEN_ACCT_CT             13491 non-null  int64         \n",
            " 4   WF_dvc_age               13491 non-null  int64         \n",
            " 5   PWD_UPDT_TS              13491 non-null  datetime64[ns]\n",
            " 6   CARR_NAME                11077 non-null  object        \n",
            " 7   RGN_NAME                 11077 non-null  object        \n",
            " 8   STATE_PRVNC_TXT          11077 non-null  object        \n",
            " 9   ALERT_TRGR_CD            13491 non-null  object        \n",
            " 10  DVC_TYPE_TXT             11828 non-null  object        \n",
            " 11  AUTHC_PRIM_TYPE_CD       13491 non-null  object        \n",
            " 12  AUTHC_SCNDRY_STAT_TXT    13417 non-null  object        \n",
            " 13  CUST_ZIP                 13491 non-null  int64         \n",
            " 14  CUST_STATE               13455 non-null  object        \n",
            " 15  PH_NUM_UPDT_TS           13491 non-null  datetime64[ns]\n",
            " 16  CUST_SINCE_DT            13491 non-null  datetime64[ns]\n",
            " 17  TRAN_TS                  13491 non-null  datetime64[ns]\n",
            " 18  TRAN_DT                  13491 non-null  object        \n",
            " 19  ACTN_CD                  13491 non-null  object        \n",
            " 20  ACTN_INTNL_TXT           13491 non-null  object        \n",
            " 21  TRAN_TYPE_CD             13491 non-null  object        \n",
            " 22  ACTVY_DT                 13491 non-null  object        \n",
            " 23  FRAUD_NONFRAUD           13491 non-null  object        \n",
            " 24  pwd_up_numeric           13491 non-null  object        \n",
            " 25  ph_num_up_numeric        13491 non-null  object        \n",
            " 26  cst_since_numeric        13491 non-null  object        \n",
            "dtypes: datetime64[ns](4), float64(2), int64(4), object(17)\n",
            "memory usage: 2.8+ MB\n",
            "None\n"
          ]
        }
      ]
    },
    {
      "cell_type": "code",
      "source": [
        "from datetime import datetime\n",
        "tran_ts = pd.Series(data[\"TRAN_TS\"])\n",
        "tran_ts_numeric = tran_ts\n",
        "for i in range(len(tran_ts)):\n",
        "  tran_ts_numeric[i] = int(round(tran_ts[i].timestamp()))\n",
        "print(tran_ts_numeric.head(100))"
      ],
      "metadata": {
        "colab": {
          "base_uri": "https://localhost:8080/"
        },
        "id": "_7rYGhuGLDc2",
        "outputId": "175a8776-4e9b-4a64-d274-d313e8cec3cf"
      },
      "execution_count": null,
      "outputs": [
        {
          "output_type": "stream",
          "name": "stdout",
          "text": [
            "0     1620065038\n",
            "1     1610565577\n",
            "2     1617874971\n",
            "3     1628609311\n",
            "4     1624792364\n",
            "         ...    \n",
            "95    1622804451\n",
            "96    1626861341\n",
            "97    1626627651\n",
            "98    1624701431\n",
            "99    1621424229\n",
            "Name: TRAN_TS, Length: 100, dtype: object\n"
          ]
        }
      ]
    },
    {
      "cell_type": "code",
      "source": [
        "data1[\"Tran_TS_Numeric\"] = tran_ts_numeric"
      ],
      "metadata": {
        "id": "RUdvii3UMRUw"
      },
      "execution_count": null,
      "outputs": []
    },
    {
      "cell_type": "code",
      "source": [
        "cst_diff_tran = data1[\"cst_since_numeric\"]\n",
        "phn_diff_tran = data1[\"ph_num_up_numeric\"]\n",
        "pwd_diff_tran = data1[\"pwd_up_numeric\"]\n",
        "Tran_TS_Numeric = data1[\"Tran_TS_Numeric\"]\n",
        "for i in range(len(Tran_TS_Numeric)):\n",
        "  cst_diff_tran[i] = Tran_TS_Numeric[i] - cst_diff_tran[i]\n",
        "  phn_diff_tran[i] = Tran_TS_Numeric[i] - phn_diff_tran[i]\n",
        "  pwd_diff_tran[i] =  Tran_TS_Numeric[i] -pwd_diff_tran[i]"
      ],
      "metadata": {
        "colab": {
          "base_uri": "https://localhost:8080/"
        },
        "id": "ZBpI6r-0MnC-",
        "outputId": "78792c06-bf81-4e7f-faaf-c29e91e843cd"
      },
      "execution_count": null,
      "outputs": [
        {
          "output_type": "stream",
          "name": "stderr",
          "text": [
            "/usr/local/lib/python3.7/dist-packages/ipykernel_launcher.py:6: SettingWithCopyWarning: \n",
            "A value is trying to be set on a copy of a slice from a DataFrame\n",
            "\n",
            "See the caveats in the documentation: https://pandas.pydata.org/pandas-docs/stable/user_guide/indexing.html#returning-a-view-versus-a-copy\n",
            "  \n",
            "/usr/local/lib/python3.7/dist-packages/ipykernel_launcher.py:7: SettingWithCopyWarning: \n",
            "A value is trying to be set on a copy of a slice from a DataFrame\n",
            "\n",
            "See the caveats in the documentation: https://pandas.pydata.org/pandas-docs/stable/user_guide/indexing.html#returning-a-view-versus-a-copy\n",
            "  import sys\n",
            "/usr/local/lib/python3.7/dist-packages/ipykernel_launcher.py:8: SettingWithCopyWarning: \n",
            "A value is trying to be set on a copy of a slice from a DataFrame\n",
            "\n",
            "See the caveats in the documentation: https://pandas.pydata.org/pandas-docs/stable/user_guide/indexing.html#returning-a-view-versus-a-copy\n",
            "  \n"
          ]
        },
        {
          "output_type": "stream",
          "name": "stdout",
          "text": [
            "0      726278400\n",
            "1       32054400\n",
            "2      760060800\n",
            "3     1004572800\n",
            "4      539654400\n",
            "         ...    \n",
            "95     950054400\n",
            "96     866851200\n",
            "97    1475884800\n",
            "98    1471910400\n",
            "99    1065830400\n",
            "Name: cst_since_numeric, Length: 100, dtype: int64\n",
            "0     1614182110\n",
            "1       32054400\n",
            "2     1557018519\n",
            "3     1550299537\n",
            "4     1588933626\n",
            "         ...    \n",
            "95     950054400\n",
            "96    1504839231\n",
            "97    1475884800\n",
            "98    1471910400\n",
            "99    1065830400\n",
            "Name: ph_num_up_numeric, Length: 100, dtype: int64\n",
            "0     1516100638\n",
            "1       32054400\n",
            "2     1640169771\n",
            "3     1581146911\n",
            "4     1609157564\n",
            "         ...    \n",
            "95    1494335240\n",
            "96    1614372941\n",
            "97    1496066840\n",
            "98    1621389431\n",
            "99    1065830400\n",
            "Name: pwd_up_numeric, Length: 100, dtype: int64\n"
          ]
        }
      ]
    },
    {
      "cell_type": "code",
      "source": [
        "data1[\"cst_diff_tran\"] = cst_diff_tran\n",
        "data1[\"phn_diff_tran\"] = phn_diff_tran\n",
        "data1[\"pwd_diff_tran\"] = pwd_diff_tran"
      ],
      "metadata": {
        "id": "EIsqi4cQOzHH"
      },
      "execution_count": null,
      "outputs": []
    },
    {
      "cell_type": "code",
      "source": [
        "print(data1[\"cst_diff_tran\"].head(100))"
      ],
      "metadata": {
        "colab": {
          "base_uri": "https://localhost:8080/"
        },
        "id": "SqS4Rdp6PSYS",
        "outputId": "8a7ec799-41be-49c8-cc54-431eb8f05dc7"
      },
      "execution_count": null,
      "outputs": [
        {
          "output_type": "stream",
          "name": "stdout",
          "text": [
            "0      726278400\n",
            "1       32054400\n",
            "2      760060800\n",
            "3     1004572800\n",
            "4      539654400\n",
            "         ...    \n",
            "95     950054400\n",
            "96     866851200\n",
            "97    1475884800\n",
            "98    1471910400\n",
            "99    1065830400\n",
            "Name: cst_diff_tran, Length: 100, dtype: int64\n"
          ]
        }
      ]
    },
    {
      "cell_type": "code",
      "source": [
        "print(data1.info())"
      ],
      "metadata": {
        "colab": {
          "base_uri": "https://localhost:8080/"
        },
        "id": "5pJ2288hP6b6",
        "outputId": "35ad88a1-7018-4518-9c43-a7f1d042909e"
      },
      "execution_count": null,
      "outputs": [
        {
          "output_type": "stream",
          "name": "stdout",
          "text": [
            "<class 'pandas.core.frame.DataFrame'>\n",
            "RangeIndex: 13491 entries, 0 to 13490\n",
            "Data columns (total 31 columns):\n",
            " #   Column                   Non-Null Count  Dtype         \n",
            "---  ------                   --------------  -----         \n",
            " 0   TRAN_AMT                 13491 non-null  float64       \n",
            " 1   ACCT_PRE_TRAN_AVAIL_BAL  13491 non-null  float64       \n",
            " 2   CUST_AGE                 13491 non-null  int64         \n",
            " 3   OPEN_ACCT_CT             13491 non-null  int64         \n",
            " 4   WF_dvc_age               13491 non-null  int64         \n",
            " 5   PWD_UPDT_TS              13491 non-null  datetime64[ns]\n",
            " 6   CARR_NAME                11077 non-null  object        \n",
            " 7   RGN_NAME                 11077 non-null  object        \n",
            " 8   STATE_PRVNC_TXT          11077 non-null  object        \n",
            " 9   ALERT_TRGR_CD            13491 non-null  object        \n",
            " 10  DVC_TYPE_TXT             11828 non-null  object        \n",
            " 11  AUTHC_PRIM_TYPE_CD       13491 non-null  object        \n",
            " 12  AUTHC_SCNDRY_STAT_TXT    13417 non-null  object        \n",
            " 13  CUST_ZIP                 13491 non-null  int64         \n",
            " 14  CUST_STATE               13455 non-null  object        \n",
            " 15  PH_NUM_UPDT_TS           13491 non-null  datetime64[ns]\n",
            " 16  CUST_SINCE_DT            13491 non-null  datetime64[ns]\n",
            " 17  TRAN_TS                  13491 non-null  datetime64[ns]\n",
            " 18  TRAN_DT                  13491 non-null  object        \n",
            " 19  ACTN_CD                  13491 non-null  object        \n",
            " 20  ACTN_INTNL_TXT           13491 non-null  object        \n",
            " 21  TRAN_TYPE_CD             13491 non-null  object        \n",
            " 22  ACTVY_DT                 13491 non-null  object        \n",
            " 23  FRAUD_NONFRAUD           13491 non-null  object        \n",
            " 24  pwd_up_numeric           13491 non-null  int64         \n",
            " 25  ph_num_up_numeric        13491 non-null  int64         \n",
            " 26  cst_since_numeric        13491 non-null  int64         \n",
            " 27  Tran_TS_Numeric          13491 non-null  object        \n",
            " 28  cst_diff_tran            13491 non-null  int64         \n",
            " 29  phn_diff_tran            13491 non-null  int64         \n",
            " 30  pwd_diff_tran            13491 non-null  int64         \n",
            "dtypes: datetime64[ns](4), float64(2), int64(10), object(15)\n",
            "memory usage: 3.2+ MB\n",
            "None\n"
          ]
        }
      ]
    },
    {
      "cell_type": "code",
      "source": [
        "data1.to_excel(\"/content/buffer6.xlsx\", index = False)"
      ],
      "metadata": {
        "id": "QS29Htz_PnbS"
      },
      "execution_count": null,
      "outputs": []
    },
    {
      "cell_type": "code",
      "source": [
        "data = pd.read_excel(\"/content/buffer6.xlsx\")"
      ],
      "metadata": {
        "id": "CGl9gN7Ob6o2"
      },
      "execution_count": null,
      "outputs": []
    },
    {
      "cell_type": "code",
      "source": [
        "print(data.info())"
      ],
      "metadata": {
        "colab": {
          "base_uri": "https://localhost:8080/"
        },
        "id": "uvVqwbMVcV40",
        "outputId": "62f40554-672a-479b-ec47-d42f3dfb7726"
      },
      "execution_count": null,
      "outputs": [
        {
          "output_type": "stream",
          "name": "stdout",
          "text": [
            "<class 'pandas.core.frame.DataFrame'>\n",
            "RangeIndex: 13491 entries, 0 to 13490\n",
            "Data columns (total 31 columns):\n",
            " #   Column                   Non-Null Count  Dtype         \n",
            "---  ------                   --------------  -----         \n",
            " 0   TRAN_AMT                 13491 non-null  float64       \n",
            " 1   ACCT_PRE_TRAN_AVAIL_BAL  13491 non-null  float64       \n",
            " 2   CUST_AGE                 13491 non-null  int64         \n",
            " 3   OPEN_ACCT_CT             13491 non-null  int64         \n",
            " 4   WF_dvc_age               13491 non-null  int64         \n",
            " 5   PWD_UPDT_TS              13491 non-null  datetime64[ns]\n",
            " 6   CARR_NAME                11077 non-null  object        \n",
            " 7   RGN_NAME                 11077 non-null  object        \n",
            " 8   STATE_PRVNC_TXT          11077 non-null  object        \n",
            " 9   ALERT_TRGR_CD            13491 non-null  object        \n",
            " 10  DVC_TYPE_TXT             11828 non-null  object        \n",
            " 11  AUTHC_PRIM_TYPE_CD       13491 non-null  object        \n",
            " 12  AUTHC_SCNDRY_STAT_TXT    13417 non-null  object        \n",
            " 13  CUST_ZIP                 13491 non-null  int64         \n",
            " 14  CUST_STATE               13455 non-null  object        \n",
            " 15  PH_NUM_UPDT_TS           13491 non-null  datetime64[ns]\n",
            " 16  CUST_SINCE_DT            13491 non-null  datetime64[ns]\n",
            " 17  TRAN_TS                  13491 non-null  datetime64[ns]\n",
            " 18  TRAN_DT                  13491 non-null  object        \n",
            " 19  ACTN_CD                  13491 non-null  object        \n",
            " 20  ACTN_INTNL_TXT           13491 non-null  object        \n",
            " 21  TRAN_TYPE_CD             13491 non-null  object        \n",
            " 22  ACTVY_DT                 13491 non-null  object        \n",
            " 23  FRAUD_NONFRAUD           13491 non-null  object        \n",
            " 24  pwd_up_numeric           13491 non-null  int64         \n",
            " 25  ph_num_up_numeric        13491 non-null  int64         \n",
            " 26  cst_since_numeric        13491 non-null  int64         \n",
            " 27  Tran_TS_Numeric          13491 non-null  int64         \n",
            " 28  cst_diff_tran            13491 non-null  int64         \n",
            " 29  phn_diff_tran            13491 non-null  int64         \n",
            " 30  pwd_diff_tran            13491 non-null  int64         \n",
            "dtypes: datetime64[ns](4), float64(2), int64(11), object(14)\n",
            "memory usage: 3.2+ MB\n",
            "None\n"
          ]
        }
      ]
    },
    {
      "cell_type": "code",
      "source": [
        "import pandas as pd\n",
        "import numpy as np\n",
        "data = pd.read_excel('/content/wellsfargo.xlsx')"
      ],
      "metadata": {
        "id": "N0fOqRQAEuSz"
      },
      "execution_count": null,
      "outputs": []
    },
    {
      "cell_type": "code",
      "source": [
        "data.isna().sum()"
      ],
      "metadata": {
        "colab": {
          "base_uri": "https://localhost:8080/"
        },
        "id": "Erkpr2uYFSw5",
        "outputId": "d010e362-7fff-499a-f617-358e19bc9c85"
      },
      "execution_count": null,
      "outputs": [
        {
          "output_type": "execute_result",
          "data": {
            "text/plain": [
              "TRAN_AMT                         0\n",
              "ACCT_PRE_TRAN_AVAIL_BAL          0\n",
              "CUST_AGE                         0\n",
              "OPEN_ACCT_CT                     0\n",
              "WF_dvc_age                       0\n",
              "PWD_UPDT_TS                      0\n",
              "CARR_NAME                        0\n",
              "RGN_NAME                      2414\n",
              "STATE_PRVNC_TXT               2414\n",
              "ALERT_TRGR_CD                    0\n",
              "CUST_ZIP                         0\n",
              "CUST_STATE                      36\n",
              "PH_NUM_UPDT_TS                   0\n",
              "CUST_SINCE_DT                    0\n",
              "TRAN_TS                          0\n",
              "TRAN_DT                          0\n",
              "ACTN_CD                          0\n",
              "ACTN_INTNL_TXT                   0\n",
              "TRAN_TYPE_CD                     0\n",
              "ACTVY_DT                         0\n",
              "FRAUD_NONFRAUD                   0\n",
              "pwd_up_numeric                   0\n",
              "ph_num_up_numeric                0\n",
              "cst_since_numeric                0\n",
              "Tran_TS_Numeric                  0\n",
              "cst_diff_tran                    0\n",
              "phn_diff_tran                    0\n",
              "pwd_diff_tran                    0\n",
              "Device_MOBILE                    0\n",
              "Device_NoDevice                  0\n",
              "Device_PHONE                     0\n",
              "Device_TABLET                    0\n",
              "auth_prim_AFA_PL                 0\n",
              "auth_prim_FACE_ID                0\n",
              "auth_prim_TOUCH_ID               0\n",
              "auth_prim_UN_PWD                 0\n",
              "auth_sec_CHALLENGE_ISSUED        0\n",
              "auth_sec_CHALLENGE_SUCCESS       0\n",
              "dtype: int64"
            ]
          },
          "metadata": {},
          "execution_count": 2
        }
      ]
    },
    {
      "cell_type": "code",
      "source": [
        "data.info()"
      ],
      "metadata": {
        "id": "QKBDdMpsIazi",
        "outputId": "58061bc6-cdbe-4338-9134-a96477a4455d",
        "colab": {
          "base_uri": "https://localhost:8080/"
        }
      },
      "execution_count": null,
      "outputs": [
        {
          "output_type": "stream",
          "name": "stdout",
          "text": [
            "<class 'pandas.core.frame.DataFrame'>\n",
            "RangeIndex: 13491 entries, 0 to 13490\n",
            "Data columns (total 38 columns):\n",
            " #   Column                      Non-Null Count  Dtype         \n",
            "---  ------                      --------------  -----         \n",
            " 0   TRAN_AMT                    13491 non-null  float64       \n",
            " 1   ACCT_PRE_TRAN_AVAIL_BAL     13491 non-null  float64       \n",
            " 2   CUST_AGE                    13491 non-null  int64         \n",
            " 3   OPEN_ACCT_CT                13491 non-null  int64         \n",
            " 4   WF_dvc_age                  13491 non-null  int64         \n",
            " 5   PWD_UPDT_TS                 13491 non-null  datetime64[ns]\n",
            " 6   CARR_NAME                   13491 non-null  int64         \n",
            " 7   RGN_NAME                    11077 non-null  object        \n",
            " 8   STATE_PRVNC_TXT             11077 non-null  object        \n",
            " 9   ALERT_TRGR_CD               13491 non-null  int64         \n",
            " 10  CUST_ZIP                    13491 non-null  int64         \n",
            " 11  CUST_STATE                  13455 non-null  object        \n",
            " 12  PH_NUM_UPDT_TS              13491 non-null  datetime64[ns]\n",
            " 13  CUST_SINCE_DT               13491 non-null  datetime64[ns]\n",
            " 14  TRAN_TS                     13491 non-null  datetime64[ns]\n",
            " 15  TRAN_DT                     13491 non-null  object        \n",
            " 16  ACTN_CD                     13491 non-null  object        \n",
            " 17  ACTN_INTNL_TXT              13491 non-null  object        \n",
            " 18  TRAN_TYPE_CD                13491 non-null  object        \n",
            " 19  ACTVY_DT                    13491 non-null  object        \n",
            " 20  FRAUD_NONFRAUD              13491 non-null  object        \n",
            " 21  pwd_up_numeric              13491 non-null  int64         \n",
            " 22  ph_num_up_numeric           13491 non-null  int64         \n",
            " 23  cst_since_numeric           13491 non-null  int64         \n",
            " 24  Tran_TS_Numeric             13491 non-null  int64         \n",
            " 25  cst_diff_tran               13491 non-null  int64         \n",
            " 26  phn_diff_tran               13491 non-null  int64         \n",
            " 27  pwd_diff_tran               13491 non-null  int64         \n",
            " 28  Device_MOBILE               13491 non-null  int64         \n",
            " 29  Device_NoDevice             13491 non-null  int64         \n",
            " 30  Device_PHONE                13491 non-null  int64         \n",
            " 31  Device_TABLET               13491 non-null  int64         \n",
            " 32  auth_prim_AFA_PL            13491 non-null  int64         \n",
            " 33  auth_prim_FACE_ID           13491 non-null  int64         \n",
            " 34  auth_prim_TOUCH_ID          13491 non-null  int64         \n",
            " 35  auth_prim_UN_PWD            13491 non-null  int64         \n",
            " 36  auth_sec_CHALLENGE_ISSUED   13491 non-null  int64         \n",
            " 37  auth_sec_CHALLENGE_SUCCESS  13491 non-null  int64         \n",
            "dtypes: datetime64[ns](4), float64(2), int64(23), object(9)\n",
            "memory usage: 3.9+ MB\n"
          ]
        }
      ]
    },
    {
      "cell_type": "code",
      "source": [
        "dictionary={}\n",
        "for col in data.drop(columns=['FRAUD_NONFRAUD']).columns:\n",
        "    if data[col].dtype == 'int' or data[col].dtype == 'float':\n",
        "        df=data[data['FRAUD_NONFRAUD']==1]\n",
        "        df1=data[data['FRAUD_NONFRAUD']==0]\n",
        "        t=np.mean(df[col])\n",
        "        print(t)\n",
        "        t1=np.mean(df1[col])\n",
        "        print(t1)\n",
        "        dictionary[col]=np.abs(t-t1)/((t+t1)/2)"
      ],
      "metadata": {
        "colab": {
          "base_uri": "https://localhost:8080/"
        },
        "id": "LsycfIToFsmc",
        "outputId": "a3f9a3e1-7eec-40ba-e48a-588286be870c"
      },
      "execution_count": null,
      "outputs": [
        {
          "output_type": "stream",
          "name": "stdout",
          "text": [
            "nan\n",
            "nan\n",
            "nan\n",
            "nan\n",
            "nan\n",
            "nan\n",
            "nan\n",
            "nan\n",
            "nan\n",
            "nan\n",
            "nan\n",
            "nan\n",
            "nan\n",
            "nan\n",
            "nan\n",
            "nan\n",
            "nan\n",
            "nan\n",
            "nan\n",
            "nan\n",
            "nan\n",
            "nan\n",
            "nan\n",
            "nan\n",
            "nan\n",
            "nan\n",
            "nan\n",
            "nan\n",
            "nan\n",
            "nan\n",
            "nan\n",
            "nan\n",
            "nan\n",
            "nan\n",
            "nan\n",
            "nan\n",
            "nan\n",
            "nan\n",
            "nan\n",
            "nan\n",
            "nan\n",
            "nan\n",
            "nan\n",
            "nan\n",
            "nan\n",
            "nan\n",
            "nan\n",
            "nan\n",
            "nan\n",
            "nan\n"
          ]
        }
      ]
    },
    {
      "cell_type": "code",
      "source": [
        "print(dictionary)"
      ],
      "metadata": {
        "colab": {
          "base_uri": "https://localhost:8080/"
        },
        "id": "49bZIdeLHC0J",
        "outputId": "4cd82031-bc5f-479b-d5ee-fa3a7e15219d"
      },
      "execution_count": null,
      "outputs": [
        {
          "output_type": "stream",
          "name": "stdout",
          "text": [
            "{'TRAN_AMT': nan, 'ACCT_PRE_TRAN_AVAIL_BAL': nan, 'CUST_AGE': nan, 'OPEN_ACCT_CT': nan, 'WF_dvc_age': nan, 'CARR_NAME': nan, 'ALERT_TRGR_CD': nan, 'CUST_ZIP': nan, 'pwd_up_numeric': nan, 'ph_num_up_numeric': nan, 'cst_since_numeric': nan, 'Tran_TS_Numeric': nan, 'cst_diff_tran': nan, 'phn_diff_tran': nan, 'pwd_diff_tran': nan, 'Device_MOBILE': nan, 'Device_NoDevice': nan, 'Device_PHONE': nan, 'Device_TABLET': nan, 'auth_prim_AFA_PL': nan, 'auth_prim_FACE_ID': nan, 'auth_prim_TOUCH_ID': nan, 'auth_prim_UN_PWD': nan, 'auth_sec_CHALLENGE_ISSUED': nan, 'auth_sec_CHALLENGE_SUCCESS': nan}\n"
          ]
        }
      ]
    },
    {
      "cell_type": "code",
      "source": [
        "t=list(dictionary.values())"
      ],
      "metadata": {
        "id": "3eG2WgnGGeFY"
      },
      "execution_count": null,
      "outputs": []
    },
    {
      "cell_type": "code",
      "source": [
        "t.sort(reverse=True)"
      ],
      "metadata": {
        "id": "iIrWqAusGiaY"
      },
      "execution_count": null,
      "outputs": []
    },
    {
      "cell_type": "code",
      "source": [
        "m=t[:10]"
      ],
      "metadata": {
        "id": "RUofcuiHGneX"
      },
      "execution_count": null,
      "outputs": []
    },
    {
      "cell_type": "code",
      "source": [
        "for i in m:\n",
        "    print([k for k,v in dictionary.items() if v==i])"
      ],
      "metadata": {
        "colab": {
          "base_uri": "https://localhost:8080/"
        },
        "id": "HJs2xd0oGtK1",
        "outputId": "de83c076-4a9d-4005-cd1e-b1e12bb9fcd0"
      },
      "execution_count": null,
      "outputs": [
        {
          "output_type": "stream",
          "name": "stdout",
          "text": [
            "[]\n",
            "[]\n",
            "[]\n",
            "[]\n",
            "[]\n",
            "[]\n",
            "[]\n",
            "[]\n",
            "[]\n",
            "[]\n"
          ]
        }
      ]
    }
  ]
}