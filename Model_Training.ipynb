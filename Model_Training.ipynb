{
  "cells": [
    {
      "cell_type": "code",
      "execution_count": null,
      "metadata": {
        "id": "cYWNiqrJv3B1"
      },
      "outputs": [],
      "source": [
        "import pandas as pd\n",
        "import numpy as np\n",
        "import seaborn as sns\n",
        "import matplotlib.pyplot as plt\n"
      ]
    },
    {
      "cell_type": "code",
      "execution_count": null,
      "metadata": {
        "id": "mU3MHFR_D-hg"
      },
      "outputs": [],
      "source": [
        "wellsfargo = pd.read_excel(\"/content/final (3).xlsx\") "
      ]
    },
    {
      "cell_type": "code",
      "execution_count": null,
      "metadata": {
        "colab": {
          "base_uri": "https://localhost:8080/"
        },
        "id": "PlPb917Wm4_6",
        "outputId": "bcfdc1a1-3d9a-48bb-9f30-5783577b6123"
      },
      "outputs": [
        {
          "output_type": "stream",
          "name": "stdout",
          "text": [
            "(13491, 39)\n",
            "Index(['TRAN_AMT', 'ACCT_PRE_TRAN_AVAIL_BAL', 'CUST_AGE', 'OPEN_ACCT_CT',\n",
            "       'WF_dvc_age', 'PWD_UPDT_TS', 'RGN_NAME', 'STATE_PRVNC_TXT',\n",
            "       'ALERT_TRGR_CD', 'CUST_ZIP', 'CUST_STATE', 'PH_NUM_UPDT_TS',\n",
            "       'CUST_SINCE_DT', 'TRAN_TS', 'TRAN_DT', 'ACTN_CD', 'ACTN_INTNL_TXT',\n",
            "       'TRAN_TYPE_CD', 'ACTVY_DT', 'FRAUD_NONFRAUD', 'pwd_up_numeric',\n",
            "       'ph_num_up_numeric', 'cst_since_numeric', 'Tran_TS_Numeric',\n",
            "       'cst_diff_tran', 'phn_diff_tran', 'pwd_diff_tran',\n",
            "       'Carrier_Popular Carrier', 'Carrier_Unknown Carrier', 'Device_MOBILE',\n",
            "       'Device_NoDevice', 'Device_PHONE', 'Device_TABLET', 'auth_prim_AFA_PL',\n",
            "       'auth_prim_FACE_ID', 'auth_prim_TOUCH_ID', 'auth_prim_UN_PWD',\n",
            "       'auth_sec_CHALLENGE_ISSUED', 'auth_sec_CHALLENGE_SUCCESS'],\n",
            "      dtype='object')\n"
          ]
        }
      ],
      "source": [
        "print(wellsfargo.shape) # get record and variable counts\n",
        "print(wellsfargo.columns) # get variable names"
      ]
    },
    {
      "cell_type": "code",
      "execution_count": null,
      "metadata": {
        "colab": {
          "base_uri": "https://localhost:8080/"
        },
        "id": "TPnxDUExNgqS",
        "outputId": "8e92582a-b22d-4c9f-a870-00c531c8242d"
      },
      "outputs": [
        {
          "output_type": "stream",
          "name": "stdout",
          "text": [
            "<class 'pandas.core.frame.DataFrame'>\n",
            "RangeIndex: 13491 entries, 0 to 13490\n",
            "Data columns (total 39 columns):\n",
            " #   Column                      Non-Null Count  Dtype         \n",
            "---  ------                      --------------  -----         \n",
            " 0   TRAN_AMT                    13491 non-null  float64       \n",
            " 1   ACCT_PRE_TRAN_AVAIL_BAL     13491 non-null  float64       \n",
            " 2   CUST_AGE                    13491 non-null  int64         \n",
            " 3   OPEN_ACCT_CT                13491 non-null  int64         \n",
            " 4   WF_dvc_age                  13491 non-null  int64         \n",
            " 5   PWD_UPDT_TS                 13491 non-null  datetime64[ns]\n",
            " 6   RGN_NAME                    11077 non-null  object        \n",
            " 7   STATE_PRVNC_TXT             11077 non-null  object        \n",
            " 8   ALERT_TRGR_CD               13491 non-null  int64         \n",
            " 9   CUST_ZIP                    13491 non-null  int64         \n",
            " 10  CUST_STATE                  13455 non-null  object        \n",
            " 11  PH_NUM_UPDT_TS              13491 non-null  datetime64[ns]\n",
            " 12  CUST_SINCE_DT               13491 non-null  datetime64[ns]\n",
            " 13  TRAN_TS                     13491 non-null  datetime64[ns]\n",
            " 14  TRAN_DT                     13491 non-null  object        \n",
            " 15  ACTN_CD                     13491 non-null  object        \n",
            " 16  ACTN_INTNL_TXT              13491 non-null  object        \n",
            " 17  TRAN_TYPE_CD                13491 non-null  object        \n",
            " 18  ACTVY_DT                    13491 non-null  object        \n",
            " 19  FRAUD_NONFRAUD              13491 non-null  object        \n",
            " 20  pwd_up_numeric              13491 non-null  int64         \n",
            " 21  ph_num_up_numeric           13491 non-null  int64         \n",
            " 22  cst_since_numeric           13491 non-null  int64         \n",
            " 23  Tran_TS_Numeric             13491 non-null  int64         \n",
            " 24  cst_diff_tran               13491 non-null  int64         \n",
            " 25  phn_diff_tran               13491 non-null  int64         \n",
            " 26  pwd_diff_tran               13491 non-null  int64         \n",
            " 27  Carrier_Popular Carrier     13491 non-null  int64         \n",
            " 28  Carrier_Unknown Carrier     13491 non-null  int64         \n",
            " 29  Device_MOBILE               13491 non-null  int64         \n",
            " 30  Device_NoDevice             13491 non-null  int64         \n",
            " 31  Device_PHONE                13491 non-null  int64         \n",
            " 32  Device_TABLET               13491 non-null  int64         \n",
            " 33  auth_prim_AFA_PL            13491 non-null  int64         \n",
            " 34  auth_prim_FACE_ID           13491 non-null  int64         \n",
            " 35  auth_prim_TOUCH_ID          13491 non-null  int64         \n",
            " 36  auth_prim_UN_PWD            13491 non-null  int64         \n",
            " 37  auth_sec_CHALLENGE_ISSUED   13491 non-null  int64         \n",
            " 38  auth_sec_CHALLENGE_SUCCESS  13491 non-null  int64         \n",
            "dtypes: datetime64[ns](4), float64(2), int64(24), object(9)\n",
            "memory usage: 4.0+ MB\n"
          ]
        }
      ],
      "source": [
        "wellsfargo.info()"
      ]
    },
    {
      "cell_type": "code",
      "execution_count": null,
      "metadata": {
        "id": "EjPT4vWRUgAb",
        "colab": {
          "base_uri": "https://localhost:8080/"
        },
        "outputId": "9f13515b-b914-4da3-b05f-6e4a5754b46e"
      },
      "outputs": [
        {
          "output_type": "stream",
          "name": "stderr",
          "text": [
            "/usr/local/lib/python3.7/dist-packages/ipykernel_launcher.py:3: SettingWithCopyWarning: \n",
            "A value is trying to be set on a copy of a slice from a DataFrame\n",
            "\n",
            "See the caveats in the documentation: https://pandas.pydata.org/pandas-docs/stable/user_guide/indexing.html#returning-a-view-versus-a-copy\n",
            "  This is separate from the ipykernel package so we can avoid doing imports until\n",
            "/usr/local/lib/python3.7/dist-packages/ipykernel_launcher.py:5: SettingWithCopyWarning: \n",
            "A value is trying to be set on a copy of a slice from a DataFrame\n",
            "\n",
            "See the caveats in the documentation: https://pandas.pydata.org/pandas-docs/stable/user_guide/indexing.html#returning-a-view-versus-a-copy\n",
            "  \"\"\"\n"
          ]
        }
      ],
      "source": [
        "for i in range(len(wellsfargo['FRAUD_NONFRAUD'])):\n",
        "  if wellsfargo['FRAUD_NONFRAUD'][i] == 'Non-Fraud':\n",
        "     wellsfargo['FRAUD_NONFRAUD'][i] = 0 \n",
        "  else:\n",
        "     wellsfargo['FRAUD_NONFRAUD'][i] = 1"
      ]
    },
    {
      "cell_type": "code",
      "source": [
        "wellsfargo['FRAUD_NONFRAUD'][0:5]"
      ],
      "metadata": {
        "colab": {
          "base_uri": "https://localhost:8080/"
        },
        "id": "CYwIXwzEp89U",
        "outputId": "53719977-4349-4ff2-e12b-2dbd07f8e5bd"
      },
      "execution_count": null,
      "outputs": [
        {
          "output_type": "execute_result",
          "data": {
            "text/plain": [
              "0    0\n",
              "1    0\n",
              "2    1\n",
              "3    0\n",
              "4    1\n",
              "Name: FRAUD_NONFRAUD, dtype: object"
            ]
          },
          "metadata": {},
          "execution_count": 75
        }
      ]
    },
    {
      "cell_type": "code",
      "execution_count": null,
      "metadata": {
        "id": "37kDUedRSoXn"
      },
      "outputs": [],
      "source": [
        "wellsfargo = wellsfargo[['TRAN_AMT','ACCT_PRE_TRAN_AVAIL_BAL','CUST_AGE','cst_diff_tran','phn_diff_tran','pwd_diff_tran','Device_MOBILE','Device_NoDevice','Device_PHONE','Device_TABLET','auth_prim_AFA_PL','auth_prim_FACE_ID','auth_prim_TOUCH_ID','auth_prim_UN_PWD','auth_sec_CHALLENGE_ISSUED','auth_sec_CHALLENGE_SUCCESS','Carrier_Popular Carrier','Carrier_Unknown Carrier','FRAUD_NONFRAUD']]"
      ]
    },
    {
      "cell_type": "code",
      "source": [
        "a= ['TRAN_AMT','ACCT_PRE_TRAN_AVAIL_BAL','CUST_AGE','cst_diff_tran','phn_diff_tran','pwd_diff_tran','Device_MOBILE','Device_NoDevice','Device_PHONE','Device_TABLET','auth_prim_AFA_PL','auth_prim_FACE_ID','auth_prim_TOUCH_ID','auth_prim_UN_PWD','auth_sec_CHALLENGE_ISSUED','auth_sec_CHALLENGE_SUCCESS','Carrier_Popular Carrier','Carrier_Unknown Carrier','FRAUD_NONFRAUD']\n",
        "len(a)\n",
        "\n",
        "#b = ['TRAN_AMT','ACCT_PRE_TRAN_AVAIL_BAL','CUST_AGE','cst_diff_tran','phn_diff_tran','pwd_diff_tran','Device_MOBILE','Device_NoDevice','Device_PHONE','Device_TABLET','auth_prim_AFA_PL','auth_prim_FACE_ID','auth_prim_TOUCH_ID','auth_prim_UN_PWD','auth_sec_CHALLENGE_ISSUED','auth_sec_CHALLENGE_SUCCESS','Carrier_Popular Carrier','Carrier_Unknown Carrier','FRAUD_NONFRAUD']"
      ],
      "metadata": {
        "colab": {
          "base_uri": "https://localhost:8080/"
        },
        "id": "S_gmXM5AEdfC",
        "outputId": "9976e06e-d29d-4ba8-edab-3d90f6b4f555"
      },
      "execution_count": null,
      "outputs": [
        {
          "output_type": "execute_result",
          "data": {
            "text/plain": [
              "19"
            ]
          },
          "metadata": {},
          "execution_count": 77
        }
      ]
    },
    {
      "cell_type": "code",
      "source": [
        "wellsfargo.to_csv(\"/content/shyam_file.csv\", index= False)"
      ],
      "metadata": {
        "id": "skKrZ8oM6tc1"
      },
      "execution_count": null,
      "outputs": []
    },
    {
      "cell_type": "code",
      "execution_count": null,
      "metadata": {
        "id": "Eoh0HKSzQLp5"
      },
      "outputs": [],
      "source": [
        "X = wellsfargo.iloc[:,:18]\n",
        "y = wellsfargo.iloc[:, 18]\n"
      ]
    },
    {
      "cell_type": "code",
      "source": [
        "y[0:5]"
      ],
      "metadata": {
        "colab": {
          "base_uri": "https://localhost:8080/"
        },
        "id": "fjhlt4kFHOcH",
        "outputId": "e29cdfda-a609-4cad-82b8-478c654b8bf2"
      },
      "execution_count": null,
      "outputs": [
        {
          "output_type": "execute_result",
          "data": {
            "text/plain": [
              "0    0\n",
              "1    0\n",
              "2    1\n",
              "3    0\n",
              "4    1\n",
              "Name: FRAUD_NONFRAUD, dtype: object"
            ]
          },
          "metadata": {},
          "execution_count": 79
        }
      ]
    },
    {
      "cell_type": "code",
      "execution_count": null,
      "metadata": {
        "colab": {
          "base_uri": "https://localhost:8080/"
        },
        "id": "HFKr9cbzoTXr",
        "outputId": "3c5d2e08-c496-4da1-8d54-6067f7b669fc"
      },
      "outputs": [
        {
          "output_type": "execute_result",
          "data": {
            "text/plain": [
              "count     13491\n",
              "unique        2\n",
              "top           0\n",
              "freq       9836\n",
              "Name: FRAUD_NONFRAUD, dtype: int64"
            ]
          },
          "metadata": {},
          "execution_count": 57
        }
      ],
      "source": [
        "wellsfargo['FRAUD_NONFRAUD'].describe()"
      ]
    },
    {
      "cell_type": "code",
      "execution_count": null,
      "metadata": {
        "colab": {
          "base_uri": "https://localhost:8080/",
          "height": 855
        },
        "id": "hr8eY1aSlSsc",
        "outputId": "f526da2a-98bc-4e4e-9767-ba9451753288"
      },
      "outputs": [
        {
          "output_type": "display_data",
          "data": {
            "text/plain": [
              "<Figure size 1440x1440 with 1 Axes>"
            ],
            "image/png": "[encoded data removed]"
          },
          "metadata": {
            "needs_background": "light"
          }
        }
      ],
      "source": [
        "plt.figure(figsize=(20,20))\n",
        "sns.heatmap(wellsfargo.corr(),\n",
        "            annot=True,\n",
        "            linewidths=.5,\n",
        "            center=0,\n",
        "            cbar=False,\n",
        "            cmap=\"YlGnBu\")\n",
        "plt.show()"
      ]
    },
    {
      "cell_type": "code",
      "source": [
        "wellsfargo.head()"
      ],
      "metadata": {
        "colab": {
          "base_uri": "https://localhost:8080/",
          "height": 287
        },
        "id": "izVrBOBjoh4O",
        "outputId": "780b9144-fdc3-45de-d0d1-6d282c3a9089"
      },
      "execution_count": null,
      "outputs": [
        {
          "output_type": "execute_result",
          "data": {
            "text/plain": [
              "   TRAN_AMT  ACCT_PRE_TRAN_AVAIL_BAL  CUST_AGE  cst_diff_tran  phn_diff_tran  \\\n",
              "0      5.38                 23619.91         0      893786638        5882928   \n",
              "1     65.19                     0.00         0     1578511177     1578511177   \n",
              "2     54.84                 34570.63         0      857814171       60856452   \n",
              "3      0.01                     0.00         1      624036511       78309774   \n",
              "4    497.08                 12725.18         1     1085137964       35858738   \n",
              "\n",
              "   pwd_diff_tran  Device_MOBILE  Device_NoDevice  Device_PHONE  Device_TABLET  \\\n",
              "0      103964400              0                1             0              0   \n",
              "1     1578511177              0                1             0              0   \n",
              "2      -22294800              0                0             0              0   \n",
              "3       47462400              1                0             0              0   \n",
              "4       15634800              1                0             0              0   \n",
              "\n",
              "   auth_prim_AFA_PL  auth_prim_FACE_ID  auth_prim_TOUCH_ID  auth_prim_UN_PWD  \\\n",
              "0                 0                  0                   0                 1   \n",
              "1                 0                  1                   0                 0   \n",
              "2                 0                  0                   0                 1   \n",
              "3                 0                  0                   0                 1   \n",
              "4                 0                  0                   0                 1   \n",
              "\n",
              "   auth_sec_CHALLENGE_ISSUED  auth_sec_CHALLENGE_SUCCESS  \\\n",
              "0                          0                           0   \n",
              "1                          0                           0   \n",
              "2                          0                           0   \n",
              "3                          0                           0   \n",
              "4                          0                           1   \n",
              "\n",
              "   Carrier_Popular Carrier  Carrier_Unknown Carrier FRAUD_NONFRAUD  \n",
              "0                        1                        0              0  \n",
              "1                        1                        0              0  \n",
              "2                        0                        0              1  \n",
              "3                        1                        0              0  \n",
              "4                        0                        0              1  "
            ],
            "text/html": [
              "\n",
              "  <div id=\"df-17500634-8e73-489f-924d-72f7165a306e\">\n",
              "    <div class=\"colab-df-container\">\n",
              "      <div>\n",
              "<style scoped>\n",
              "    .dataframe tbody tr th:only-of-type {\n",
              "        vertical-align: middle;\n",
              "    }\n",
              "\n",
              "    .dataframe tbody tr th {\n",
              "        vertical-align: top;\n",
              "    }\n",
              "\n",
              "    .dataframe thead th {\n",
              "        text-align: right;\n",
              "    }\n",
              "</style>\n",
              "<table border=\"1\" class=\"dataframe\">\n",
              "  <thead>\n",
              "    <tr style=\"text-align: right;\">\n",
              "      <th></th>\n",
              "      <th>TRAN_AMT</th>\n",
              "      <th>ACCT_PRE_TRAN_AVAIL_BAL</th>\n",
              "      <th>CUST_AGE</th>\n",
              "      <th>cst_diff_tran</th>\n",
              "      <th>phn_diff_tran</th>\n",
              "      <th>pwd_diff_tran</th>\n",
              "      <th>Device_MOBILE</th>\n",
              "      <th>Device_NoDevice</th>\n",
              "      <th>Device_PHONE</th>\n",
              "      <th>Device_TABLET</th>\n",
              "      <th>auth_prim_AFA_PL</th>\n",
              "      <th>auth_prim_FACE_ID</th>\n",
              "      <th>auth_prim_TOUCH_ID</th>\n",
              "      <th>auth_prim_UN_PWD</th>\n",
              "      <th>auth_sec_CHALLENGE_ISSUED</th>\n",
              "      <th>auth_sec_CHALLENGE_SUCCESS</th>\n",
              "      <th>Carrier_Popular Carrier</th>\n",
              "      <th>Carrier_Unknown Carrier</th>\n",
              "      <th>FRAUD_NONFRAUD</th>\n",
              "    </tr>\n",
              "  </thead>\n",
              "  <tbody>\n",
              "    <tr>\n",
              "      <th>0</th>\n",
              "      <td>5.38</td>\n",
              "      <td>23619.91</td>\n",
              "      <td>0</td>\n",
              "      <td>893786638</td>\n",
              "      <td>5882928</td>\n",
              "      <td>103964400</td>\n",
              "      <td>0</td>\n",
              "      <td>1</td>\n",
              "      <td>0</td>\n",
              "      <td>0</td>\n",
              "      <td>0</td>\n",
              "      <td>0</td>\n",
              "      <td>0</td>\n",
              "      <td>1</td>\n",
              "      <td>0</td>\n",
              "      <td>0</td>\n",
              "      <td>1</td>\n",
              "      <td>0</td>\n",
              "      <td>0</td>\n",
              "    </tr>\n",
              "    <tr>\n",
              "      <th>1</th>\n",
              "      <td>65.19</td>\n",
              "      <td>0.00</td>\n",
              "      <td>0</td>\n",
              "      <td>1578511177</td>\n",
              "      <td>1578511177</td>\n",
              "      <td>1578511177</td>\n",
              "      <td>0</td>\n",
              "      <td>1</td>\n",
              "      <td>0</td>\n",
              "      <td>0</td>\n",
              "      <td>0</td>\n",
              "      <td>1</td>\n",
              "      <td>0</td>\n",
              "      <td>0</td>\n",
              "      <td>0</td>\n",
              "      <td>0</td>\n",
              "      <td>1</td>\n",
              "      <td>0</td>\n",
              "      <td>0</td>\n",
              "    </tr>\n",
              "    <tr>\n",
              "      <th>2</th>\n",
              "      <td>54.84</td>\n",
              "      <td>34570.63</td>\n",
              "      <td>0</td>\n",
              "      <td>857814171</td>\n",
              "      <td>60856452</td>\n",
              "      <td>-22294800</td>\n",
              "      <td>0</td>\n",
              "      <td>0</td>\n",
              "      <td>0</td>\n",
              "      <td>0</td>\n",
              "      <td>0</td>\n",
              "      <td>0</td>\n",
              "      <td>0</td>\n",
              "      <td>1</td>\n",
              "      <td>0</td>\n",
              "      <td>0</td>\n",
              "      <td>0</td>\n",
              "      <td>0</td>\n",
              "      <td>1</td>\n",
              "    </tr>\n",
              "    <tr>\n",
              "      <th>3</th>\n",
              "      <td>0.01</td>\n",
              "      <td>0.00</td>\n",
              "      <td>1</td>\n",
              "      <td>624036511</td>\n",
              "      <td>78309774</td>\n",
              "      <td>47462400</td>\n",
              "      <td>1</td>\n",
              "      <td>0</td>\n",
              "      <td>0</td>\n",
              "      <td>0</td>\n",
              "      <td>0</td>\n",
              "      <td>0</td>\n",
              "      <td>0</td>\n",
              "      <td>1</td>\n",
              "      <td>0</td>\n",
              "      <td>0</td>\n",
              "      <td>1</td>\n",
              "      <td>0</td>\n",
              "      <td>0</td>\n",
              "    </tr>\n",
              "    <tr>\n",
              "      <th>4</th>\n",
              "      <td>497.08</td>\n",
              "      <td>12725.18</td>\n",
              "      <td>1</td>\n",
              "      <td>1085137964</td>\n",
              "      <td>35858738</td>\n",
              "      <td>15634800</td>\n",
              "      <td>1</td>\n",
              "      <td>0</td>\n",
              "      <td>0</td>\n",
              "      <td>0</td>\n",
              "      <td>0</td>\n",
              "      <td>0</td>\n",
              "      <td>0</td>\n",
              "      <td>1</td>\n",
              "      <td>0</td>\n",
              "      <td>1</td>\n",
              "      <td>0</td>\n",
              "      <td>0</td>\n",
              "      <td>1</td>\n",
              "    </tr>\n",
              "  </tbody>\n",
              "</table>\n",
              "</div>\n",
              "      <button class=\"colab-df-convert\" onclick=\"convertToInteractive('df-17500634-8e73-489f-924d-72f7165a306e')\"\n",
              "              title=\"Convert this dataframe to an interactive table.\"\n",
              "              style=\"display:none;\">\n",
              "        \n",
              "  <svg xmlns=\"http://www.w3.org/2000/svg\" height=\"24px\"viewBox=\"0 0 24 24\"\n",
              "       width=\"24px\">\n",
              "    <path d=\"M0 0h24v24H0V0z\" fill=\"none\"/>\n",
              "    <path d=\"M18.56 5.44l.94 2.06.94-2.06 2.06-.94-2.06-.94-.94-2.06-.94 2.06-2.06.94zm-11 1L8.5 8.5l.94-2.06 2.06-.94-2.06-.94L8.5 2.5l-.94 2.06-2.06.94zm10 10l.94 2.06.94-2.06 2.06-.94-2.06-.94-.94-2.06-.94 2.06-2.06.94z\"/><path d=\"M17.41 7.96l-1.37-1.37c-.4-.4-.92-.59-1.43-.59-.52 0-1.04.2-1.43.59L10.3 9.45l-7.72 7.72c-.78.78-.78 2.05 0 2.83L4 21.41c.39.39.9.59 1.41.59.51 0 1.02-.2 1.41-.59l7.78-7.78 2.81-2.81c.8-.78.8-2.07 0-2.86zM5.41 20L4 18.59l7.72-7.72 1.47 1.35L5.41 20z\"/>\n",
              "  </svg>\n",
              "      </button>\n",
              "      \n",
              "  <style>\n",
              "    .colab-df-container {\n",
              "      display:flex;\n",
              "      flex-wrap:wrap;\n",
              "      gap: 12px;\n",
              "    }\n",
              "\n",
              "    .colab-df-convert {\n",
              "      background-color: #E8F0FE;\n",
              "      border: none;\n",
              "      border-radius: 50%;\n",
              "      cursor: pointer;\n",
              "      display: none;\n",
              "      fill: #1967D2;\n",
              "      height: 32px;\n",
              "      padding: 0 0 0 0;\n",
              "      width: 32px;\n",
              "    }\n",
              "\n",
              "    .colab-df-convert:hover {\n",
              "      background-color: #E2EBFA;\n",
              "      box-shadow: 0px 1px 2px rgba(60, 64, 67, 0.3), 0px 1px 3px 1px rgba(60, 64, 67, 0.15);\n",
              "      fill: #174EA6;\n",
              "    }\n",
              "\n",
              "    [theme=dark] .colab-df-convert {\n",
              "      background-color: #3B4455;\n",
              "      fill: #D2E3FC;\n",
              "    }\n",
              "\n",
              "    [theme=dark] .colab-df-convert:hover {\n",
              "      background-color: #434B5C;\n",
              "      box-shadow: 0px 1px 3px 1px rgba(0, 0, 0, 0.15);\n",
              "      filter: drop-shadow(0px 1px 2px rgba(0, 0, 0, 0.3));\n",
              "      fill: #FFFFFF;\n",
              "    }\n",
              "  </style>\n",
              "\n",
              "      <script>\n",
              "        const buttonEl =\n",
              "          document.querySelector('#df-17500634-8e73-489f-924d-72f7165a306e button.colab-df-convert');\n",
              "        buttonEl.style.display =\n",
              "          google.colab.kernel.accessAllowed ? 'block' : 'none';\n",
              "\n",
              "        async function convertToInteractive(key) {\n",
              "          const element = document.querySelector('#df-17500634-8e73-489f-924d-72f7165a306e');\n",
              "          const dataTable =\n",
              "            await google.colab.kernel.invokeFunction('convertToInteractive',\n",
              "                                                     [key], {});\n",
              "          if (!dataTable) return;\n",
              "\n",
              "          const docLinkHtml = 'Like what you see? Visit the ' +\n",
              "            '<a target=\"_blank\" href=https://colab.research.google.com/notebooks/data_table.ipynb>data table notebook</a>'\n",
              "            + ' to learn more about interactive tables.';\n",
              "          element.innerHTML = '';\n",
              "          dataTable['output_type'] = 'display_data';\n",
              "          await google.colab.output.renderOutput(dataTable, element);\n",
              "          const docLink = document.createElement('div');\n",
              "          docLink.innerHTML = docLinkHtml;\n",
              "          element.appendChild(docLink);\n",
              "        }\n",
              "      </script>\n",
              "    </div>\n",
              "  </div>\n",
              "  "
            ]
          },
          "metadata": {},
          "execution_count": 81
        }
      ]
    },
    {
      "cell_type": "code",
      "execution_count": null,
      "metadata": {
        "id": "cSSrO6Igfj-M"
      },
      "outputs": [],
      "source": [
        "# Splitting the X and Y into the\n",
        "# Training set and Testing set\n",
        "from sklearn.model_selection import train_test_split\n",
        "\n",
        "X_train, X_test, y_train, y_test = train_test_split(X, y, test_size = 0.2, random_state = 0)\n"
      ]
    },
    {
      "cell_type": "code",
      "execution_count": null,
      "metadata": {
        "id": "tebQmm5iQzGX"
      },
      "outputs": [],
      "source": [
        "# performing preprocessing part\n",
        "#from sklearn.preprocessing import StandardScaler\n",
        "#sc = StandardScaler()\n",
        " \n",
        "#X_train = sc.fit_transform(X_train)\n",
        "#X_test = sc.transform(X_test)"
      ]
    },
    {
      "cell_type": "code",
      "execution_count": null,
      "metadata": {
        "colab": {
          "base_uri": "https://localhost:8080/",
          "height": 363
        },
        "id": "V_C5inOFZHsS",
        "outputId": "187f1bd5-8c0b-4f60-81c2-fef90790e13d"
      },
      "outputs": [
        {
          "output_type": "error",
          "ename": "ValueError",
          "evalue": "ignored",
          "traceback": [
            "\u001b[0;31m---------------------------------------------------------------------------\u001b[0m",
            "\u001b[0;31mValueError\u001b[0m                                Traceback (most recent call last)",
            "\u001b[0;32m<ipython-input-83-7b6b2193d86a>\u001b[0m in \u001b[0;36m<module>\u001b[0;34m()\u001b[0m\n\u001b[1;32m      4\u001b[0m \u001b[0;34m\u001b[0m\u001b[0m\n\u001b[1;32m      5\u001b[0m \u001b[0mdt\u001b[0m \u001b[0;34m=\u001b[0m \u001b[0mDecisionTreeClassifier\u001b[0m\u001b[0;34m(\u001b[0m\u001b[0mrandom_state\u001b[0m \u001b[0;34m=\u001b[0m \u001b[0;36m0\u001b[0m\u001b[0;34m,\u001b[0m \u001b[0mcriterion\u001b[0m \u001b[0;34m=\u001b[0m \u001b[0;34m'entropy'\u001b[0m\u001b[0;34m)\u001b[0m\u001b[0;34m\u001b[0m\u001b[0;34m\u001b[0m\u001b[0m\n\u001b[0;32m----> 6\u001b[0;31m \u001b[0mdt\u001b[0m\u001b[0;34m.\u001b[0m\u001b[0mfit\u001b[0m\u001b[0;34m(\u001b[0m\u001b[0mX_train\u001b[0m\u001b[0;34m,\u001b[0m \u001b[0my_train\u001b[0m\u001b[0;34m)\u001b[0m\u001b[0;34m\u001b[0m\u001b[0;34m\u001b[0m\u001b[0m\n\u001b[0m\u001b[1;32m      7\u001b[0m \u001b[0mdt\u001b[0m\u001b[0;34m.\u001b[0m\u001b[0mscore\u001b[0m\u001b[0;34m(\u001b[0m\u001b[0mX_test\u001b[0m\u001b[0;34m,\u001b[0m \u001b[0my_test\u001b[0m\u001b[0;34m)\u001b[0m\u001b[0;34m,\u001b[0m \u001b[0mdt\u001b[0m\u001b[0;34m.\u001b[0m\u001b[0mscore\u001b[0m\u001b[0;34m(\u001b[0m\u001b[0mX_train\u001b[0m\u001b[0;34m,\u001b[0m \u001b[0my_train\u001b[0m\u001b[0;34m)\u001b[0m\u001b[0;34m\u001b[0m\u001b[0;34m\u001b[0m\u001b[0m\n",
            "\u001b[0;32m/usr/local/lib/python3.7/dist-packages/sklearn/tree/_classes.py\u001b[0m in \u001b[0;36mfit\u001b[0;34m(self, X, y, sample_weight, check_input, X_idx_sorted)\u001b[0m\n\u001b[1;32m    940\u001b[0m             \u001b[0msample_weight\u001b[0m\u001b[0;34m=\u001b[0m\u001b[0msample_weight\u001b[0m\u001b[0;34m,\u001b[0m\u001b[0;34m\u001b[0m\u001b[0;34m\u001b[0m\u001b[0m\n\u001b[1;32m    941\u001b[0m             \u001b[0mcheck_input\u001b[0m\u001b[0;34m=\u001b[0m\u001b[0mcheck_input\u001b[0m\u001b[0;34m,\u001b[0m\u001b[0;34m\u001b[0m\u001b[0;34m\u001b[0m\u001b[0m\n\u001b[0;32m--> 942\u001b[0;31m             \u001b[0mX_idx_sorted\u001b[0m\u001b[0;34m=\u001b[0m\u001b[0mX_idx_sorted\u001b[0m\u001b[0;34m,\u001b[0m\u001b[0;34m\u001b[0m\u001b[0;34m\u001b[0m\u001b[0m\n\u001b[0m\u001b[1;32m    943\u001b[0m         )\n\u001b[1;32m    944\u001b[0m         \u001b[0;32mreturn\u001b[0m \u001b[0mself\u001b[0m\u001b[0;34m\u001b[0m\u001b[0;34m\u001b[0m\u001b[0m\n",
            "\u001b[0;32m/usr/local/lib/python3.7/dist-packages/sklearn/tree/_classes.py\u001b[0m in \u001b[0;36mfit\u001b[0;34m(self, X, y, sample_weight, check_input, X_idx_sorted)\u001b[0m\n\u001b[1;32m    201\u001b[0m \u001b[0;34m\u001b[0m\u001b[0m\n\u001b[1;32m    202\u001b[0m         \u001b[0;32mif\u001b[0m \u001b[0mis_classification\u001b[0m\u001b[0;34m:\u001b[0m\u001b[0;34m\u001b[0m\u001b[0;34m\u001b[0m\u001b[0m\n\u001b[0;32m--> 203\u001b[0;31m             \u001b[0mcheck_classification_targets\u001b[0m\u001b[0;34m(\u001b[0m\u001b[0my\u001b[0m\u001b[0;34m)\u001b[0m\u001b[0;34m\u001b[0m\u001b[0;34m\u001b[0m\u001b[0m\n\u001b[0m\u001b[1;32m    204\u001b[0m             \u001b[0my\u001b[0m \u001b[0;34m=\u001b[0m \u001b[0mnp\u001b[0m\u001b[0;34m.\u001b[0m\u001b[0mcopy\u001b[0m\u001b[0;34m(\u001b[0m\u001b[0my\u001b[0m\u001b[0;34m)\u001b[0m\u001b[0;34m\u001b[0m\u001b[0;34m\u001b[0m\u001b[0m\n\u001b[1;32m    205\u001b[0m \u001b[0;34m\u001b[0m\u001b[0m\n",
            "\u001b[0;32m/usr/local/lib/python3.7/dist-packages/sklearn/utils/multiclass.py\u001b[0m in \u001b[0;36mcheck_classification_targets\u001b[0;34m(y)\u001b[0m\n\u001b[1;32m    195\u001b[0m         \u001b[0;34m\"multilabel-sequences\"\u001b[0m\u001b[0;34m,\u001b[0m\u001b[0;34m\u001b[0m\u001b[0;34m\u001b[0m\u001b[0m\n\u001b[1;32m    196\u001b[0m     ]:\n\u001b[0;32m--> 197\u001b[0;31m         \u001b[0;32mraise\u001b[0m \u001b[0mValueError\u001b[0m\u001b[0;34m(\u001b[0m\u001b[0;34m\"Unknown label type: %r\"\u001b[0m \u001b[0;34m%\u001b[0m \u001b[0my_type\u001b[0m\u001b[0;34m)\u001b[0m\u001b[0;34m\u001b[0m\u001b[0;34m\u001b[0m\u001b[0m\n\u001b[0m\u001b[1;32m    198\u001b[0m \u001b[0;34m\u001b[0m\u001b[0m\n\u001b[1;32m    199\u001b[0m \u001b[0;34m\u001b[0m\u001b[0m\n",
            "\u001b[0;31mValueError\u001b[0m: Unknown label type: 'unknown'"
          ]
        }
      ],
      "source": [
        "#khevana part- Chapter 7- Decision Trees\n",
        "\n",
        "from sklearn.tree import DecisionTreeClassifier\n",
        "\n",
        "dt = DecisionTreeClassifier(random_state = 0, criterion = 'entropy')\n",
        "dt.fit(X_train, y_train)\n",
        "dt.score(X_test, y_test), dt.score(X_train, y_train)\n"
      ]
    },
    {
      "cell_type": "code",
      "execution_count": null,
      "metadata": {
        "colab": {
          "base_uri": "https://localhost:8080/"
        },
        "id": "I2T0IYTMcwOG",
        "outputId": "0d2f8c1f-68b6-48ec-e424-c3bc0dd962ee"
      },
      "outputs": [
        {
          "output_type": "execute_result",
          "data": {
            "text/plain": [
              "array([0.13122115, 0.14678919, 0.01666895, 0.06769898, 0.10547769,\n",
              "       0.00591041, 0.00740798, 0.01588302, 0.11227786, 0.11235211,\n",
              "       0.10036101, 0.11283161, 0.02539257, 0.00370126, 0.0012522 ,\n",
              "       0.00490046, 0.00438442, 0.00781258, 0.00772898, 0.00994755,\n",
              "       0.        ])"
            ]
          },
          "metadata": {},
          "execution_count": 16
        }
      ],
      "source": [
        "dt.feature_importances_"
      ]
    },
    {
      "cell_type": "code",
      "execution_count": null,
      "metadata": {
        "colab": {
          "base_uri": "https://localhost:8080/"
        },
        "id": "z-_1MF_-nMCX",
        "outputId": "57a76347-a440-4e79-e817-1c0d049bf0fc"
      },
      "outputs": [
        {
          "output_type": "stream",
          "name": "stdout",
          "text": [
            "0.08058608058608058\n",
            "0.07333333333333333\n",
            "0.08943089430894309\n",
            "0.9070025935531678\n"
          ]
        }
      ],
      "source": [
        "from sklearn.metrics import f1_score\n",
        "y_test_predicted= dt.predict(X_test)\n",
        "a = f1_score(y_test,y_test_predicted)\n",
        "print(a)\n",
        "#precision and recall\n",
        "from sklearn.metrics import precision_score\n",
        "print(precision_score(y_test, y_test_predicted))\n",
        "from sklearn.metrics import recall_score\n",
        "print(recall_score(y_test, y_test_predicted))\n",
        "from sklearn.metrics import accuracy_score\n",
        "print(accuracy_score(y_test, y_test_predicted))"
      ]
    },
    {
      "cell_type": "code",
      "source": [
        "from sklearn.metrics import confusion_matrix\n",
        "confusion_matrix(y_test,y_test_predicted)"
      ],
      "metadata": {
        "colab": {
          "base_uri": "https://localhost:8080/"
        },
        "id": "htBBAQNH7oC8",
        "outputId": "11bc4c05-911c-4eb7-ab28-a827a0d122cc"
      },
      "execution_count": null,
      "outputs": [
        {
          "output_type": "execute_result",
          "data": {
            "text/plain": [
              "array([[2437,  139],\n",
              "       [ 112,   11]])"
            ]
          },
          "metadata": {},
          "execution_count": 19
        }
      ]
    },
    {
      "cell_type": "code",
      "source": [
        "tn, fp, fn, tp =confusion_matrix(y_test,y_test_predicted).ravel()\n",
        "print(\"TN\",tn,\"FP\",fp,\"FN\",fn,\"TP\",tp)"
      ],
      "metadata": {
        "colab": {
          "base_uri": "https://localhost:8080/"
        },
        "id": "ZxPVl62Gm-Wd",
        "outputId": "2b2c0942-d2c3-41cc-d117-e71966b2ad55"
      },
      "execution_count": null,
      "outputs": [
        {
          "output_type": "stream",
          "name": "stdout",
          "text": [
            "TN 2437 FP 139 FN 112 TP 11\n"
          ]
        }
      ]
    },
    {
      "cell_type": "code",
      "source": [
        "from sklearn.linear_model import LogisticRegression\n",
        "model1 = LogisticRegression()\n",
        "\n",
        "model1.fit(X_train,y_train)\n",
        "model1.score(X_test,y_test)"
      ],
      "metadata": {
        "colab": {
          "base_uri": "https://localhost:8080/",
          "height": 363
        },
        "id": "DdpxDz_1uA71",
        "outputId": "6e7c4b00-6d7e-4938-9072-7de4f4fc37cb"
      },
      "execution_count": null,
      "outputs": [
        {
          "output_type": "error",
          "ename": "ValueError",
          "evalue": "ignored",
          "traceback": [
            "\u001b[0;31m---------------------------------------------------------------------------\u001b[0m",
            "\u001b[0;31mValueError\u001b[0m                                Traceback (most recent call last)",
            "\u001b[0;32m<ipython-input-69-594e1a45fef7>\u001b[0m in \u001b[0;36m<module>\u001b[0;34m()\u001b[0m\n\u001b[1;32m      2\u001b[0m \u001b[0mmodel1\u001b[0m \u001b[0;34m=\u001b[0m \u001b[0mLogisticRegression\u001b[0m\u001b[0;34m(\u001b[0m\u001b[0;34m)\u001b[0m\u001b[0;34m\u001b[0m\u001b[0;34m\u001b[0m\u001b[0m\n\u001b[1;32m      3\u001b[0m \u001b[0;34m\u001b[0m\u001b[0m\n\u001b[0;32m----> 4\u001b[0;31m \u001b[0mmodel1\u001b[0m\u001b[0;34m.\u001b[0m\u001b[0mfit\u001b[0m\u001b[0;34m(\u001b[0m\u001b[0mX_train\u001b[0m\u001b[0;34m,\u001b[0m\u001b[0my_train\u001b[0m\u001b[0;34m)\u001b[0m\u001b[0;34m\u001b[0m\u001b[0;34m\u001b[0m\u001b[0m\n\u001b[0m\u001b[1;32m      5\u001b[0m \u001b[0mmodel1\u001b[0m\u001b[0;34m.\u001b[0m\u001b[0mscore\u001b[0m\u001b[0;34m(\u001b[0m\u001b[0mX_test\u001b[0m\u001b[0;34m,\u001b[0m\u001b[0my_test\u001b[0m\u001b[0;34m)\u001b[0m\u001b[0;34m\u001b[0m\u001b[0;34m\u001b[0m\u001b[0m\n",
            "\u001b[0;32m/usr/local/lib/python3.7/dist-packages/sklearn/linear_model/_logistic.py\u001b[0m in \u001b[0;36mfit\u001b[0;34m(self, X, y, sample_weight)\u001b[0m\n\u001b[1;32m   1514\u001b[0m             \u001b[0maccept_large_sparse\u001b[0m\u001b[0;34m=\u001b[0m\u001b[0msolver\u001b[0m \u001b[0;32mnot\u001b[0m \u001b[0;32min\u001b[0m \u001b[0;34m[\u001b[0m\u001b[0;34m\"liblinear\"\u001b[0m\u001b[0;34m,\u001b[0m \u001b[0;34m\"sag\"\u001b[0m\u001b[0;34m,\u001b[0m \u001b[0;34m\"saga\"\u001b[0m\u001b[0;34m]\u001b[0m\u001b[0;34m,\u001b[0m\u001b[0;34m\u001b[0m\u001b[0;34m\u001b[0m\u001b[0m\n\u001b[1;32m   1515\u001b[0m         )\n\u001b[0;32m-> 1516\u001b[0;31m         \u001b[0mcheck_classification_targets\u001b[0m\u001b[0;34m(\u001b[0m\u001b[0my\u001b[0m\u001b[0;34m)\u001b[0m\u001b[0;34m\u001b[0m\u001b[0;34m\u001b[0m\u001b[0m\n\u001b[0m\u001b[1;32m   1517\u001b[0m         \u001b[0mself\u001b[0m\u001b[0;34m.\u001b[0m\u001b[0mclasses_\u001b[0m \u001b[0;34m=\u001b[0m \u001b[0mnp\u001b[0m\u001b[0;34m.\u001b[0m\u001b[0munique\u001b[0m\u001b[0;34m(\u001b[0m\u001b[0my\u001b[0m\u001b[0;34m)\u001b[0m\u001b[0;34m\u001b[0m\u001b[0;34m\u001b[0m\u001b[0m\n\u001b[1;32m   1518\u001b[0m \u001b[0;34m\u001b[0m\u001b[0m\n",
            "\u001b[0;32m/usr/local/lib/python3.7/dist-packages/sklearn/utils/multiclass.py\u001b[0m in \u001b[0;36mcheck_classification_targets\u001b[0;34m(y)\u001b[0m\n\u001b[1;32m    195\u001b[0m         \u001b[0;34m\"multilabel-sequences\"\u001b[0m\u001b[0;34m,\u001b[0m\u001b[0;34m\u001b[0m\u001b[0;34m\u001b[0m\u001b[0m\n\u001b[1;32m    196\u001b[0m     ]:\n\u001b[0;32m--> 197\u001b[0;31m         \u001b[0;32mraise\u001b[0m \u001b[0mValueError\u001b[0m\u001b[0;34m(\u001b[0m\u001b[0;34m\"Unknown label type: %r\"\u001b[0m \u001b[0;34m%\u001b[0m \u001b[0my_type\u001b[0m\u001b[0;34m)\u001b[0m\u001b[0;34m\u001b[0m\u001b[0;34m\u001b[0m\u001b[0m\n\u001b[0m\u001b[1;32m    198\u001b[0m \u001b[0;34m\u001b[0m\u001b[0m\n\u001b[1;32m    199\u001b[0m \u001b[0;34m\u001b[0m\u001b[0m\n",
            "\u001b[0;31mValueError\u001b[0m: Unknown label type: 'unknown'"
          ]
        }
      ]
    },
    {
      "cell_type": "code",
      "source": [
        "from sklearn.metrics import f1_score\n",
        "y_test_predicted= model1.predict(X_test)\n",
        "a = f1_score(y_test,y_test_predicted)\n",
        "print(a)\n",
        "#precision and recall\n",
        "from sklearn.metrics import precision_score\n",
        "print(precision_score(y_test, y_test_predicted))\n",
        "from sklearn.metrics import recall_score\n",
        "print(recall_score(y_test, y_test_predicted))\n",
        "from sklearn.metrics import accuracy_score\n",
        "print(accuracy_score(y_test, y_test_predicted))"
      ],
      "metadata": {
        "colab": {
          "base_uri": "https://localhost:8080/"
        },
        "id": "DHv2SYyeunEL",
        "outputId": "55a3acbb-e19d-494f-d285-981d0ea65374"
      },
      "execution_count": null,
      "outputs": [
        {
          "output_type": "stream",
          "name": "stdout",
          "text": [
            "0.0\n",
            "0.0\n",
            "0.0\n",
            "0.9544275657650981\n"
          ]
        },
        {
          "output_type": "stream",
          "name": "stderr",
          "text": [
            "/usr/local/lib/python3.7/dist-packages/sklearn/metrics/_classification.py:1318: UndefinedMetricWarning: Precision is ill-defined and being set to 0.0 due to no predicted samples. Use `zero_division` parameter to control this behavior.\n",
            "  _warn_prf(average, modifier, msg_start, len(result))\n"
          ]
        }
      ]
    },
    {
      "cell_type": "code",
      "source": [
        "tn, fp, fn, tp =confusion_matrix(y_test,y_test_predicted).ravel()\n",
        "print(\"TN\",tn,\"FP\",fp,\"FN\",fn,\"TP\",tp)"
      ],
      "metadata": {
        "colab": {
          "base_uri": "https://localhost:8080/"
        },
        "id": "59xtM2Pbu-ew",
        "outputId": "15f7de13-8341-4de5-ece4-624ec57e5ccf"
      },
      "execution_count": null,
      "outputs": [
        {
          "output_type": "stream",
          "name": "stdout",
          "text": [
            "TN 2576 FP 0 FN 123 TP 0\n"
          ]
        }
      ]
    },
    {
      "cell_type": "code",
      "source": [
        "print(list(y_test))\n",
        "print(list(y_test_predicted))"
      ],
      "metadata": {
        "colab": {
          "base_uri": "https://localhost:8080/"
        },
        "id": "eKbty4Nq814i",
        "outputId": "55377ca9-a829-4905-ef2b-335f56b88880"
      },
      "execution_count": null,
      "outputs": [
        {
          "output_type": "stream",
          "name": "stdout",
          "text": [
            "[0, 0, 0, 0, 0, 0, 0, 0, 0, 0, 0, 0, 0, 1, 0, 0, 0, 0, 0, 0, 0, 0, 0, 0, 0, 0, 0, 0, 0, 0, 0, 0, 0, 0, 0, 0, 0, 0, 0, 0, 0, 0, 0, 0, 0, 0, 0, 0, 0, 0, 0, 0, 0, 0, 0, 0, 0, 0, 0, 0, 0, 0, 0, 0, 0, 0, 0, 0, 0, 0, 0, 0, 0, 0, 0, 0, 0, 0, 0, 0, 0, 0, 0, 0, 0, 0, 0, 0, 0, 0, 0, 0, 0, 0, 0, 0, 0, 0, 0, 0, 0, 0, 0, 0, 0, 0, 0, 0, 1, 0, 0, 0, 0, 0, 0, 0, 0, 0, 0, 0, 0, 0, 0, 0, 0, 0, 0, 0, 0, 0, 0, 0, 0, 0, 0, 0, 0, 0, 1, 0, 0, 0, 0, 0, 0, 0, 0, 0, 0, 0, 0, 0, 0, 0, 0, 0, 0, 0, 0, 0, 0, 0, 0, 0, 0, 0, 0, 0, 0, 0, 0, 0, 0, 0, 0, 0, 0, 0, 0, 0, 0, 0, 0, 0, 0, 0, 0, 0, 0, 0, 0, 0, 0, 0, 0, 0, 0, 0, 0, 0, 0, 0, 0, 0, 0, 0, 0, 0, 0, 0, 0, 0, 0, 0, 0, 0, 0, 1, 0, 0, 0, 0, 0, 0, 0, 0, 0, 0, 0, 0, 0, 1, 0, 0, 0, 0, 0, 0, 0, 1, 0, 0, 0, 0, 0, 0, 0, 0, 0, 0, 0, 0, 0, 0, 0, 0, 0, 0, 0, 0, 0, 0, 0, 0, 0, 0, 0, 0, 0, 0, 0, 0, 0, 0, 0, 0, 0, 0, 0, 0, 0, 0, 0, 0, 0, 1, 0, 0, 0, 0, 0, 0, 0, 0, 0, 0, 0, 0, 0, 0, 0, 0, 0, 0, 0, 0, 0, 0, 0, 0, 0, 0, 0, 0, 0, 0, 0, 0, 0, 0, 0, 0, 0, 0, 0, 0, 0, 0, 0, 0, 0, 0, 0, 0, 0, 0, 0, 0, 0, 0, 0, 0, 0, 0, 0, 0, 0, 0, 1, 0, 0, 0, 0, 0, 0, 0, 1, 0, 0, 0, 0, 0, 0, 0, 0, 0, 0, 0, 0, 0, 0, 0, 0, 0, 0, 0, 0, 1, 0, 1, 0, 0, 0, 0, 0, 0, 0, 0, 0, 0, 0, 0, 0, 0, 0, 0, 0, 0, 0, 0, 0, 0, 0, 0, 0, 0, 0, 0, 0, 0, 0, 0, 0, 0, 0, 0, 0, 0, 0, 0, 0, 0, 0, 0, 0, 0, 0, 0, 0, 1, 0, 0, 0, 0, 0, 0, 0, 0, 0, 0, 0, 0, 0, 0, 0, 0, 0, 0, 0, 0, 0, 0, 0, 0, 0, 0, 0, 0, 0, 0, 0, 0, 0, 0, 0, 0, 0, 0, 0, 0, 0, 0, 0, 0, 0, 0, 0, 0, 0, 0, 0, 0, 1, 0, 0, 0, 0, 1, 0, 0, 0, 0, 0, 0, 0, 0, 0, 0, 0, 0, 0, 0, 0, 0, 0, 0, 0, 0, 0, 0, 0, 0, 0, 0, 0, 0, 0, 0, 0, 0, 0, 0, 0, 0, 0, 0, 0, 0, 0, 0, 0, 0, 0, 0, 1, 0, 0, 0, 0, 0, 0, 0, 0, 0, 0, 0, 0, 0, 0, 0, 0, 0, 0, 0, 0, 0, 0, 0, 0, 0, 0, 0, 0, 0, 0, 0, 0, 0, 0, 0, 0, 0, 0, 0, 0, 0, 0, 0, 0, 0, 0, 0, 0, 0, 1, 1, 0, 0, 0, 0, 0, 0, 0, 0, 0, 0, 0, 0, 0, 0, 0, 0, 0, 1, 0, 0, 0, 1, 0, 0, 0, 0, 0, 0, 0, 0, 0, 0, 0, 0, 0, 0, 1, 0, 1, 0, 0, 0, 0, 0, 0, 0, 0, 0, 0, 0, 0, 1, 0, 0, 0, 0, 0, 0, 0, 0, 0, 0, 0, 0, 0, 0, 0, 0, 0, 0, 0, 0, 0, 0, 0, 0, 0, 0, 0, 0, 0, 0, 1, 0, 0, 0, 0, 0, 0, 0, 0, 0, 0, 0, 0, 0, 0, 0, 0, 0, 0, 0, 0, 0, 0, 0, 1, 0, 0, 0, 0, 0, 0, 0, 0, 0, 0, 0, 0, 0, 0, 0, 0, 0, 0, 0, 0, 1, 0, 0, 0, 0, 0, 0, 0, 0, 1, 0, 0, 0, 0, 0, 0, 0, 1, 0, 0, 0, 0, 0, 0, 0, 0, 0, 0, 0, 0, 0, 0, 0, 0, 0, 0, 0, 0, 0, 0, 0, 0, 0, 0, 0, 0, 0, 0, 0, 0, 0, 0, 0, 0, 0, 0, 0, 0, 0, 0, 0, 0, 0, 0, 0, 0, 0, 0, 0, 0, 1, 0, 0, 0, 0, 0, 0, 0, 0, 0, 0, 0, 0, 0, 0, 0, 0, 0, 0, 0, 0, 0, 0, 0, 0, 0, 0, 0, 0, 0, 1, 0, 1, 0, 0, 0, 0, 0, 0, 0, 0, 0, 0, 0, 0, 0, 0, 0, 0, 0, 0, 0, 0, 0, 0, 0, 0, 0, 0, 0, 0, 0, 0, 1, 1, 0, 0, 1, 1, 0, 0, 1, 0, 0, 0, 0, 0, 0, 0, 0, 0, 0, 0, 0, 0, 0, 0, 0, 0, 0, 0, 0, 0, 0, 0, 1, 0, 0, 0, 0, 0, 0, 0, 0, 0, 0, 0, 0, 0, 0, 0, 0, 0, 0, 0, 0, 0, 0, 0, 0, 0, 0, 0, 0, 0, 0, 0, 0, 0, 0, 0, 1, 0, 0, 0, 0, 0, 0, 0, 0, 0, 1, 0, 0, 0, 0, 0, 0, 0, 0, 0, 0, 0, 0, 0, 0, 0, 0, 0, 0, 0, 0, 0, 0, 0, 0, 0, 0, 0, 0, 0, 0, 0, 0, 0, 0, 0, 0, 0, 0, 0, 0, 0, 0, 0, 0, 1, 0, 0, 0, 0, 0, 0, 0, 0, 0, 0, 0, 0, 0, 0, 0, 0, 0, 0, 1, 0, 0, 0, 0, 0, 0, 0, 0, 0, 0, 0, 0, 0, 0, 0, 0, 0, 0, 0, 0, 0, 0, 1, 0, 0, 0, 1, 0, 0, 0, 0, 0, 1, 0, 0, 0, 0, 0, 0, 0, 0, 0, 0, 0, 1, 0, 0, 0, 0, 0, 1, 0, 0, 0, 0, 0, 0, 0, 0, 0, 0, 1, 0, 0, 0, 0, 0, 0, 0, 0, 0, 0, 0, 0, 0, 0, 0, 0, 0, 0, 0, 0, 0, 0, 0, 0, 0, 0, 0, 0, 0, 0, 0, 0, 0, 0, 0, 0, 0, 0, 0, 0, 0, 0, 0, 0, 0, 0, 0, 0, 0, 0, 0, 0, 0, 0, 0, 0, 0, 0, 0, 0, 0, 0, 0, 0, 0, 0, 0, 0, 0, 0, 0, 0, 0, 0, 0, 0, 0, 0, 0, 0, 0, 0, 0, 0, 0, 0, 0, 0, 0, 0, 0, 0, 0, 0, 1, 0, 0, 0, 0, 0, 0, 0, 1, 0, 0, 0, 0, 1, 0, 0, 0, 0, 0, 0, 0, 0, 0, 0, 0, 0, 0, 0, 0, 0, 0, 0, 0, 0, 0, 0, 0, 0, 0, 0, 0, 0, 0, 0, 0, 0, 0, 0, 0, 0, 0, 0, 0, 0, 0, 1, 0, 0, 0, 0, 0, 0, 0, 0, 0, 0, 0, 0, 0, 0, 0, 0, 0, 0, 0, 0, 0, 0, 1, 0, 0, 0, 0, 0, 0, 0, 1, 0, 0, 0, 0, 0, 0, 0, 0, 0, 0, 0, 0, 1, 0, 0, 0, 0, 0, 0, 0, 0, 0, 0, 0, 0, 0, 0, 0, 0, 1, 1, 0, 1, 0, 0, 0, 0, 0, 0, 0, 0, 0, 0, 0, 0, 0, 0, 0, 0, 0, 0, 0, 0, 0, 0, 0, 0, 0, 0, 0, 0, 0, 0, 0, 0, 0, 0, 0, 0, 0, 0, 0, 0, 0, 0, 0, 0, 0, 0, 0, 0, 0, 1, 0, 0, 0, 0, 0, 0, 0, 0, 0, 0, 0, 0, 0, 0, 0, 0, 0, 0, 0, 0, 0, 0, 0, 0, 0, 0, 0, 0, 0, 0, 0, 1, 0, 1, 0, 1, 1, 0, 0, 0, 1, 0, 0, 0, 0, 0, 0, 0, 0, 0, 0, 0, 0, 0, 0, 0, 1, 0, 1, 0, 0, 0, 0, 0, 0, 0, 0, 1, 0, 0, 0, 0, 0, 0, 0, 0, 0, 0, 0, 0, 0, 0, 0, 0, 0, 0, 0, 0, 0, 0, 0, 0, 0, 0, 0, 0, 0, 0, 0, 0, 0, 0, 0, 0, 0, 0, 0, 0, 0, 0, 0, 0, 0, 0, 0, 0, 0, 0, 1, 0, 1, 0, 0, 0, 0, 0, 0, 0, 0, 0, 0, 1, 0, 0, 0, 0, 0, 0, 0, 0, 0, 0, 0, 0, 0, 0, 0, 0, 0, 1, 0, 0, 0, 0, 0, 0, 0, 1, 0, 0, 0, 0, 0, 0, 0, 0, 0, 0, 0, 0, 0, 0, 0, 0, 0, 0, 0, 0, 0, 0, 0, 0, 0, 0, 0, 0, 0, 0, 1, 0, 0, 0, 0, 0, 0, 0, 0, 0, 0, 0, 0, 0, 0, 0, 0, 0, 0, 0, 0, 0, 0, 0, 1, 0, 0, 0, 0, 0, 0, 0, 0, 0, 0, 0, 1, 0, 0, 0, 0, 0, 0, 0, 0, 0, 0, 0, 0, 0, 0, 0, 0, 0, 0, 0, 0, 0, 0, 0, 0, 0, 0, 0, 0, 0, 0, 0, 0, 0, 0, 0, 0, 0, 0, 0, 0, 0, 0, 0, 0, 0, 0, 0, 0, 0, 0, 0, 0, 0, 0, 0, 1, 0, 0, 0, 0, 0, 0, 0, 0, 0, 0, 0, 0, 0, 0, 0, 0, 0, 0, 0, 0, 0, 0, 0, 0, 0, 0, 0, 0, 0, 0, 1, 0, 0, 1, 1, 0, 0, 0, 0, 0, 0, 0, 0, 0, 0, 1, 0, 0, 0, 0, 0, 0, 0, 0, 0, 0, 0, 0, 0, 0, 0, 0, 0, 0, 0, 0, 0, 0, 0, 0, 0, 0, 0, 0, 0, 0, 0, 0, 0, 0, 0, 0, 0, 1, 0, 0, 0, 0, 0, 0, 0, 1, 0, 0, 0, 0, 0, 0, 0, 0, 0, 0, 0, 0, 0, 0, 0, 0, 0, 0, 0, 0, 0, 0, 0, 0, 1, 0, 0, 0, 0, 0, 0, 0, 0, 0, 0, 0, 0, 0, 0, 0, 0, 0, 0, 0, 1, 0, 0, 0, 0, 0, 0, 0, 0, 0, 0, 0, 0, 0, 0, 0, 0, 0, 0, 0, 0, 0, 0, 0, 0, 0, 0, 0, 0, 0, 0, 0, 0, 0, 0, 0, 0, 0, 0, 0, 0, 0, 0, 0, 0, 0, 0, 0, 0, 0, 0, 0, 0, 0, 0, 0, 0, 0, 0, 0, 0, 0, 0, 0, 1, 0, 0, 0, 0, 0, 0, 0, 0, 0, 0, 1, 0, 0, 0, 0, 0, 0, 0, 1, 0, 0, 0, 0, 0, 0, 0, 0, 0, 0, 0, 0, 0, 0, 0, 0, 0, 0, 0, 0, 0, 0, 0, 0, 0, 0, 0, 0, 0, 0, 0, 0, 0, 0, 0, 0, 0, 0, 0, 0, 0, 0, 0, 0, 0, 0, 0, 0, 0, 0, 0, 1, 0, 0, 0, 0, 0, 0, 0, 0, 0, 0, 0, 0, 0, 0, 0, 0, 0, 0, 1, 0, 0, 0, 0, 0, 0, 1, 0, 0, 0, 0, 0, 0, 0, 0, 0, 0, 0, 0, 0, 0, 0, 0, 0, 0, 0, 0, 0, 0, 0, 0, 0, 0, 0, 1, 0, 0, 0, 0, 0, 0, 0, 0, 0, 0, 0, 0, 0, 0, 0, 0, 0, 0, 1, 0, 0, 0, 0, 0, 0, 0, 0, 0, 0, 0, 0, 0, 0, 0, 0, 0, 0, 0, 0, 0, 0, 0, 1, 0, 0, 0, 0, 0, 0, 1, 0, 0, 0, 0, 0, 0, 0, 0, 0, 0, 0, 1, 1, 0, 0, 0, 1, 0, 0, 0, 0, 0, 0, 0, 0, 0, 0, 0, 0, 0, 0, 0, 0, 0, 0, 0, 1, 1, 0, 0, 0, 0, 0, 0, 0, 0, 0, 0, 0, 0, 0, 0, 0, 0, 0, 0, 0, 0, 0, 0, 0, 0, 0, 0, 0, 0, 0, 0, 0, 0, 0, 0, 0, 0, 0, 1, 0, 0, 1, 0, 0, 0, 0, 0, 0, 0, 0, 0, 0, 0, 0, 1, 0, 1, 0, 0, 0, 0, 0, 0, 0, 1, 0, 0, 0, 0, 0, 0, 0, 0, 0, 0, 0, 0, 0, 0, 0, 0, 0, 0, 0, 0, 0, 0, 0, 0, 0, 0, 0, 0, 0, 0, 0, 0, 0, 0, 0, 0, 0, 0, 0, 0, 0, 0, 0, 0, 0, 0, 0, 0, 0, 0, 0, 0, 0, 0, 0, 0, 0, 0, 0, 0, 0, 0, 0, 0, 0, 0, 0, 0, 0, 0, 0, 0, 0, 0, 0, 0, 0, 0, 0, 0, 0, 0, 0, 0, 0, 0, 0, 0, 0, 0, 0, 0, 0, 0, 0, 0, 0, 0, 0, 0, 0, 0, 0, 1, 0, 0, 1, 0, 0, 0, 0, 0, 0, 0, 0, 0, 0, 0, 0, 0, 0, 0, 0, 0, 0, 0, 0, 0, 0, 0, 1, 0, 0, 0, 0, 0, 0, 0, 0, 0, 0, 0, 0, 0, 0, 0, 0, 0, 0, 0, 0, 0, 0, 0, 0, 0, 1, 0, 0, 0, 0, 0, 0, 0, 0, 0, 0, 0, 0, 0, 0, 0, 0, 0, 0, 0, 0, 0, 0, 0, 0, 0, 0, 0, 0, 0, 0, 0, 0, 0, 0, 0, 0, 0, 0, 0, 0, 0, 0, 1, 0, 0, 0, 0, 0, 0, 0, 0, 1, 0, 0, 0, 0, 0, 0, 0, 0, 0, 0, 0, 0, 0, 0, 0, 0, 0, 0, 0, 0, 0, 0, 0, 0, 0, 0, 0, 0, 0, 0, 0, 0, 0, 0, 0, 0, 0, 0, 0, 0, 0, 0, 0, 0, 0, 0, 0, 0, 0, 0, 0, 0, 0, 0, 0, 0, 0, 0, 0, 0, 0, 0, 0, 0, 0, 0, 0, 0, 0, 0, 1, 0, 0, 0, 0, 0, 0, 0, 0, 0, 0, 0, 0, 0, 0, 0, 0, 0, 0, 0, 0, 0, 0, 0, 0, 0, 0, 0, 0, 0, 0, 0, 0, 0, 0, 0, 0, 0, 0, 0, 0, 1, 0, 0, 0, 0, 0, 0, 0, 0, 0, 0, 0, 0, 0, 0, 0, 0, 0, 0, 0, 0, 1, 0, 0, 0, 0, 1, 0, 1, 0, 0, 0, 0, 0, 0, 0, 0, 0, 0, 0, 0, 0, 0, 0, 0, 0, 0, 0, 0, 0, 0, 0, 0, 0, 0, 0, 0, 0, 0, 0, 0, 0, 0, 0, 0, 0, 0, 0, 0, 0, 0, 0, 0, 0, 0, 0, 0, 0, 0, 0, 0, 0, 0, 0, 0, 0, 0, 0, 0, 0, 0, 0, 0, 1, 0, 1, 1, 0, 0, 0, 0, 0, 0, 0, 0, 0, 0, 0, 0, 0, 0, 0, 0, 0, 0, 0, 0, 0, 0, 0, 0, 0, 0, 0, 0, 0, 0, 0, 0, 0, 0, 0, 0, 0, 0, 0, 0, 0, 0, 0, 1, 0, 0, 0, 1, 0, 0, 0, 0, 0, 0, 0, 0, 0, 0, 0, 0, 0, 0, 0, 0, 0, 0, 0, 0, 0, 0, 0, 0, 0, 1, 0, 0, 0, 0, 0, 0, 0, 0, 0, 0, 0, 0, 0, 0, 0, 0, 0, 0, 0, 0, 0, 0, 0, 0, 0, 0, 0, 1, 0, 0, 0, 0, 0, 0, 0, 0, 0, 0, 0, 0, 0, 0, 0, 0, 0, 0, 0, 0, 0, 0, 0, 1, 0, 0, 0, 0, 0, 0, 0, 0, 0, 0, 0, 0, 0, 0, 0, 0, 0, 0, 0, 0, 0, 0, 0, 0, 0, 0, 0, 0, 0, 0, 0, 0, 0, 0, 0, 0, 1, 0, 0, 0, 0, 1, 0, 0, 0, 0, 0, 0, 0, 0, 0, 0, 0, 0, 0, 0, 0, 0, 0, 0, 0, 0, 0, 0, 0, 0, 0, 0, 0, 0, 0, 0, 0, 0, 0, 0, 0, 0, 0, 0, 0, 0]\n",
            "[0, 0, 0, 0, 0, 0, 0, 0, 0, 0, 0, 0, 0, 0, 0, 0, 0, 0, 0, 0, 1, 0, 0, 0, 0, 0, 1, 0, 0, 0, 0, 0, 0, 0, 0, 0, 0, 0, 0, 0, 0, 0, 0, 0, 0, 0, 0, 0, 0, 0, 0, 0, 0, 0, 0, 0, 0, 0, 0, 0, 0, 0, 0, 0, 0, 0, 0, 0, 0, 0, 0, 0, 0, 1, 0, 0, 0, 0, 0, 0, 0, 0, 0, 0, 0, 0, 0, 0, 0, 0, 0, 0, 0, 0, 0, 1, 0, 0, 0, 0, 0, 0, 0, 0, 0, 0, 0, 0, 0, 0, 0, 0, 0, 0, 0, 0, 0, 0, 0, 0, 0, 0, 0, 0, 0, 1, 0, 0, 0, 0, 0, 0, 0, 0, 0, 0, 0, 0, 0, 0, 0, 0, 0, 0, 0, 0, 0, 0, 0, 0, 1, 0, 0, 0, 1, 0, 0, 0, 0, 0, 0, 0, 0, 0, 0, 0, 0, 1, 0, 0, 0, 0, 0, 0, 0, 0, 0, 0, 0, 0, 0, 0, 0, 0, 0, 0, 0, 0, 1, 0, 0, 0, 0, 0, 0, 0, 0, 1, 0, 0, 0, 0, 0, 0, 0, 0, 0, 0, 0, 0, 1, 0, 0, 0, 0, 0, 0, 0, 0, 0, 0, 0, 0, 0, 0, 0, 0, 0, 0, 0, 0, 0, 0, 0, 0, 0, 0, 0, 0, 1, 0, 0, 0, 0, 0, 0, 0, 0, 0, 0, 0, 0, 0, 0, 0, 0, 0, 0, 0, 0, 0, 0, 0, 0, 0, 0, 0, 1, 0, 0, 0, 0, 0, 0, 0, 0, 0, 0, 0, 0, 0, 0, 0, 0, 0, 0, 0, 0, 0, 0, 0, 0, 0, 0, 0, 0, 0, 0, 0, 0, 0, 0, 0, 0, 0, 0, 0, 0, 0, 0, 0, 0, 0, 1, 0, 0, 0, 0, 0, 0, 0, 0, 0, 0, 0, 1, 0, 0, 0, 0, 1, 0, 0, 0, 0, 0, 0, 0, 0, 0, 0, 0, 0, 0, 0, 0, 0, 0, 0, 0, 0, 0, 0, 0, 0, 1, 0, 0, 0, 0, 0, 0, 0, 0, 0, 0, 0, 0, 0, 0, 0, 0, 0, 0, 0, 0, 0, 0, 0, 0, 0, 0, 0, 0, 1, 0, 0, 0, 0, 0, 0, 0, 0, 0, 0, 0, 1, 0, 0, 0, 0, 0, 0, 0, 1, 0, 0, 0, 0, 0, 0, 0, 0, 0, 0, 0, 0, 0, 0, 0, 0, 0, 0, 0, 0, 0, 0, 0, 0, 0, 0, 0, 0, 0, 0, 0, 0, 0, 0, 0, 0, 0, 0, 0, 0, 0, 0, 1, 0, 0, 0, 0, 0, 0, 0, 0, 0, 0, 0, 0, 0, 0, 0, 0, 0, 0, 0, 1, 0, 0, 0, 0, 0, 0, 0, 0, 0, 0, 0, 0, 0, 0, 0, 0, 0, 0, 0, 1, 0, 0, 0, 0, 0, 0, 0, 1, 0, 0, 0, 0, 0, 0, 0, 0, 0, 0, 0, 0, 0, 0, 0, 0, 0, 0, 0, 0, 1, 0, 0, 0, 0, 0, 1, 0, 0, 0, 1, 1, 0, 0, 0, 0, 0, 0, 0, 0, 0, 0, 0, 0, 0, 0, 0, 0, 0, 0, 0, 0, 0, 0, 1, 1, 0, 0, 0, 0, 0, 0, 0, 0, 0, 0, 0, 0, 0, 0, 0, 0, 0, 0, 0, 0, 0, 0, 0, 0, 0, 0, 0, 0, 0, 0, 0, 0, 0, 0, 0, 0, 0, 0, 0, 0, 1, 0, 0, 0, 0, 0, 0, 0, 0, 0, 0, 0, 0, 0, 1, 0, 0, 0, 0, 0, 0, 0, 0, 0, 0, 0, 0, 0, 0, 0, 0, 0, 0, 0, 0, 0, 0, 0, 0, 0, 0, 0, 0, 0, 0, 0, 0, 0, 0, 0, 0, 0, 0, 0, 0, 0, 0, 0, 0, 0, 0, 0, 0, 0, 0, 0, 0, 0, 0, 0, 0, 1, 0, 0, 0, 0, 1, 0, 0, 1, 0, 0, 0, 0, 0, 0, 0, 0, 0, 0, 0, 0, 0, 0, 0, 0, 0, 0, 0, 0, 0, 0, 0, 0, 0, 0, 0, 0, 0, 0, 0, 0, 0, 0, 0, 0, 0, 0, 1, 0, 0, 0, 0, 0, 0, 0, 0, 0, 0, 0, 0, 0, 0, 0, 0, 0, 0, 0, 0, 0, 0, 0, 0, 0, 0, 0, 0, 0, 0, 0, 0, 0, 1, 0, 0, 0, 0, 0, 0, 0, 0, 0, 0, 0, 0, 0, 0, 0, 0, 0, 0, 0, 0, 0, 0, 0, 0, 0, 0, 0, 0, 0, 0, 0, 0, 0, 0, 0, 0, 0, 0, 0, 0, 0, 0, 0, 0, 0, 1, 0, 0, 0, 0, 0, 0, 0, 0, 0, 0, 0, 0, 0, 0, 0, 0, 0, 0, 0, 0, 0, 0, 0, 0, 0, 0, 1, 0, 0, 0, 1, 0, 0, 0, 0, 0, 0, 0, 0, 0, 0, 0, 0, 0, 0, 1, 0, 0, 0, 1, 0, 0, 0, 0, 0, 0, 0, 0, 0, 0, 0, 0, 0, 0, 0, 0, 0, 1, 0, 0, 0, 0, 0, 0, 0, 0, 0, 0, 0, 0, 0, 0, 0, 0, 0, 0, 0, 0, 0, 0, 1, 0, 0, 0, 0, 0, 0, 0, 0, 0, 0, 0, 1, 0, 0, 0, 0, 0, 0, 0, 0, 0, 0, 0, 0, 0, 0, 0, 0, 0, 0, 0, 1, 0, 0, 0, 0, 0, 0, 0, 0, 0, 0, 0, 0, 0, 0, 0, 0, 0, 0, 1, 0, 0, 0, 0, 1, 0, 0, 0, 0, 0, 0, 0, 0, 0, 0, 0, 1, 0, 0, 0, 0, 1, 0, 0, 0, 0, 0, 0, 0, 0, 0, 0, 0, 0, 0, 0, 0, 0, 0, 0, 0, 0, 0, 0, 0, 0, 0, 0, 0, 0, 0, 1, 1, 1, 0, 0, 0, 0, 0, 0, 0, 0, 0, 0, 0, 0, 0, 0, 0, 0, 0, 0, 0, 1, 0, 0, 0, 0, 1, 0, 0, 0, 0, 0, 0, 0, 0, 0, 0, 0, 0, 0, 0, 0, 0, 0, 0, 0, 0, 0, 0, 0, 0, 0, 0, 0, 0, 0, 0, 0, 0, 0, 0, 0, 0, 0, 0, 0, 0, 0, 0, 0, 0, 0, 0, 0, 0, 0, 0, 0, 0, 0, 0, 0, 0, 0, 0, 0, 0, 0, 0, 0, 0, 0, 0, 0, 0, 0, 0, 0, 0, 0, 0, 0, 0, 0, 1, 0, 0, 0, 0, 0, 0, 0, 0, 0, 0, 0, 0, 0, 0, 0, 0, 0, 0, 0, 0, 0, 0, 0, 0, 0, 0, 0, 0, 0, 0, 0, 0, 0, 0, 0, 0, 0, 0, 0, 0, 0, 0, 0, 0, 0, 0, 0, 0, 0, 0, 0, 0, 0, 0, 0, 0, 0, 0, 0, 0, 0, 0, 0, 1, 1, 0, 0, 0, 0, 0, 0, 0, 0, 1, 0, 0, 0, 1, 0, 0, 0, 0, 0, 0, 0, 0, 0, 0, 0, 0, 0, 0, 1, 0, 0, 0, 0, 0, 0, 0, 0, 0, 0, 0, 0, 0, 0, 0, 0, 0, 0, 0, 0, 0, 0, 0, 0, 0, 0, 0, 0, 0, 0, 0, 0, 0, 0, 0, 0, 0, 0, 0, 0, 0, 0, 0, 0, 0, 0, 0, 1, 0, 0, 0, 0, 0, 0, 0, 0, 0, 0, 0, 0, 0, 0, 0, 0, 0, 1, 0, 0, 0, 0, 0, 1, 0, 0, 0, 0, 0, 0, 1, 0, 0, 0, 1, 0, 0, 0, 0, 0, 0, 0, 0, 0, 0, 0, 0, 0, 1, 0, 0, 0, 0, 0, 1, 0, 0, 0, 0, 0, 0, 0, 0, 1, 0, 0, 0, 0, 0, 1, 0, 0, 0, 0, 0, 0, 0, 0, 0, 0, 0, 0, 0, 0, 0, 0, 0, 0, 0, 0, 0, 0, 0, 0, 0, 0, 0, 0, 0, 0, 0, 0, 0, 0, 0, 0, 1, 0, 0, 0, 0, 0, 0, 0, 0, 0, 0, 0, 0, 0, 0, 0, 0, 0, 0, 0, 0, 1, 1, 0, 0, 0, 0, 0, 0, 0, 0, 0, 0, 0, 1, 0, 0, 0, 0, 0, 0, 0, 0, 0, 0, 0, 0, 0, 0, 0, 0, 0, 0, 0, 0, 0, 0, 0, 0, 0, 0, 0, 0, 0, 0, 0, 0, 0, 0, 0, 0, 0, 1, 0, 0, 0, 1, 1, 0, 0, 0, 0, 0, 0, 0, 0, 0, 0, 0, 0, 1, 0, 0, 0, 0, 0, 0, 0, 0, 0, 0, 0, 0, 0, 0, 0, 0, 0, 0, 0, 0, 0, 0, 0, 1, 0, 0, 0, 0, 0, 0, 0, 1, 0, 0, 0, 0, 0, 0, 0, 0, 0, 0, 0, 0, 0, 0, 0, 0, 0, 0, 1, 1, 0, 0, 0, 0, 0, 0, 0, 0, 0, 0, 0, 0, 0, 0, 0, 0, 0, 0, 0, 0, 0, 0, 0, 0, 0, 0, 0, 0, 0, 0, 0, 0, 0, 0, 1, 0, 0, 0, 0, 0, 0, 0, 0, 0, 0, 0, 0, 0, 0, 0, 0, 0, 0, 0, 0, 0, 0, 0, 0, 0, 0, 0, 1, 0, 0, 0, 0, 0, 0, 0, 0, 0, 0, 0, 0, 0, 0, 0, 0, 0, 0, 0, 0, 0, 0, 0, 0, 0, 0, 0, 0, 0, 0, 0, 0, 0, 0, 0, 0, 0, 1, 0, 0, 0, 0, 0, 0, 0, 0, 0, 0, 0, 0, 0, 0, 0, 0, 0, 0, 0, 0, 0, 0, 0, 0, 0, 0, 0, 0, 0, 1, 0, 0, 0, 0, 0, 0, 0, 0, 0, 0, 0, 0, 0, 0, 0, 0, 0, 0, 0, 0, 0, 0, 0, 0, 0, 0, 0, 0, 0, 0, 0, 0, 0, 0, 0, 0, 0, 0, 0, 0, 0, 1, 0, 0, 0, 0, 0, 0, 0, 0, 0, 0, 0, 0, 0, 0, 0, 0, 0, 0, 0, 0, 0, 0, 0, 0, 0, 0, 0, 0, 0, 0, 0, 0, 0, 0, 0, 0, 0, 0, 0, 0, 0, 0, 0, 0, 0, 1, 0, 0, 0, 0, 0, 0, 0, 0, 0, 0, 0, 0, 0, 1, 0, 0, 0, 0, 0, 0, 0, 0, 0, 0, 0, 0, 0, 0, 0, 0, 0, 0, 0, 0, 0, 0, 0, 0, 0, 0, 0, 0, 0, 0, 0, 0, 0, 0, 0, 0, 0, 0, 0, 0, 0, 0, 0, 0, 0, 0, 0, 0, 0, 0, 0, 0, 0, 0, 0, 0, 0, 0, 0, 0, 0, 0, 0, 0, 0, 0, 1, 0, 0, 0, 0, 0, 0, 0, 0, 0, 0, 0, 0, 0, 0, 0, 0, 0, 0, 0, 0, 0, 0, 0, 0, 0, 0, 1, 0, 0, 0, 0, 0, 1, 0, 0, 0, 0, 0, 0, 0, 0, 0, 0, 0, 0, 0, 0, 0, 0, 0, 0, 0, 0, 0, 0, 0, 0, 0, 0, 0, 0, 0, 0, 0, 0, 0, 0, 0, 0, 0, 0, 0, 0, 0, 0, 0, 0, 0, 0, 0, 0, 0, 0, 0, 0, 0, 0, 0, 0, 0, 0, 0, 0, 0, 0, 0, 0, 0, 0, 0, 0, 0, 0, 0, 0, 0, 0, 0, 0, 0, 0, 0, 0, 0, 0, 0, 1, 0, 0, 0, 0, 0, 0, 0, 0, 0, 0, 0, 1, 0, 0, 0, 0, 0, 0, 0, 0, 0, 0, 0, 0, 1, 0, 0, 0, 0, 0, 0, 0, 0, 0, 0, 0, 1, 0, 0, 0, 0, 0, 0, 0, 0, 0, 0, 0, 0, 0, 0, 0, 0, 0, 0, 0, 0, 0, 1, 0, 0, 0, 0, 0, 0, 0, 0, 1, 0, 0, 0, 0, 0, 0, 0, 0, 1, 0, 0, 0, 0, 0, 0, 0, 0, 0, 0, 0, 0, 0, 0, 0, 0, 0, 0, 0, 0, 0, 0, 0, 0, 0, 0, 0, 0, 0, 0, 0, 0, 0, 0, 0, 0, 0, 0, 0, 0, 0, 0, 0, 0, 0, 0, 0, 0, 0, 0, 0, 0, 0, 0, 0, 0, 0, 0, 0, 0, 0, 0, 0, 0, 0, 0, 0, 0, 0, 0, 0, 0, 0, 0, 0, 0, 0, 0, 0, 0, 0, 0, 0, 0, 0, 0, 0, 0, 0, 0, 0, 0, 0, 0, 0, 0, 0, 0, 0, 0, 0, 0, 0, 0, 0, 0, 0, 0, 0, 0, 0, 0, 0, 0, 0, 1, 0, 0, 0, 0, 0, 0, 0, 0, 0, 0, 0, 0, 0, 0, 0, 0, 0, 0, 0, 0, 0, 0, 0, 0, 0, 0, 0, 0, 0, 0, 0, 1, 0, 0, 0, 0, 0, 1, 0, 0, 0, 1, 0, 0, 0, 0, 1, 1, 0, 0, 0, 0, 0, 0, 0, 0, 0, 0, 0, 0, 0, 0, 0, 0, 0, 0, 0, 0, 0, 0, 0, 0, 0, 1, 0, 1, 0, 0, 0, 0, 0, 0, 0, 0, 0, 0, 0, 0, 0, 0, 0, 0, 0, 0, 0, 0, 0, 1, 0, 0, 0, 0, 0, 0, 0, 0, 0, 0, 0, 0, 0, 0, 0, 0, 0, 1, 0, 0, 0, 1, 0, 0, 0, 0, 0, 0, 0, 0, 0, 0, 0, 0, 0, 0, 0, 0, 0, 0, 0, 0, 0, 0, 0, 0, 0, 0, 0, 0, 0, 0, 0, 0, 0, 0, 0, 0, 0, 0, 0, 0, 0, 0, 0, 0, 0, 0, 0, 0, 0, 0, 0, 0, 0, 0, 0, 0, 0, 0, 0, 1, 0, 0, 0, 0, 0, 1, 0, 0, 0, 0, 0, 0, 0, 0, 0, 0, 0, 0, 0, 0, 0, 0, 0, 0, 0, 0, 0, 0, 0, 0, 0, 0, 0, 0, 0, 0, 0, 0, 0, 0, 0, 0, 0, 0, 0, 0, 0, 0, 0, 0, 0, 0, 0, 0, 0, 0, 1, 0, 0, 0, 0, 0, 0, 0, 0, 0, 0, 0, 0, 0, 0, 0, 0, 0, 0, 0, 0, 0, 0, 1, 0, 0, 0, 0, 0, 0, 0, 0, 0, 0, 0, 0, 0, 0, 0, 0, 0, 0, 0, 0, 0, 0, 0, 0, 0, 0, 0, 0, 0, 0, 1, 0, 0, 0, 0, 0, 0, 0, 0, 0, 0, 0, 0, 0, 0, 0, 1, 0, 0, 0, 0, 0, 1, 0, 0, 0, 0, 0, 0, 0, 0, 0, 0, 0, 0, 0, 0, 0, 0, 0, 0, 0, 0, 0, 0, 0, 0, 0, 0, 0, 0, 0, 0, 0, 0, 0, 0, 0, 0, 0, 0, 0, 0, 1, 0, 0, 0, 0, 1, 0, 0, 0, 0, 0, 0, 0, 0, 0, 0, 0, 0, 0, 0, 0, 0, 0, 0, 0, 0, 0, 0, 0, 0, 1, 0, 0, 0, 0, 1, 0, 0, 0, 0, 1, 0, 1, 0, 0, 0, 1, 0, 0, 0, 0, 0, 0, 0, 0, 0, 0, 0, 0, 0, 0, 0, 0, 0, 0, 0, 0, 0, 0, 0, 0, 0, 0, 0, 0, 0, 0, 0, 0, 0, 0, 0, 0, 0, 0, 0, 0, 0, 0, 0, 0, 0, 0, 0, 0, 0, 0, 0, 1, 0, 0, 0, 0, 0, 0, 0, 0, 0, 0, 0, 0, 0, 0, 0, 0, 0, 0, 0, 1, 0, 0, 0, 0, 0, 0, 0, 0, 0, 0, 0, 0, 1, 0, 0, 0, 0, 0, 0, 0, 0, 0, 0, 0, 0, 0, 0, 0, 0, 0, 0, 0, 0, 0, 0, 0, 0, 1, 0, 0, 0, 0, 0, 0, 0, 0, 0, 0, 0, 0, 0, 0, 0, 0, 0, 0, 0, 0, 0, 0, 0, 0, 0, 0, 0, 0, 0, 0, 0, 0, 0, 0, 0, 0, 0, 0, 0, 0, 0, 0, 0, 0, 0, 0, 0, 0, 0, 0, 0, 0, 0, 0, 0, 0, 0, 0, 0, 0, 0, 0, 0, 0, 0, 1, 0, 0, 0, 0, 0, 0, 0, 0, 0, 0, 0, 0, 0, 0, 0, 0, 0, 0, 0, 0, 0, 0, 0, 0, 0, 0, 0, 0, 0, 0, 0, 0, 0]\n"
          ]
        }
      ]
    },
    {
      "cell_type": "code",
      "source": [
        "from sklearn.ensemble import RandomForestClassifier\n",
        "\n",
        "rnd_clf = RandomForestClassifier(n_estimators=200, max_samples=100, random_state=42)\n",
        "rnd_clf.fit(X_train, y_train)\n",
        "\n",
        "print(rnd_clf.score(X_train, y_train))"
      ],
      "metadata": {
        "colab": {
          "base_uri": "https://localhost:8080/"
        },
        "id": "ip-sBziYumVR",
        "outputId": "ebe3752f-0784-4a3c-812b-a3ca0f4ca526"
      },
      "execution_count": null,
      "outputs": [
        {
          "output_type": "stream",
          "name": "stdout",
          "text": [
            "0.9543180133432172\n"
          ]
        }
      ]
    },
    {
      "cell_type": "code",
      "source": [
        "from sklearn.metrics import f1_score\n",
        "y1= rnd_clf.predict(X_test)\n",
        "a = f1_score(y_test,y1)\n",
        "print(a)\n",
        "#precision and recall\n",
        "from sklearn.metrics import precision_score\n",
        "print(precision_score(y_test, y1))\n",
        "from sklearn.metrics import recall_score\n",
        "print(recall_score(y_test, y1))\n",
        "from sklearn.metrics import accuracy_score\n",
        "print(accuracy_score(y_test, y1))"
      ],
      "metadata": {
        "colab": {
          "base_uri": "https://localhost:8080/"
        },
        "id": "YfJ0Np9_xAUy",
        "outputId": "b1eac84c-adcb-46fd-a3a6-3a85dd5ec164"
      },
      "execution_count": null,
      "outputs": [
        {
          "output_type": "stream",
          "name": "stdout",
          "text": [
            "0.0\n",
            "0.0\n",
            "0.0\n",
            "0.9544275657650981\n"
          ]
        },
        {
          "output_type": "stream",
          "name": "stderr",
          "text": [
            "/usr/local/lib/python3.7/dist-packages/sklearn/metrics/_classification.py:1318: UndefinedMetricWarning: Precision is ill-defined and being set to 0.0 due to no predicted samples. Use `zero_division` parameter to control this behavior.\n",
            "  _warn_prf(average, modifier, msg_start, len(result))\n"
          ]
        }
      ]
    },
    {
      "cell_type": "code",
      "source": [
        "!pip install h2o"
      ],
      "metadata": {
        "colab": {
          "base_uri": "https://localhost:8080/"
        },
        "id": "-57Jm_An9Qkc",
        "outputId": "abd688d6-bd51-47b1-8316-d84766b6de8a"
      },
      "execution_count": null,
      "outputs": [
        {
          "output_type": "stream",
          "name": "stdout",
          "text": [
            "Collecting h2o\n",
            "  Downloading h2o-3.36.1.1.tar.gz (177.0 MB)\n",
            "\u001b[K     |████████████████████████████████| 177.0 MB 21 kB/s \n",
            "\u001b[?25hRequirement already satisfied: requests in /usr/local/lib/python3.7/dist-packages (from h2o) (2.23.0)\n",
            "Requirement already satisfied: tabulate in /usr/local/lib/python3.7/dist-packages (from h2o) (0.8.9)\n",
            "Requirement already satisfied: future in /usr/local/lib/python3.7/dist-packages (from h2o) (0.16.0)\n",
            "Requirement already satisfied: certifi>=2017.4.17 in /usr/local/lib/python3.7/dist-packages (from requests->h2o) (2021.10.8)\n",
            "Requirement already satisfied: idna<3,>=2.5 in /usr/local/lib/python3.7/dist-packages (from requests->h2o) (2.10)\n",
            "Requirement already satisfied: chardet<4,>=3.0.2 in /usr/local/lib/python3.7/dist-packages (from requests->h2o) (3.0.4)\n",
            "Requirement already satisfied: urllib3!=1.25.0,!=1.25.1,<1.26,>=1.21.1 in /usr/local/lib/python3.7/dist-packages (from requests->h2o) (1.24.3)\n",
            "Building wheels for collected packages: h2o\n",
            "  Building wheel for h2o (setup.py) ... \u001b[?25l\u001b[?25hdone\n",
            "  Created wheel for h2o: filename=h2o-3.36.1.1-py2.py3-none-any.whl size=177068062 sha256=0a97e29baf7e6f2ec07d70ecd7e1096b8362b27113b563f147e8bab8c90e35bf\n",
            "  Stored in directory: /root/.cache/pip/wheels/a6/d9/ab/5442447c7e2ccf07f66aa8b79f3877ce5382f0b95e6c0c797b\n",
            "Successfully built h2o\n",
            "Installing collected packages: h2o\n",
            "Successfully installed h2o-3.36.1.1\n"
          ]
        }
      ]
    },
    {
      "cell_type": "code",
      "source": [
        "import h2o\n",
        "from h2o.automl import H2OAutoML"
      ],
      "metadata": {
        "id": "NO02QWTn99t1"
      },
      "execution_count": null,
      "outputs": []
    },
    {
      "cell_type": "code",
      "source": [
        "h2o.init()"
      ],
      "metadata": {
        "colab": {
          "base_uri": "https://localhost:8080/",
          "height": 516
        },
        "id": "YlFk9pn09-41",
        "outputId": "72139604-b4d0-4a1d-aa33-8fd90d321963"
      },
      "execution_count": null,
      "outputs": [
        {
          "output_type": "stream",
          "name": "stdout",
          "text": [
            "Checking whether there is an H2O instance running at http://localhost:54321 ..... not found.\n",
            "Attempting to start a local H2O server...\n",
            "  Java Version: openjdk version \"11.0.14.1\" 2022-02-08; OpenJDK Runtime Environment (build 11.0.14.1+1-Ubuntu-0ubuntu1.18.04); OpenJDK 64-Bit Server VM (build 11.0.14.1+1-Ubuntu-0ubuntu1.18.04, mixed mode, sharing)\n",
            "  Starting server from /usr/local/lib/python3.7/dist-packages/h2o/backend/bin/h2o.jar\n",
            "  Ice root: /tmp/tmp4_6qv6k9\n",
            "  JVM stdout: /tmp/tmp4_6qv6k9/h2o_unknownUser_started_from_python.out\n",
            "  JVM stderr: /tmp/tmp4_6qv6k9/h2o_unknownUser_started_from_python.err\n",
            "  Server is running at http://127.0.0.1:54321\n",
            "Connecting to H2O server at http://127.0.0.1:54321 ... successful.\n"
          ]
        },
        {
          "output_type": "display_data",
          "data": {
            "text/plain": [
              "--------------------------  ----------------------------------\n",
              "H2O_cluster_uptime:         06 secs\n",
              "H2O_cluster_timezone:       Etc/UTC\n",
              "H2O_data_parsing_timezone:  UTC\n",
              "H2O_cluster_version:        3.36.1.1\n",
              "H2O_cluster_version_age:    10 days\n",
              "H2O_cluster_name:           H2O_from_python_unknownUser_8gduhl\n",
              "H2O_cluster_total_nodes:    1\n",
              "H2O_cluster_free_memory:    3.172 Gb\n",
              "H2O_cluster_total_cores:    2\n",
              "H2O_cluster_allowed_cores:  2\n",
              "H2O_cluster_status:         locked, healthy\n",
              "H2O_connection_url:         http://127.0.0.1:54321\n",
              "H2O_connection_proxy:       {\"http\": null, \"https\": null}\n",
              "H2O_internal_security:      False\n",
              "Python_version:             3.7.13 final\n",
              "--------------------------  ----------------------------------"
            ],
            "text/html": [
              "<div style=\"overflow:auto\"><table style=\"width:50%\"><tr><td>H2O_cluster_uptime:</td>\n",
              "<td>06 secs</td></tr>\n",
              "<tr><td>H2O_cluster_timezone:</td>\n",
              "<td>Etc/UTC</td></tr>\n",
              "<tr><td>H2O_data_parsing_timezone:</td>\n",
              "<td>UTC</td></tr>\n",
              "<tr><td>H2O_cluster_version:</td>\n",
              "<td>3.36.1.1</td></tr>\n",
              "<tr><td>H2O_cluster_version_age:</td>\n",
              "<td>10 days </td></tr>\n",
              "<tr><td>H2O_cluster_name:</td>\n",
              "<td>H2O_from_python_unknownUser_8gduhl</td></tr>\n",
              "<tr><td>H2O_cluster_total_nodes:</td>\n",
              "<td>1</td></tr>\n",
              "<tr><td>H2O_cluster_free_memory:</td>\n",
              "<td>3.172 Gb</td></tr>\n",
              "<tr><td>H2O_cluster_total_cores:</td>\n",
              "<td>2</td></tr>\n",
              "<tr><td>H2O_cluster_allowed_cores:</td>\n",
              "<td>2</td></tr>\n",
              "<tr><td>H2O_cluster_status:</td>\n",
              "<td>locked, healthy</td></tr>\n",
              "<tr><td>H2O_connection_url:</td>\n",
              "<td>http://127.0.0.1:54321</td></tr>\n",
              "<tr><td>H2O_connection_proxy:</td>\n",
              "<td>{\"http\": null, \"https\": null}</td></tr>\n",
              "<tr><td>H2O_internal_security:</td>\n",
              "<td>False</td></tr>\n",
              "<tr><td>Python_version:</td>\n",
              "<td>3.7.13 final</td></tr></table></div>"
            ]
          },
          "metadata": {}
        }
      ]
    },
    {
      "cell_type": "code",
      "source": [
        "# Splitting the X and Y into the\n",
        "# Training set and Testing set\n",
        "import pandas as pd\n",
        "import numpy as np\n",
        "df = pd.read_csv(\"/content/final.csv\")\n",
        "\n",
        "print(list())\n",
        "df[\"FRAUD_NONFRAUD\"] = df[\"FRAUD_NONFRAUD\"].replace({\"Fraud\": 1, \"Non-Fraud\": 0})\n",
        "# df[\"FRAUD_NONFRAUD\"]\n",
        "\n",
        "# df[\"FRAUD_NONFRAUD\"][df[\"FRAUD_NONFRAUD\"] != \"Fraud\"] = 0\n",
        "df[\"FRAUD_NONFRAUD\"] = df[\"FRAUD_NONFRAUD\"].astype(\"int64\")\n",
        "# print(df[\"FRAUD_NONFRAUD\"])\n",
        "\n",
        "# df[\"RGN_NAME\"][df[\"RGN_NAME\"] == np.nan] = \"Unknown\"\n",
        "# df[\"STATE_PRVNC_TXT\"][df[\"STATE_PRVNC_TXT\"] == np.nan] = \"Unknown\"\n",
        "\n",
        "df[\"RGN_NAME\"].fillna(\"Unknown\", inplace=True)\n",
        "df[\"STATE_PRVNC_TXT\"].fillna(\"Unknown\", inplace=True)\n",
        "\n",
        "\n",
        "\n",
        "print(df.info())\n",
        "print(df[\"FRAUD_NONFRAUD\"].describe())\n",
        "\n",
        "y = df[\"FRAUD_NONFRAUD\"]\n",
        "X = df.drop([\"FRAUD_NONFRAUD\"], axis=1)\n",
        "from sklearn.model_selection import train_test_split\n",
        "\n",
        "X_train, X_test, y_train, y_test = train_test_split(X, y, test_size = 0.2, random_state = 0)\n",
        "# print(X_train.info())\n",
        "\n",
        "# df.to_csv(\"/content/h2o_final.csv\", index=False)"
      ],
      "metadata": {
        "colab": {
          "base_uri": "https://localhost:8080/"
        },
        "id": "ra8GxMHLP7wl",
        "outputId": "023661cb-7a09-4e84-f609-59d2b87a9a05"
      },
      "execution_count": null,
      "outputs": [
        {
          "output_type": "stream",
          "name": "stdout",
          "text": [
            "[]\n",
            "<class 'pandas.core.frame.DataFrame'>\n",
            "RangeIndex: 13491 entries, 0 to 13490\n",
            "Data columns (total 39 columns):\n",
            " #   Column                      Non-Null Count  Dtype  \n",
            "---  ------                      --------------  -----  \n",
            " 0   TRAN_AMT                    13491 non-null  float64\n",
            " 1   ACCT_PRE_TRAN_AVAIL_BAL     13491 non-null  float64\n",
            " 2   CUST_AGE                    13491 non-null  int64  \n",
            " 3   OPEN_ACCT_CT                13491 non-null  int64  \n",
            " 4   WF_dvc_age                  13491 non-null  int64  \n",
            " 5   PWD_UPDT_TS                 13491 non-null  object \n",
            " 6   RGN_NAME                    13491 non-null  object \n",
            " 7   STATE_PRVNC_TXT             13491 non-null  object \n",
            " 8   ALERT_TRGR_CD               13491 non-null  int64  \n",
            " 9   CUST_ZIP                    13491 non-null  int64  \n",
            " 10  CUST_STATE                  13455 non-null  object \n",
            " 11  PH_NUM_UPDT_TS              13491 non-null  object \n",
            " 12  CUST_SINCE_DT               13491 non-null  object \n",
            " 13  TRAN_TS                     13491 non-null  object \n",
            " 14  TRAN_DT                     13491 non-null  object \n",
            " 15  ACTN_CD                     13491 non-null  object \n",
            " 16  ACTN_INTNL_TXT              13491 non-null  object \n",
            " 17  TRAN_TYPE_CD                13491 non-null  object \n",
            " 18  ACTVY_DT                    13491 non-null  object \n",
            " 19  FRAUD_NONFRAUD              13491 non-null  int64  \n",
            " 20  pwd_up_numeric              13491 non-null  int64  \n",
            " 21  ph_num_up_numeric           13491 non-null  int64  \n",
            " 22  cst_since_numeric           13491 non-null  int64  \n",
            " 23  Tran_TS_Numeric             13491 non-null  int64  \n",
            " 24  cst_diff_tran               13491 non-null  int64  \n",
            " 25  phn_diff_tran               13491 non-null  int64  \n",
            " 26  pwd_diff_tran               13491 non-null  int64  \n",
            " 27  Carrier_Popular Carrier     13491 non-null  int64  \n",
            " 28  Carrier_Unknown Carrier     13491 non-null  int64  \n",
            " 29  Device_MOBILE               13491 non-null  int64  \n",
            " 30  Device_NoDevice             13491 non-null  int64  \n",
            " 31  Device_PHONE                13491 non-null  int64  \n",
            " 32  Device_TABLET               13491 non-null  int64  \n",
            " 33  auth_prim_AFA_PL            13491 non-null  int64  \n",
            " 34  auth_prim_FACE_ID           13491 non-null  int64  \n",
            " 35  auth_prim_TOUCH_ID          13491 non-null  int64  \n",
            " 36  auth_prim_UN_PWD            13491 non-null  int64  \n",
            " 37  auth_sec_CHALLENGE_ISSUED   13491 non-null  int64  \n",
            " 38  auth_sec_CHALLENGE_SUCCESS  13491 non-null  int64  \n",
            "dtypes: float64(2), int64(25), object(12)\n",
            "memory usage: 4.0+ MB\n",
            "None\n",
            "count    13491.000000\n",
            "mean         0.270921\n",
            "std          0.444452\n",
            "min          0.000000\n",
            "25%          0.000000\n",
            "50%          0.000000\n",
            "75%          1.000000\n",
            "max          1.000000\n",
            "Name: FRAUD_NONFRAUD, dtype: float64\n"
          ]
        }
      ]
    },
    {
      "cell_type": "code",
      "source": [
        "y"
      ],
      "metadata": {
        "colab": {
          "base_uri": "https://localhost:8080/"
        },
        "id": "6zUB0H2PSGZ-",
        "outputId": "2570a26f-0e7d-4a99-8694-2dcf9e1c3da7"
      },
      "execution_count": null,
      "outputs": [
        {
          "output_type": "execute_result",
          "data": {
            "text/plain": [
              "0        0\n",
              "1        0\n",
              "2        1\n",
              "3        0\n",
              "4        1\n",
              "        ..\n",
              "13486    0\n",
              "13487    0\n",
              "13488    1\n",
              "13489    1\n",
              "13490    0\n",
              "Name: FRAUD_NONFRAUD, Length: 13491, dtype: int64"
            ]
          },
          "metadata": {},
          "execution_count": 96
        }
      ]
    },
    {
      "cell_type": "code",
      "source": [
        ""
      ],
      "metadata": {
        "colab": {
          "base_uri": "https://localhost:8080/"
        },
        "id": "CwoeEvBkSSpe",
        "outputId": "ea0e4374-ab9b-4ef7-f1d4-7629f4bb29ef"
      },
      "execution_count": null,
      "outputs": [
        {
          "output_type": "execute_result",
          "data": {
            "text/plain": [
              "pandas.core.series.Series"
            ]
          },
          "metadata": {},
          "execution_count": 101
        }
      ]
    },
    {
      "cell_type": "code",
      "source": [
        "X_train[\"target\"] = y"
      ],
      "metadata": {
        "id": "Ftg2uTwXRqs2"
      },
      "execution_count": null,
      "outputs": []
    },
    {
      "cell_type": "code",
      "source": [
        "X_train.to_csv(\"h2o_final_1.csv\", index=False)"
      ],
      "metadata": {
        "id": "x3D1FlBgR4-v"
      },
      "execution_count": null,
      "outputs": []
    },
    {
      "cell_type": "code",
      "source": [
        ""
      ],
      "metadata": {
        "id": "-pDQWpvuR47T"
      },
      "execution_count": null,
      "outputs": []
    },
    {
      "cell_type": "code",
      "source": [
        ""
      ],
      "metadata": {
        "id": "CA05tGNqR44-"
      },
      "execution_count": null,
      "outputs": []
    },
    {
      "cell_type": "code",
      "source": [
        ""
      ],
      "metadata": {
        "id": "b62UeB9PR42V"
      },
      "execution_count": null,
      "outputs": []
    },
    {
      "cell_type": "code",
      "source": [
        ""
      ],
      "metadata": {
        "id": "XTlh2xvFR1_E"
      },
      "execution_count": null,
      "outputs": []
    },
    {
      "cell_type": "code",
      "source": [
        "print(X_train)\n",
        "print(X_test)\n",
        "print(y_train)\n",
        "print(y_test)"
      ],
      "metadata": {
        "id": "51EuHZGVAidg"
      },
      "execution_count": null,
      "outputs": []
    },
    {
      "cell_type": "code",
      "source": [
        "# train = h2o.import_file(\"features/train_features7.csv\", header=1)\n",
        "train = h2o.import_file(\"/content/h2o_final_1.csv\", header=1)"
      ],
      "metadata": {
        "colab": {
          "base_uri": "https://localhost:8080/"
        },
        "id": "TI1rtICP9-1U",
        "outputId": "8dbe68d9-1906-4e52-d60b-b9d4bc9d96e5"
      },
      "execution_count": null,
      "outputs": [
        {
          "output_type": "stream",
          "name": "stdout",
          "text": [
            "Parse progress: |████████████████████████████████████████████████████████████████| (done) 100%\n"
          ]
        }
      ]
    },
    {
      "cell_type": "code",
      "source": [
        "train"
      ],
      "metadata": {
        "colab": {
          "base_uri": "https://localhost:8080/",
          "height": 634
        },
        "id": "Wa9oZtaJ_4Sc",
        "outputId": "c89a0af9-4a6f-4840-aa5b-4b917db98969"
      },
      "execution_count": null,
      "outputs": [
        {
          "output_type": "display_data",
          "data": {
            "text/html": [
              "<table>\n",
              "<thead>\n",
              "<tr><th style=\"text-align: right;\">  TRAN_AMT</th><th style=\"text-align: right;\">  ACCT_PRE_TRAN_AVAIL_BAL</th><th style=\"text-align: right;\">  CUST_AGE</th><th style=\"text-align: right;\">  OPEN_ACCT_CT</th><th style=\"text-align: right;\">  WF_dvc_age</th><th>PWD_UPDT_TS        </th><th>RGN_NAME     </th><th>STATE_PRVNC_TXT  </th><th style=\"text-align: right;\">  ALERT_TRGR_CD</th><th style=\"text-align: right;\">  CUST_ZIP</th><th>CUST_STATE  </th><th>PH_NUM_UPDT_TS     </th><th>CUST_SINCE_DT      </th><th>TRAN_TS            </th><th>TRAN_DT            </th><th>ACTN_CD  </th><th>ACTN_INTNL_TXT  </th><th>TRAN_TYPE_CD  </th><th>ACTVY_DT           </th><th style=\"text-align: right;\">  pwd_up_numeric</th><th style=\"text-align: right;\">  ph_num_up_numeric</th><th style=\"text-align: right;\">  cst_since_numeric</th><th style=\"text-align: right;\">  Tran_TS_Numeric</th><th style=\"text-align: right;\">  cst_diff_tran</th><th style=\"text-align: right;\">  phn_diff_tran</th><th style=\"text-align: right;\">  pwd_diff_tran</th><th style=\"text-align: right;\">  Carrier_Popular Carrier</th><th style=\"text-align: right;\">  Carrier_Unknown Carrier</th><th style=\"text-align: right;\">  Device_MOBILE</th><th style=\"text-align: right;\">  Device_NoDevice</th><th style=\"text-align: right;\">  Device_PHONE</th><th style=\"text-align: right;\">  Device_TABLET</th><th style=\"text-align: right;\">  auth_prim_AFA_PL</th><th style=\"text-align: right;\">  auth_prim_FACE_ID</th><th style=\"text-align: right;\">  auth_prim_TOUCH_ID</th><th style=\"text-align: right;\">  auth_prim_UN_PWD</th><th style=\"text-align: right;\">  auth_sec_CHALLENGE_ISSUED</th><th style=\"text-align: right;\">  auth_sec_CHALLENGE_SUCCESS</th><th style=\"text-align: right;\">  target</th></tr>\n",
              "</thead>\n",
              "<tbody>\n",
              "<tr><td style=\"text-align: right;\">     30.81</td><td style=\"text-align: right;\">                  1112.22</td><td style=\"text-align: right;\">         0</td><td style=\"text-align: right;\">            17</td><td style=\"text-align: right;\">         429</td><td>2020-01-06 17:19:20</td><td>Unknown      </td><td>Unknown          </td><td style=\"text-align: right;\">              0</td><td style=\"text-align: right;\">     33708</td><td>FL          </td><td>2019-02-04 02:26:02</td><td>1992-02-09 00:00:00</td><td>2021-06-08 13:19:20</td><td>2021-06-08 00:00:00</td><td>SCHPMT   </td><td>P2P_COMMIT      </td><td>P2P           </td><td>2021-06-08 00:00:00</td><td style=\"text-align: right;\">     4.48272e+07</td><td style=\"text-align: right;\">        7.39112e+07</td><td style=\"text-align: right;\">        9.25565e+08</td><td style=\"text-align: right;\">      1.62316e+09</td><td style=\"text-align: right;\">    9.25565e+08</td><td style=\"text-align: right;\">    7.39112e+07</td><td style=\"text-align: right;\">    4.48272e+07</td><td style=\"text-align: right;\">                        0</td><td style=\"text-align: right;\">                        1</td><td style=\"text-align: right;\">              1</td><td style=\"text-align: right;\">                0</td><td style=\"text-align: right;\">             0</td><td style=\"text-align: right;\">              0</td><td style=\"text-align: right;\">                 0</td><td style=\"text-align: right;\">                  1</td><td style=\"text-align: right;\">                   0</td><td style=\"text-align: right;\">                 0</td><td style=\"text-align: right;\">                          0</td><td style=\"text-align: right;\">                           0</td><td style=\"text-align: right;\">       0</td></tr>\n",
              "<tr><td style=\"text-align: right;\">     58.65</td><td style=\"text-align: right;\">                  2955.89</td><td style=\"text-align: right;\">         0</td><td style=\"text-align: right;\">             6</td><td style=\"text-align: right;\">           0</td><td>2021-06-29 06:43:36</td><td>southwest    </td><td>nevada           </td><td style=\"text-align: right;\">              0</td><td style=\"text-align: right;\">     89410</td><td>NV          </td><td>2020-01-16 07:50:05</td><td>2021-12-29 00:00:00</td><td>2021-12-29 00:00:00</td><td>2021-12-29 00:00:00</td><td>SCHPMT   </td><td>P2P_COMMIT      </td><td>P2P           </td><td>2021-12-29 00:00:00</td><td style=\"text-align: right;\">     1.5787e+07 </td><td style=\"text-align: right;\">        6.1575e+07 </td><td style=\"text-align: right;\">        0          </td><td style=\"text-align: right;\">      1.64074e+09</td><td style=\"text-align: right;\">    0          </td><td style=\"text-align: right;\">    6.1575e+07 </td><td style=\"text-align: right;\">    1.5787e+07 </td><td style=\"text-align: right;\">                        1</td><td style=\"text-align: right;\">                        0</td><td style=\"text-align: right;\">              0</td><td style=\"text-align: right;\">                0</td><td style=\"text-align: right;\">             0</td><td style=\"text-align: right;\">              0</td><td style=\"text-align: right;\">                 0</td><td style=\"text-align: right;\">                  0</td><td style=\"text-align: right;\">                   0</td><td style=\"text-align: right;\">                 1</td><td style=\"text-align: right;\">                          0</td><td style=\"text-align: right;\">                           0</td><td style=\"text-align: right;\">       1</td></tr>\n",
              "<tr><td style=\"text-align: right;\">     30.29</td><td style=\"text-align: right;\">                     0   </td><td style=\"text-align: right;\">         0</td><td style=\"text-align: right;\">             2</td><td style=\"text-align: right;\">         406</td><td>2021-04-18 22:07:20</td><td>southwest    </td><td>california       </td><td style=\"text-align: right;\">              0</td><td style=\"text-align: right;\">     95020</td><td>CA          </td><td>1993-07-01 00:00:00</td><td>1993-07-01 00:00:00</td><td>2021-05-12 22:00:51</td><td>2021-05-12 00:00:00</td><td>SCHPMT   </td><td>P2P_COMMIT      </td><td>P2P           </td><td>2021-05-12 00:00:00</td><td style=\"text-align: right;\">     2.07321e+06</td><td style=\"text-align: right;\">        8.79372e+08</td><td style=\"text-align: right;\">        8.79372e+08</td><td style=\"text-align: right;\">      1.62086e+09</td><td style=\"text-align: right;\">    8.79372e+08</td><td style=\"text-align: right;\">    8.79372e+08</td><td style=\"text-align: right;\">    2.07321e+06</td><td style=\"text-align: right;\">                        1</td><td style=\"text-align: right;\">                        0</td><td style=\"text-align: right;\">              1</td><td style=\"text-align: right;\">                0</td><td style=\"text-align: right;\">             0</td><td style=\"text-align: right;\">              0</td><td style=\"text-align: right;\">                 0</td><td style=\"text-align: right;\">                  0</td><td style=\"text-align: right;\">                   0</td><td style=\"text-align: right;\">                 1</td><td style=\"text-align: right;\">                          0</td><td style=\"text-align: right;\">                           0</td><td style=\"text-align: right;\">       0</td></tr>\n",
              "<tr><td style=\"text-align: right;\">     59.64</td><td style=\"text-align: right;\">                   875.37</td><td style=\"text-align: right;\">         1</td><td style=\"text-align: right;\">             4</td><td style=\"text-align: right;\">         155</td><td>2020-11-23 04:13:51</td><td>Unknown      </td><td>Unknown          </td><td style=\"text-align: right;\">              0</td><td style=\"text-align: right;\">     77095</td><td>TX          </td><td>2019-09-08 12:45:37</td><td>1990-04-30 00:00:00</td><td>2021-03-06 06:13:51</td><td>2021-03-06 00:00:00</td><td>SCHPMT   </td><td>P2P_COMMIT      </td><td>P2P           </td><td>2021-03-06 00:00:00</td><td style=\"text-align: right;\">     8.9064e+06 </td><td style=\"text-align: right;\">        4.70645e+07</td><td style=\"text-align: right;\">        9.73578e+08</td><td style=\"text-align: right;\">      1.61501e+09</td><td style=\"text-align: right;\">    9.73578e+08</td><td style=\"text-align: right;\">    4.70645e+07</td><td style=\"text-align: right;\">    8.9064e+06 </td><td style=\"text-align: right;\">                        0</td><td style=\"text-align: right;\">                        1</td><td style=\"text-align: right;\">              1</td><td style=\"text-align: right;\">                0</td><td style=\"text-align: right;\">             0</td><td style=\"text-align: right;\">              0</td><td style=\"text-align: right;\">                 1</td><td style=\"text-align: right;\">                  0</td><td style=\"text-align: right;\">                   0</td><td style=\"text-align: right;\">                 0</td><td style=\"text-align: right;\">                          0</td><td style=\"text-align: right;\">                           0</td><td style=\"text-align: right;\">       0</td></tr>\n",
              "<tr><td style=\"text-align: right;\">      9.84</td><td style=\"text-align: right;\">                 11399.8 </td><td style=\"text-align: right;\">         1</td><td style=\"text-align: right;\">             3</td><td style=\"text-align: right;\">        1001</td><td>2020-12-31 18:06:06</td><td>south central</td><td>texas            </td><td style=\"text-align: right;\">              1</td><td style=\"text-align: right;\">     55805</td><td>MN          </td><td>2020-05-08 01:45:37</td><td>1998-10-27 00:00:00</td><td>2021-02-05 13:06:06</td><td>2021-02-05 00:00:00</td><td>SCHPMT   </td><td>P2P_COMMIT      </td><td>P2P           </td><td>2021-02-05 00:00:00</td><td style=\"text-align: right;\">     3.0924e+06 </td><td style=\"text-align: right;\">        2.3628e+07 </td><td style=\"text-align: right;\">        7.03084e+08</td><td style=\"text-align: right;\">      1.61253e+09</td><td style=\"text-align: right;\">    7.03084e+08</td><td style=\"text-align: right;\">    2.3628e+07 </td><td style=\"text-align: right;\">    3.0924e+06 </td><td style=\"text-align: right;\">                        0</td><td style=\"text-align: right;\">                        0</td><td style=\"text-align: right;\">              0</td><td style=\"text-align: right;\">                1</td><td style=\"text-align: right;\">             0</td><td style=\"text-align: right;\">              0</td><td style=\"text-align: right;\">                 0</td><td style=\"text-align: right;\">                  0</td><td style=\"text-align: right;\">                   1</td><td style=\"text-align: right;\">                 0</td><td style=\"text-align: right;\">                          0</td><td style=\"text-align: right;\">                           0</td><td style=\"text-align: right;\">       0</td></tr>\n",
              "<tr><td style=\"text-align: right;\">    491.29</td><td style=\"text-align: right;\">                  2678.9 </td><td style=\"text-align: right;\">         1</td><td style=\"text-align: right;\">            12</td><td style=\"text-align: right;\">           0</td><td>2019-06-21 13:02:18</td><td>southwest    </td><td>california       </td><td style=\"text-align: right;\">              1</td><td style=\"text-align: right;\">     98271</td><td>WA          </td><td>2019-05-17 23:11:02</td><td>1964-08-30 00:00:00</td><td>2021-02-06 14:02:18</td><td>2021-02-06 00:00:00</td><td>SCHPMT   </td><td>P2P_COMMIT      </td><td>P2P           </td><td>2021-02-06 00:00:00</td><td style=\"text-align: right;\">     5.1498e+07 </td><td style=\"text-align: right;\">        5.44855e+07</td><td style=\"text-align: right;\">        1.7811e+09 </td><td style=\"text-align: right;\">      1.61262e+09</td><td style=\"text-align: right;\">    1.7811e+09 </td><td style=\"text-align: right;\">    5.44855e+07</td><td style=\"text-align: right;\">    5.1498e+07 </td><td style=\"text-align: right;\">                        1</td><td style=\"text-align: right;\">                        0</td><td style=\"text-align: right;\">              1</td><td style=\"text-align: right;\">                0</td><td style=\"text-align: right;\">             0</td><td style=\"text-align: right;\">              0</td><td style=\"text-align: right;\">                 0</td><td style=\"text-align: right;\">                  0</td><td style=\"text-align: right;\">                   0</td><td style=\"text-align: right;\">                 1</td><td style=\"text-align: right;\">                          0</td><td style=\"text-align: right;\">                           0</td><td style=\"text-align: right;\">       1</td></tr>\n",
              "<tr><td style=\"text-align: right;\">      1.48</td><td style=\"text-align: right;\">                     0   </td><td style=\"text-align: right;\">         1</td><td style=\"text-align: right;\">             3</td><td style=\"text-align: right;\">        1050</td><td>2019-04-14 19:54:44</td><td>southwest    </td><td>california       </td><td style=\"text-align: right;\">              0</td><td style=\"text-align: right;\">     85323</td><td>AZ          </td><td>2001-02-11 00:00:00</td><td>2001-02-11 00:00:00</td><td>2021-05-07 11:54:44</td><td>2021-05-07 00:00:00</td><td>SCHPMT   </td><td>P2P_COMMIT      </td><td>P2P           </td><td>2021-05-07 00:00:00</td><td style=\"text-align: right;\">     6.51168e+07</td><td style=\"text-align: right;\">        6.38539e+08</td><td style=\"text-align: right;\">        6.38539e+08</td><td style=\"text-align: right;\">      1.62039e+09</td><td style=\"text-align: right;\">    6.38539e+08</td><td style=\"text-align: right;\">    6.38539e+08</td><td style=\"text-align: right;\">    6.51168e+07</td><td style=\"text-align: right;\">                        1</td><td style=\"text-align: right;\">                        0</td><td style=\"text-align: right;\">              1</td><td style=\"text-align: right;\">                0</td><td style=\"text-align: right;\">             0</td><td style=\"text-align: right;\">              0</td><td style=\"text-align: right;\">                 0</td><td style=\"text-align: right;\">                  0</td><td style=\"text-align: right;\">                   0</td><td style=\"text-align: right;\">                 1</td><td style=\"text-align: right;\">                          0</td><td style=\"text-align: right;\">                           0</td><td style=\"text-align: right;\">       0</td></tr>\n",
              "<tr><td style=\"text-align: right;\">    500.88</td><td style=\"text-align: right;\">                   458.31</td><td style=\"text-align: right;\">         1</td><td style=\"text-align: right;\">             9</td><td style=\"text-align: right;\">        1705</td><td>2017-04-30 21:07:20</td><td>southwest    </td><td>california       </td><td style=\"text-align: right;\">              1</td><td style=\"text-align: right;\">     11433</td><td>NY          </td><td>1978-12-21 00:00:00</td><td>1978-12-21 00:00:00</td><td>2021-06-13 13:00:51</td><td>2021-06-13 00:00:00</td><td>SCHPMT   </td><td>P2P_COMMIT      </td><td>P2P           </td><td>2021-06-13 00:00:00</td><td style=\"text-align: right;\">     1.30003e+08</td><td style=\"text-align: right;\">        1.34054e+09</td><td style=\"text-align: right;\">        1.34054e+09</td><td style=\"text-align: right;\">      1.62359e+09</td><td style=\"text-align: right;\">    1.34054e+09</td><td style=\"text-align: right;\">    1.34054e+09</td><td style=\"text-align: right;\">    1.30003e+08</td><td style=\"text-align: right;\">                        1</td><td style=\"text-align: right;\">                        0</td><td style=\"text-align: right;\">              0</td><td style=\"text-align: right;\">                0</td><td style=\"text-align: right;\">             0</td><td style=\"text-align: right;\">              0</td><td style=\"text-align: right;\">                 0</td><td style=\"text-align: right;\">                  0</td><td style=\"text-align: right;\">                   0</td><td style=\"text-align: right;\">                 1</td><td style=\"text-align: right;\">                          0</td><td style=\"text-align: right;\">                           0</td><td style=\"text-align: right;\">       0</td></tr>\n",
              "<tr><td style=\"text-align: right;\">    493.14</td><td style=\"text-align: right;\">                 24933   </td><td style=\"text-align: right;\">         1</td><td style=\"text-align: right;\">             4</td><td style=\"text-align: right;\">        1233</td><td>2021-06-02 04:41:30</td><td>south central</td><td>texas            </td><td style=\"text-align: right;\">              0</td><td style=\"text-align: right;\">     19403</td><td>PA          </td><td>2020-05-15 11:50:05</td><td>1998-07-22 00:00:00</td><td>2021-05-04 12:41:30</td><td>2021-05-04 00:00:00</td><td>SCHPMT   </td><td>P2P_COMMIT      </td><td>P2P           </td><td>2021-05-04 00:00:00</td><td style=\"text-align: right;\">    -2.4768e+06 </td><td style=\"text-align: right;\">        3.05887e+07</td><td style=\"text-align: right;\">        7.19066e+08</td><td style=\"text-align: right;\">      1.62013e+09</td><td style=\"text-align: right;\">    7.19066e+08</td><td style=\"text-align: right;\">    3.05887e+07</td><td style=\"text-align: right;\">   -2.4768e+06 </td><td style=\"text-align: right;\">                        0</td><td style=\"text-align: right;\">                        0</td><td style=\"text-align: right;\">              0</td><td style=\"text-align: right;\">                1</td><td style=\"text-align: right;\">             0</td><td style=\"text-align: right;\">              0</td><td style=\"text-align: right;\">                 0</td><td style=\"text-align: right;\">                  0</td><td style=\"text-align: right;\">                   0</td><td style=\"text-align: right;\">                 1</td><td style=\"text-align: right;\">                          0</td><td style=\"text-align: right;\">                           0</td><td style=\"text-align: right;\">       1</td></tr>\n",
              "<tr><td style=\"text-align: right;\">    492.68</td><td style=\"text-align: right;\">                  3708.6 </td><td style=\"text-align: right;\">         0</td><td style=\"text-align: right;\">             7</td><td style=\"text-align: right;\">           0</td><td>2018-03-13 01:30:49</td><td>Unknown      </td><td>Unknown          </td><td style=\"text-align: right;\">              0</td><td style=\"text-align: right;\">     30276</td><td>GA          </td><td>1984-06-04 00:00:00</td><td>1984-06-04 00:00:00</td><td>2021-02-23 14:30:49</td><td>2021-02-23 00:00:00</td><td>SCHPMT   </td><td>P2P_COMMIT      </td><td>P2P           </td><td>2021-02-23 00:00:00</td><td style=\"text-align: right;\">     9.3186e+07 </td><td style=\"text-align: right;\">        1.15894e+09</td><td style=\"text-align: right;\">        1.15894e+09</td><td style=\"text-align: right;\">      1.61409e+09</td><td style=\"text-align: right;\">    1.15894e+09</td><td style=\"text-align: right;\">    1.15894e+09</td><td style=\"text-align: right;\">    9.3186e+07 </td><td style=\"text-align: right;\">                        0</td><td style=\"text-align: right;\">                        1</td><td style=\"text-align: right;\">              0</td><td style=\"text-align: right;\">                1</td><td style=\"text-align: right;\">             0</td><td style=\"text-align: right;\">              0</td><td style=\"text-align: right;\">                 0</td><td style=\"text-align: right;\">                  0</td><td style=\"text-align: right;\">                   0</td><td style=\"text-align: right;\">                 1</td><td style=\"text-align: right;\">                          0</td><td style=\"text-align: right;\">                           0</td><td style=\"text-align: right;\">       1</td></tr>\n",
              "</tbody>\n",
              "</table>"
            ]
          },
          "metadata": {}
        },
        {
          "output_type": "execute_result",
          "data": {
            "text/plain": [
              ""
            ]
          },
          "metadata": {},
          "execution_count": 105
        }
      ]
    },
    {
      "cell_type": "code",
      "source": [
        "x = train.columns\n",
        "y = \"target\"\n",
        "x.remove(y)"
      ],
      "metadata": {
        "id": "nr0JIb2o9-y_"
      },
      "execution_count": null,
      "outputs": []
    },
    {
      "cell_type": "code",
      "source": [
        "train[\"target\"] = train[\"target\"].asfactor()"
      ],
      "metadata": {
        "id": "zceePfuHLLiC"
      },
      "execution_count": null,
      "outputs": []
    },
    {
      "cell_type": "code",
      "source": [
        "aml = H2OAutoML(max_models=200, seed=42, max_runtime_secs=500)"
      ],
      "metadata": {
        "id": "dpmtjkfM9-wg"
      },
      "execution_count": null,
      "outputs": []
    },
    {
      "cell_type": "code",
      "source": [
        "print(x, y)"
      ],
      "metadata": {
        "colab": {
          "base_uri": "https://localhost:8080/"
        },
        "id": "h4f95exGCbvm",
        "outputId": "668cae5a-aae7-4d18-dc65-417971080fc2"
      },
      "execution_count": null,
      "outputs": [
        {
          "output_type": "stream",
          "name": "stdout",
          "text": [
            "['TRAN_AMT', 'ACCT_PRE_TRAN_AVAIL_BAL', 'CUST_AGE', 'OPEN_ACCT_CT', 'WF_dvc_age', 'PWD_UPDT_TS', 'RGN_NAME', 'STATE_PRVNC_TXT', 'ALERT_TRGR_CD', 'CUST_ZIP', 'CUST_STATE', 'PH_NUM_UPDT_TS', 'CUST_SINCE_DT', 'TRAN_TS', 'TRAN_DT', 'ACTN_CD', 'ACTN_INTNL_TXT', 'TRAN_TYPE_CD', 'ACTVY_DT', 'pwd_up_numeric', 'ph_num_up_numeric', 'cst_since_numeric', 'Tran_TS_Numeric', 'cst_diff_tran', 'phn_diff_tran', 'pwd_diff_tran', 'Carrier_Popular Carrier', 'Carrier_Unknown Carrier', 'Device_MOBILE', 'Device_NoDevice', 'Device_PHONE', 'Device_TABLET', 'auth_prim_AFA_PL', 'auth_prim_FACE_ID', 'auth_prim_TOUCH_ID', 'auth_prim_UN_PWD', 'auth_sec_CHALLENGE_ISSUED', 'auth_sec_CHALLENGE_SUCCESS'] target\n"
          ]
        }
      ]
    },
    {
      "cell_type": "code",
      "source": [
        "aml.train(x=x, y=y, training_frame=train)"
      ],
      "metadata": {
        "colab": {
          "base_uri": "https://localhost:8080/",
          "height": 1000
        },
        "id": "sWX2r96s9-uO",
        "outputId": "d32810dd-2c2e-4588-d251-002a7df29458"
      },
      "execution_count": null,
      "outputs": [
        {
          "output_type": "stream",
          "name": "stdout",
          "text": [
            "AutoML progress: |\n",
            "00:49:28.961: _train param, Dropping bad and constant columns: [ACTN_CD, ACTN_INTNL_TXT, TRAN_TYPE_CD]\n",
            "\n",
            "███\n",
            "00:49:47.36: _train param, Dropping bad and constant columns: [ACTN_CD, ACTN_INTNL_TXT, TRAN_TYPE_CD]\n",
            "\n",
            "██\n",
            "00:49:59.552: _train param, Dropping bad and constant columns: [ACTN_CD, ACTN_INTNL_TXT, TRAN_TYPE_CD]\n",
            "\n",
            "█████\n",
            "00:50:38.120: _train param, Dropping bad and constant columns: [ACTN_CD, ACTN_INTNL_TXT, TRAN_TYPE_CD]\n",
            "\n",
            "████\n",
            "00:51:12.63: _train param, Dropping bad and constant columns: [ACTN_CD, ACTN_INTNL_TXT, TRAN_TYPE_CD]\n",
            "\n",
            "███\n",
            "00:51:37.694: _train param, Dropping bad and constant columns: [ACTN_CD, ACTN_INTNL_TXT, TRAN_TYPE_CD]\n",
            "\n",
            "███\n",
            "00:52:01.383: _train param, Dropping bad and constant columns: [ACTN_CD, ACTN_INTNL_TXT, TRAN_TYPE_CD]\n",
            "\n",
            "████\n",
            "00:52:36.121: _train param, Dropping bad and constant columns: [ACTN_CD, ACTN_INTNL_TXT, TRAN_TYPE_CD]\n",
            "\n",
            "█████\n",
            "00:53:12.90: _train param, Dropping bad and constant columns: [ACTN_CD, ACTN_INTNL_TXT, TRAN_TYPE_CD]\n",
            "\n",
            "███\n",
            "00:53:36.682: _train param, Dropping bad and constant columns: [ACTN_CD, ACTN_INTNL_TXT, TRAN_TYPE_CD]\n",
            "\n",
            "██\n",
            "00:53:59.30: _train param, Dropping bad and constant columns: [ACTN_CD, ACTN_INTNL_TXT, TRAN_TYPE_CD]\n",
            "\n",
            "███\n",
            "00:54:23.168: _train param, Dropping bad and constant columns: [ACTN_CD, ACTN_INTNL_TXT, TRAN_TYPE_CD]\n",
            "\n",
            "██████████████████████████| (done) 100%\n",
            "Model Details\n",
            "=============\n",
            "H2OXGBoostEstimator :  XGBoost\n",
            "Model Key:  XGBoost_3_AutoML_6_20220419_04928\n",
            "\n",
            "\n",
            "Model Summary: \n"
          ]
        },
        {
          "output_type": "display_data",
          "data": {
            "text/plain": [
              "     number_of_trees\n",
              "0               68.0"
            ],
            "text/html": [
              "\n",
              "  <div id=\"df-edd88224-7613-4ee2-a856-911c062ccc2e\">\n",
              "    <div class=\"colab-df-container\">\n",
              "      <div>\n",
              "<style scoped>\n",
              "    .dataframe tbody tr th:only-of-type {\n",
              "        vertical-align: middle;\n",
              "    }\n",
              "\n",
              "    .dataframe tbody tr th {\n",
              "        vertical-align: top;\n",
              "    }\n",
              "\n",
              "    .dataframe thead th {\n",
              "        text-align: right;\n",
              "    }\n",
              "</style>\n",
              "<table border=\"1\" class=\"dataframe\">\n",
              "  <thead>\n",
              "    <tr style=\"text-align: right;\">\n",
              "      <th></th>\n",
              "      <th></th>\n",
              "      <th>number_of_trees</th>\n",
              "    </tr>\n",
              "  </thead>\n",
              "  <tbody>\n",
              "    <tr>\n",
              "      <th>0</th>\n",
              "      <td></td>\n",
              "      <td>68.0</td>\n",
              "    </tr>\n",
              "  </tbody>\n",
              "</table>\n",
              "</div>\n",
              "      <button class=\"colab-df-convert\" onclick=\"convertToInteractive('df-edd88224-7613-4ee2-a856-911c062ccc2e')\"\n",
              "              title=\"Convert this dataframe to an interactive table.\"\n",
              "              style=\"display:none;\">\n",
              "        \n",
              "  <svg xmlns=\"http://www.w3.org/2000/svg\" height=\"24px\"viewBox=\"0 0 24 24\"\n",
              "       width=\"24px\">\n",
              "    <path d=\"M0 0h24v24H0V0z\" fill=\"none\"/>\n",
              "    <path d=\"M18.56 5.44l.94 2.06.94-2.06 2.06-.94-2.06-.94-.94-2.06-.94 2.06-2.06.94zm-11 1L8.5 8.5l.94-2.06 2.06-.94-2.06-.94L8.5 2.5l-.94 2.06-2.06.94zm10 10l.94 2.06.94-2.06 2.06-.94-2.06-.94-.94-2.06-.94 2.06-2.06.94z\"/><path d=\"M17.41 7.96l-1.37-1.37c-.4-.4-.92-.59-1.43-.59-.52 0-1.04.2-1.43.59L10.3 9.45l-7.72 7.72c-.78.78-.78 2.05 0 2.83L4 21.41c.39.39.9.59 1.41.59.51 0 1.02-.2 1.41-.59l7.78-7.78 2.81-2.81c.8-.78.8-2.07 0-2.86zM5.41 20L4 18.59l7.72-7.72 1.47 1.35L5.41 20z\"/>\n",
              "  </svg>\n",
              "      </button>\n",
              "      \n",
              "  <style>\n",
              "    .colab-df-container {\n",
              "      display:flex;\n",
              "      flex-wrap:wrap;\n",
              "      gap: 12px;\n",
              "    }\n",
              "\n",
              "    .colab-df-convert {\n",
              "      background-color: #E8F0FE;\n",
              "      border: none;\n",
              "      border-radius: 50%;\n",
              "      cursor: pointer;\n",
              "      display: none;\n",
              "      fill: #1967D2;\n",
              "      height: 32px;\n",
              "      padding: 0 0 0 0;\n",
              "      width: 32px;\n",
              "    }\n",
              "\n",
              "    .colab-df-convert:hover {\n",
              "      background-color: #E2EBFA;\n",
              "      box-shadow: 0px 1px 2px rgba(60, 64, 67, 0.3), 0px 1px 3px 1px rgba(60, 64, 67, 0.15);\n",
              "      fill: #174EA6;\n",
              "    }\n",
              "\n",
              "    [theme=dark] .colab-df-convert {\n",
              "      background-color: #3B4455;\n",
              "      fill: #D2E3FC;\n",
              "    }\n",
              "\n",
              "    [theme=dark] .colab-df-convert:hover {\n",
              "      background-color: #434B5C;\n",
              "      box-shadow: 0px 1px 3px 1px rgba(0, 0, 0, 0.15);\n",
              "      filter: drop-shadow(0px 1px 2px rgba(0, 0, 0, 0.3));\n",
              "      fill: #FFFFFF;\n",
              "    }\n",
              "  </style>\n",
              "\n",
              "      <script>\n",
              "        const buttonEl =\n",
              "          document.querySelector('#df-edd88224-7613-4ee2-a856-911c062ccc2e button.colab-df-convert');\n",
              "        buttonEl.style.display =\n",
              "          google.colab.kernel.accessAllowed ? 'block' : 'none';\n",
              "\n",
              "        async function convertToInteractive(key) {\n",
              "          const element = document.querySelector('#df-edd88224-7613-4ee2-a856-911c062ccc2e');\n",
              "          const dataTable =\n",
              "            await google.colab.kernel.invokeFunction('convertToInteractive',\n",
              "                                                     [key], {});\n",
              "          if (!dataTable) return;\n",
              "\n",
              "          const docLinkHtml = 'Like what you see? Visit the ' +\n",
              "            '<a target=\"_blank\" href=https://colab.research.google.com/notebooks/data_table.ipynb>data table notebook</a>'\n",
              "            + ' to learn more about interactive tables.';\n",
              "          element.innerHTML = '';\n",
              "          dataTable['output_type'] = 'display_data';\n",
              "          await google.colab.output.renderOutput(dataTable, element);\n",
              "          const docLink = document.createElement('div');\n",
              "          docLink.innerHTML = docLinkHtml;\n",
              "          element.appendChild(docLink);\n",
              "        }\n",
              "      </script>\n",
              "    </div>\n",
              "  </div>\n",
              "  "
            ]
          },
          "metadata": {}
        },
        {
          "output_type": "stream",
          "name": "stdout",
          "text": [
            "\n",
            "\n",
            "ModelMetricsBinomial: xgboost\n",
            "** Reported on train data. **\n",
            "\n",
            "MSE: 0.009135074190197413\n",
            "RMSE: 0.09557758204828899\n",
            "LogLoss: 0.039689767627165876\n",
            "Mean Per-Class Error: 0.010974248994540668\n",
            "AUC: 0.9993751900014887\n",
            "AUCPR: 0.9984547167108725\n",
            "Gini: 0.9987503800029773\n",
            "\n",
            "Confusion Matrix (Act/Pred) for max f1 @ threshold = 0.42354078590869904: \n"
          ]
        },
        {
          "output_type": "display_data",
          "data": {
            "text/plain": [
              "               0       1   Error             Rate\n",
              "0      0  7774.0    53.0  0.0068    (53.0/7827.0)\n",
              "1      1    45.0  2920.0  0.0152    (45.0/2965.0)\n",
              "2  Total  7819.0  2973.0  0.0091   (98.0/10792.0)"
            ],
            "text/html": [
              "\n",
              "  <div id=\"df-2250dfc0-88fb-4c69-b2d3-1abe1df23c66\">\n",
              "    <div class=\"colab-df-container\">\n",
              "      <div>\n",
              "<style scoped>\n",
              "    .dataframe tbody tr th:only-of-type {\n",
              "        vertical-align: middle;\n",
              "    }\n",
              "\n",
              "    .dataframe tbody tr th {\n",
              "        vertical-align: top;\n",
              "    }\n",
              "\n",
              "    .dataframe thead th {\n",
              "        text-align: right;\n",
              "    }\n",
              "</style>\n",
              "<table border=\"1\" class=\"dataframe\">\n",
              "  <thead>\n",
              "    <tr style=\"text-align: right;\">\n",
              "      <th></th>\n",
              "      <th></th>\n",
              "      <th>0</th>\n",
              "      <th>1</th>\n",
              "      <th>Error</th>\n",
              "      <th>Rate</th>\n",
              "    </tr>\n",
              "  </thead>\n",
              "  <tbody>\n",
              "    <tr>\n",
              "      <th>0</th>\n",
              "      <td>0</td>\n",
              "      <td>7774.0</td>\n",
              "      <td>53.0</td>\n",
              "      <td>0.0068</td>\n",
              "      <td>(53.0/7827.0)</td>\n",
              "    </tr>\n",
              "    <tr>\n",
              "      <th>1</th>\n",
              "      <td>1</td>\n",
              "      <td>45.0</td>\n",
              "      <td>2920.0</td>\n",
              "      <td>0.0152</td>\n",
              "      <td>(45.0/2965.0)</td>\n",
              "    </tr>\n",
              "    <tr>\n",
              "      <th>2</th>\n",
              "      <td>Total</td>\n",
              "      <td>7819.0</td>\n",
              "      <td>2973.0</td>\n",
              "      <td>0.0091</td>\n",
              "      <td>(98.0/10792.0)</td>\n",
              "    </tr>\n",
              "  </tbody>\n",
              "</table>\n",
              "</div>\n",
              "      <button class=\"colab-df-convert\" onclick=\"convertToInteractive('df-2250dfc0-88fb-4c69-b2d3-1abe1df23c66')\"\n",
              "              title=\"Convert this dataframe to an interactive table.\"\n",
              "              style=\"display:none;\">\n",
              "        \n",
              "  <svg xmlns=\"http://www.w3.org/2000/svg\" height=\"24px\"viewBox=\"0 0 24 24\"\n",
              "       width=\"24px\">\n",
              "    <path d=\"M0 0h24v24H0V0z\" fill=\"none\"/>\n",
              "    <path d=\"M18.56 5.44l.94 2.06.94-2.06 2.06-.94-2.06-.94-.94-2.06-.94 2.06-2.06.94zm-11 1L8.5 8.5l.94-2.06 2.06-.94-2.06-.94L8.5 2.5l-.94 2.06-2.06.94zm10 10l.94 2.06.94-2.06 2.06-.94-2.06-.94-.94-2.06-.94 2.06-2.06.94z\"/><path d=\"M17.41 7.96l-1.37-1.37c-.4-.4-.92-.59-1.43-.59-.52 0-1.04.2-1.43.59L10.3 9.45l-7.72 7.72c-.78.78-.78 2.05 0 2.83L4 21.41c.39.39.9.59 1.41.59.51 0 1.02-.2 1.41-.59l7.78-7.78 2.81-2.81c.8-.78.8-2.07 0-2.86zM5.41 20L4 18.59l7.72-7.72 1.47 1.35L5.41 20z\"/>\n",
              "  </svg>\n",
              "      </button>\n",
              "      \n",
              "  <style>\n",
              "    .colab-df-container {\n",
              "      display:flex;\n",
              "      flex-wrap:wrap;\n",
              "      gap: 12px;\n",
              "    }\n",
              "\n",
              "    .colab-df-convert {\n",
              "      background-color: #E8F0FE;\n",
              "      border: none;\n",
              "      border-radius: 50%;\n",
              "      cursor: pointer;\n",
              "      display: none;\n",
              "      fill: #1967D2;\n",
              "      height: 32px;\n",
              "      padding: 0 0 0 0;\n",
              "      width: 32px;\n",
              "    }\n",
              "\n",
              "    .colab-df-convert:hover {\n",
              "      background-color: #E2EBFA;\n",
              "      box-shadow: 0px 1px 2px rgba(60, 64, 67, 0.3), 0px 1px 3px 1px rgba(60, 64, 67, 0.15);\n",
              "      fill: #174EA6;\n",
              "    }\n",
              "\n",
              "    [theme=dark] .colab-df-convert {\n",
              "      background-color: #3B4455;\n",
              "      fill: #D2E3FC;\n",
              "    }\n",
              "\n",
              "    [theme=dark] .colab-df-convert:hover {\n",
              "      background-color: #434B5C;\n",
              "      box-shadow: 0px 1px 3px 1px rgba(0, 0, 0, 0.15);\n",
              "      filter: drop-shadow(0px 1px 2px rgba(0, 0, 0, 0.3));\n",
              "      fill: #FFFFFF;\n",
              "    }\n",
              "  </style>\n",
              "\n",
              "      <script>\n",
              "        const buttonEl =\n",
              "          document.querySelector('#df-2250dfc0-88fb-4c69-b2d3-1abe1df23c66 button.colab-df-convert');\n",
              "        buttonEl.style.display =\n",
              "          google.colab.kernel.accessAllowed ? 'block' : 'none';\n",
              "\n",
              "        async function convertToInteractive(key) {\n",
              "          const element = document.querySelector('#df-2250dfc0-88fb-4c69-b2d3-1abe1df23c66');\n",
              "          const dataTable =\n",
              "            await google.colab.kernel.invokeFunction('convertToInteractive',\n",
              "                                                     [key], {});\n",
              "          if (!dataTable) return;\n",
              "\n",
              "          const docLinkHtml = 'Like what you see? Visit the ' +\n",
              "            '<a target=\"_blank\" href=https://colab.research.google.com/notebooks/data_table.ipynb>data table notebook</a>'\n",
              "            + ' to learn more about interactive tables.';\n",
              "          element.innerHTML = '';\n",
              "          dataTable['output_type'] = 'display_data';\n",
              "          await google.colab.output.renderOutput(dataTable, element);\n",
              "          const docLink = document.createElement('div');\n",
              "          docLink.innerHTML = docLinkHtml;\n",
              "          element.appendChild(docLink);\n",
              "        }\n",
              "      </script>\n",
              "    </div>\n",
              "  </div>\n",
              "  "
            ]
          },
          "metadata": {}
        },
        {
          "output_type": "stream",
          "name": "stdout",
          "text": [
            "\n",
            "Maximum Metrics: Maximum metrics at their respective thresholds\n"
          ]
        },
        {
          "output_type": "display_data",
          "data": {
            "text/plain": [
              "                         metric  threshold        value    idx\n",
              "0                        max f1   0.423541     0.983496  206.0\n",
              "1                        max f2   0.385474     0.985934  215.0\n",
              "2                  max f0point5   0.594593     0.987518  170.0\n",
              "3                  max accuracy   0.483260     0.990919  194.0\n",
              "4                 max precision   0.999873     1.000000    0.0\n",
              "5                    max recall   0.013068     1.000000  370.0\n",
              "6               max specificity   0.999873     1.000000    0.0\n",
              "7              max absolute_mcc   0.423541     0.977234  206.0\n",
              "8    max min_per_class_accuracy   0.365737     0.989207  220.0\n",
              "9   max mean_per_class_accuracy   0.389728     0.989713  214.0\n",
              "10                      max tns   0.999873  7827.000000    0.0\n",
              "11                      max fns   0.999873  2625.000000    0.0\n",
              "12                      max fps   0.000052  7827.000000  399.0\n",
              "13                      max tps   0.013068  2965.000000  370.0\n",
              "14                      max tnr   0.999873     1.000000    0.0\n",
              "15                      max fnr   0.999873     0.885329    0.0\n",
              "16                      max fpr   0.000052     1.000000  399.0\n",
              "17                      max tpr   0.013068     1.000000  370.0"
            ],
            "text/html": [
              "\n",
              "  <div id=\"df-2169be09-ffeb-49df-8400-b612b95a7ee3\">\n",
              "    <div class=\"colab-df-container\">\n",
              "      <div>\n",
              "<style scoped>\n",
              "    .dataframe tbody tr th:only-of-type {\n",
              "        vertical-align: middle;\n",
              "    }\n",
              "\n",
              "    .dataframe tbody tr th {\n",
              "        vertical-align: top;\n",
              "    }\n",
              "\n",
              "    .dataframe thead th {\n",
              "        text-align: right;\n",
              "    }\n",
              "</style>\n",
              "<table border=\"1\" class=\"dataframe\">\n",
              "  <thead>\n",
              "    <tr style=\"text-align: right;\">\n",
              "      <th></th>\n",
              "      <th>metric</th>\n",
              "      <th>threshold</th>\n",
              "      <th>value</th>\n",
              "      <th>idx</th>\n",
              "    </tr>\n",
              "  </thead>\n",
              "  <tbody>\n",
              "    <tr>\n",
              "      <th>0</th>\n",
              "      <td>max f1</td>\n",
              "      <td>0.423541</td>\n",
              "      <td>0.983496</td>\n",
              "      <td>206.0</td>\n",
              "    </tr>\n",
              "    <tr>\n",
              "      <th>1</th>\n",
              "      <td>max f2</td>\n",
              "      <td>0.385474</td>\n",
              "      <td>0.985934</td>\n",
              "      <td>215.0</td>\n",
              "    </tr>\n",
              "    <tr>\n",
              "      <th>2</th>\n",
              "      <td>max f0point5</td>\n",
              "      <td>0.594593</td>\n",
              "      <td>0.987518</td>\n",
              "      <td>170.0</td>\n",
              "    </tr>\n",
              "    <tr>\n",
              "      <th>3</th>\n",
              "      <td>max accuracy</td>\n",
              "      <td>0.483260</td>\n",
              "      <td>0.990919</td>\n",
              "      <td>194.0</td>\n",
              "    </tr>\n",
              "    <tr>\n",
              "      <th>4</th>\n",
              "      <td>max precision</td>\n",
              "      <td>0.999873</td>\n",
              "      <td>1.000000</td>\n",
              "      <td>0.0</td>\n",
              "    </tr>\n",
              "    <tr>\n",
              "      <th>5</th>\n",
              "      <td>max recall</td>\n",
              "      <td>0.013068</td>\n",
              "      <td>1.000000</td>\n",
              "      <td>370.0</td>\n",
              "    </tr>\n",
              "    <tr>\n",
              "      <th>6</th>\n",
              "      <td>max specificity</td>\n",
              "      <td>0.999873</td>\n",
              "      <td>1.000000</td>\n",
              "      <td>0.0</td>\n",
              "    </tr>\n",
              "    <tr>\n",
              "      <th>7</th>\n",
              "      <td>max absolute_mcc</td>\n",
              "      <td>0.423541</td>\n",
              "      <td>0.977234</td>\n",
              "      <td>206.0</td>\n",
              "    </tr>\n",
              "    <tr>\n",
              "      <th>8</th>\n",
              "      <td>max min_per_class_accuracy</td>\n",
              "      <td>0.365737</td>\n",
              "      <td>0.989207</td>\n",
              "      <td>220.0</td>\n",
              "    </tr>\n",
              "    <tr>\n",
              "      <th>9</th>\n",
              "      <td>max mean_per_class_accuracy</td>\n",
              "      <td>0.389728</td>\n",
              "      <td>0.989713</td>\n",
              "      <td>214.0</td>\n",
              "    </tr>\n",
              "    <tr>\n",
              "      <th>10</th>\n",
              "      <td>max tns</td>\n",
              "      <td>0.999873</td>\n",
              "      <td>7827.000000</td>\n",
              "      <td>0.0</td>\n",
              "    </tr>\n",
              "    <tr>\n",
              "      <th>11</th>\n",
              "      <td>max fns</td>\n",
              "      <td>0.999873</td>\n",
              "      <td>2625.000000</td>\n",
              "      <td>0.0</td>\n",
              "    </tr>\n",
              "    <tr>\n",
              "      <th>12</th>\n",
              "      <td>max fps</td>\n",
              "      <td>0.000052</td>\n",
              "      <td>7827.000000</td>\n",
              "      <td>399.0</td>\n",
              "    </tr>\n",
              "    <tr>\n",
              "      <th>13</th>\n",
              "      <td>max tps</td>\n",
              "      <td>0.013068</td>\n",
              "      <td>2965.000000</td>\n",
              "      <td>370.0</td>\n",
              "    </tr>\n",
              "    <tr>\n",
              "      <th>14</th>\n",
              "      <td>max tnr</td>\n",
              "      <td>0.999873</td>\n",
              "      <td>1.000000</td>\n",
              "      <td>0.0</td>\n",
              "    </tr>\n",
              "    <tr>\n",
              "      <th>15</th>\n",
              "      <td>max fnr</td>\n",
              "      <td>0.999873</td>\n",
              "      <td>0.885329</td>\n",
              "      <td>0.0</td>\n",
              "    </tr>\n",
              "    <tr>\n",
              "      <th>16</th>\n",
              "      <td>max fpr</td>\n",
              "      <td>0.000052</td>\n",
              "      <td>1.000000</td>\n",
              "      <td>399.0</td>\n",
              "    </tr>\n",
              "    <tr>\n",
              "      <th>17</th>\n",
              "      <td>max tpr</td>\n",
              "      <td>0.013068</td>\n",
              "      <td>1.000000</td>\n",
              "      <td>370.0</td>\n",
              "    </tr>\n",
              "  </tbody>\n",
              "</table>\n",
              "</div>\n",
              "      <button class=\"colab-df-convert\" onclick=\"convertToInteractive('df-2169be09-ffeb-49df-8400-b612b95a7ee3')\"\n",
              "              title=\"Convert this dataframe to an interactive table.\"\n",
              "              style=\"display:none;\">\n",
              "        \n",
              "  <svg xmlns=\"http://www.w3.org/2000/svg\" height=\"24px\"viewBox=\"0 0 24 24\"\n",
              "       width=\"24px\">\n",
              "    <path d=\"M0 0h24v24H0V0z\" fill=\"none\"/>\n",
              "    <path d=\"M18.56 5.44l.94 2.06.94-2.06 2.06-.94-2.06-.94-.94-2.06-.94 2.06-2.06.94zm-11 1L8.5 8.5l.94-2.06 2.06-.94-2.06-.94L8.5 2.5l-.94 2.06-2.06.94zm10 10l.94 2.06.94-2.06 2.06-.94-2.06-.94-.94-2.06-.94 2.06-2.06.94z\"/><path d=\"M17.41 7.96l-1.37-1.37c-.4-.4-.92-.59-1.43-.59-.52 0-1.04.2-1.43.59L10.3 9.45l-7.72 7.72c-.78.78-.78 2.05 0 2.83L4 21.41c.39.39.9.59 1.41.59.51 0 1.02-.2 1.41-.59l7.78-7.78 2.81-2.81c.8-.78.8-2.07 0-2.86zM5.41 20L4 18.59l7.72-7.72 1.47 1.35L5.41 20z\"/>\n",
              "  </svg>\n",
              "      </button>\n",
              "      \n",
              "  <style>\n",
              "    .colab-df-container {\n",
              "      display:flex;\n",
              "      flex-wrap:wrap;\n",
              "      gap: 12px;\n",
              "    }\n",
              "\n",
              "    .colab-df-convert {\n",
              "      background-color: #E8F0FE;\n",
              "      border: none;\n",
              "      border-radius: 50%;\n",
              "      cursor: pointer;\n",
              "      display: none;\n",
              "      fill: #1967D2;\n",
              "      height: 32px;\n",
              "      padding: 0 0 0 0;\n",
              "      width: 32px;\n",
              "    }\n",
              "\n",
              "    .colab-df-convert:hover {\n",
              "      background-color: #E2EBFA;\n",
              "      box-shadow: 0px 1px 2px rgba(60, 64, 67, 0.3), 0px 1px 3px 1px rgba(60, 64, 67, 0.15);\n",
              "      fill: #174EA6;\n",
              "    }\n",
              "\n",
              "    [theme=dark] .colab-df-convert {\n",
              "      background-color: #3B4455;\n",
              "      fill: #D2E3FC;\n",
              "    }\n",
              "\n",
              "    [theme=dark] .colab-df-convert:hover {\n",
              "      background-color: #434B5C;\n",
              "      box-shadow: 0px 1px 3px 1px rgba(0, 0, 0, 0.15);\n",
              "      filter: drop-shadow(0px 1px 2px rgba(0, 0, 0, 0.3));\n",
              "      fill: #FFFFFF;\n",
              "    }\n",
              "  </style>\n",
              "\n",
              "      <script>\n",
              "        const buttonEl =\n",
              "          document.querySelector('#df-2169be09-ffeb-49df-8400-b612b95a7ee3 button.colab-df-convert');\n",
              "        buttonEl.style.display =\n",
              "          google.colab.kernel.accessAllowed ? 'block' : 'none';\n",
              "\n",
              "        async function convertToInteractive(key) {\n",
              "          const element = document.querySelector('#df-2169be09-ffeb-49df-8400-b612b95a7ee3');\n",
              "          const dataTable =\n",
              "            await google.colab.kernel.invokeFunction('convertToInteractive',\n",
              "                                                     [key], {});\n",
              "          if (!dataTable) return;\n",
              "\n",
              "          const docLinkHtml = 'Like what you see? Visit the ' +\n",
              "            '<a target=\"_blank\" href=https://colab.research.google.com/notebooks/data_table.ipynb>data table notebook</a>'\n",
              "            + ' to learn more about interactive tables.';\n",
              "          element.innerHTML = '';\n",
              "          dataTable['output_type'] = 'display_data';\n",
              "          await google.colab.output.renderOutput(dataTable, element);\n",
              "          const docLink = document.createElement('div');\n",
              "          docLink.innerHTML = docLinkHtml;\n",
              "          element.appendChild(docLink);\n",
              "        }\n",
              "      </script>\n",
              "    </div>\n",
              "  </div>\n",
              "  "
            ]
          },
          "metadata": {}
        },
        {
          "output_type": "stream",
          "name": "stdout",
          "text": [
            "\n",
            "Gains/Lift Table: Avg response rate: 27.47 %, avg score: 27.46 %\n"
          ]
        },
        {
          "output_type": "display_data",
          "data": {
            "text/plain": [
              "    group  cumulative_data_fraction  lower_threshold      lift  \\\n",
              "0       1                  0.010100         0.999926  3.639798   \n",
              "1       2                  0.020015         0.999858  3.639798   \n",
              "2       3                  0.030022         0.999765  3.639798   \n",
              "3       4                  0.040030         0.999636  3.639798   \n",
              "4       5                  0.050037         0.999499  3.639798   \n",
              "5       6                  0.100074         0.997556  3.639798   \n",
              "6       7                  0.150019         0.991210  3.639798   \n",
              "7       8                  0.200056         0.964671  3.639798   \n",
              "8       9                  0.300037         0.151260  2.685152   \n",
              "9      10                  0.400019         0.019669  0.030360   \n",
              "10     11                  0.500000         0.005930  0.003373   \n",
              "11     12                  0.599981         0.001977  0.000000   \n",
              "12     13                  0.699963         0.000519  0.000000   \n",
              "13     14                  0.799944         0.000141  0.000000   \n",
              "14     15                  0.899926         0.000052  0.000000   \n",
              "15     16                  1.000000         0.000003  0.000000   \n",
              "\n",
              "    cumulative_lift  response_rate     score  cumulative_response_rate  \\\n",
              "0          3.639798       1.000000  0.999953                  1.000000   \n",
              "1          3.639798       1.000000  0.999889                  1.000000   \n",
              "2          3.639798       1.000000  0.999815                  1.000000   \n",
              "3          3.639798       1.000000  0.999700                  1.000000   \n",
              "4          3.639798       1.000000  0.999573                  1.000000   \n",
              "5          3.639798       1.000000  0.998654                  1.000000   \n",
              "6          3.639798       1.000000  0.994860                  1.000000   \n",
              "7          3.639798       1.000000  0.981236                  1.000000   \n",
              "8          3.321681       0.737720  0.685018                  0.912600   \n",
              "9          2.499041       0.008341  0.057354                  0.686588   \n",
              "10         2.000000       0.000927  0.011119                  0.549481   \n",
              "11         1.666718       0.000000  0.003670                  0.457915   \n",
              "12         1.428647       0.000000  0.001121                  0.392507   \n",
              "13         1.250087       0.000000  0.000283                  0.343450   \n",
              "14         1.111203       0.000000  0.000088                  0.305292   \n",
              "15         1.000000       0.000000  0.000029                  0.274741   \n",
              "\n",
              "    cumulative_score  capture_rate  cumulative_capture_rate        gain  \\\n",
              "0           0.999953      0.036762                 0.036762  263.979764   \n",
              "1           0.999921      0.036088                 0.072850  263.979764   \n",
              "2           0.999886      0.036425                 0.109275  263.979764   \n",
              "3           0.999839      0.036425                 0.145700  263.979764   \n",
              "4           0.999786      0.036425                 0.182125  263.979764   \n",
              "5           0.999220      0.182125                 0.364250  263.979764   \n",
              "6           0.997768      0.181788                 0.546037  263.979764   \n",
              "7           0.993633      0.182125                 0.728162  263.979764   \n",
              "8           0.890793      0.268465                 0.996627  168.515192   \n",
              "9           0.682482      0.003035                 0.999663  -96.964024   \n",
              "10          0.548234      0.000337                 1.000000  -99.662669   \n",
              "11          0.457487      0.000000                 1.000000 -100.000000   \n",
              "12          0.392301      0.000000                 1.000000 -100.000000   \n",
              "13          0.343304      0.000000                 1.000000 -100.000000   \n",
              "14          0.305173      0.000000                 1.000000 -100.000000   \n",
              "15          0.274636      0.000000                 1.000000 -100.000000   \n",
              "\n",
              "    cumulative_gain  kolmogorov_smirnov  \n",
              "0        263.979764            0.036762  \n",
              "1        263.979764            0.072850  \n",
              "2        263.979764            0.109275  \n",
              "3        263.979764            0.145700  \n",
              "4        263.979764            0.182125  \n",
              "5        263.979764            0.364250  \n",
              "6        263.979764            0.546037  \n",
              "7        263.979764            0.728162  \n",
              "8        232.168067            0.960470  \n",
              "9        149.904105            0.826800  \n",
              "10       100.000000            0.689408  \n",
              "11        66.671815            0.551552  \n",
              "12        42.864707            0.413696  \n",
              "13        25.008688            0.275840  \n",
              "14        11.120264            0.137984  \n",
              "15         0.000000            0.000000  "
            ],
            "text/html": [
              "\n",
              "  <div id=\"df-bc1e0ff6-5687-4dcf-8f60-1710f9ea7c02\">\n",
              "    <div class=\"colab-df-container\">\n",
              "      <div>\n",
              "<style scoped>\n",
              "    .dataframe tbody tr th:only-of-type {\n",
              "        vertical-align: middle;\n",
              "    }\n",
              "\n",
              "    .dataframe tbody tr th {\n",
              "        vertical-align: top;\n",
              "    }\n",
              "\n",
              "    .dataframe thead th {\n",
              "        text-align: right;\n",
              "    }\n",
              "</style>\n",
              "<table border=\"1\" class=\"dataframe\">\n",
              "  <thead>\n",
              "    <tr style=\"text-align: right;\">\n",
              "      <th></th>\n",
              "      <th>group</th>\n",
              "      <th>cumulative_data_fraction</th>\n",
              "      <th>lower_threshold</th>\n",
              "      <th>lift</th>\n",
              "      <th>cumulative_lift</th>\n",
              "      <th>response_rate</th>\n",
              "      <th>score</th>\n",
              "      <th>cumulative_response_rate</th>\n",
              "      <th>cumulative_score</th>\n",
              "      <th>capture_rate</th>\n",
              "      <th>cumulative_capture_rate</th>\n",
              "      <th>gain</th>\n",
              "      <th>cumulative_gain</th>\n",
              "      <th>kolmogorov_smirnov</th>\n",
              "    </tr>\n",
              "  </thead>\n",
              "  <tbody>\n",
              "    <tr>\n",
              "      <th>0</th>\n",
              "      <td>1</td>\n",
              "      <td>0.010100</td>\n",
              "      <td>0.999926</td>\n",
              "      <td>3.639798</td>\n",
              "      <td>3.639798</td>\n",
              "      <td>1.000000</td>\n",
              "      <td>0.999953</td>\n",
              "      <td>1.000000</td>\n",
              "      <td>0.999953</td>\n",
              "      <td>0.036762</td>\n",
              "      <td>0.036762</td>\n",
              "      <td>263.979764</td>\n",
              "      <td>263.979764</td>\n",
              "      <td>0.036762</td>\n",
              "    </tr>\n",
              "    <tr>\n",
              "      <th>1</th>\n",
              "      <td>2</td>\n",
              "      <td>0.020015</td>\n",
              "      <td>0.999858</td>\n",
              "      <td>3.639798</td>\n",
              "      <td>3.639798</td>\n",
              "      <td>1.000000</td>\n",
              "      <td>0.999889</td>\n",
              "      <td>1.000000</td>\n",
              "      <td>0.999921</td>\n",
              "      <td>0.036088</td>\n",
              "      <td>0.072850</td>\n",
              "      <td>263.979764</td>\n",
              "      <td>263.979764</td>\n",
              "      <td>0.072850</td>\n",
              "    </tr>\n",
              "    <tr>\n",
              "      <th>2</th>\n",
              "      <td>3</td>\n",
              "      <td>0.030022</td>\n",
              "      <td>0.999765</td>\n",
              "      <td>3.639798</td>\n",
              "      <td>3.639798</td>\n",
              "      <td>1.000000</td>\n",
              "      <td>0.999815</td>\n",
              "      <td>1.000000</td>\n",
              "      <td>0.999886</td>\n",
              "      <td>0.036425</td>\n",
              "      <td>0.109275</td>\n",
              "      <td>263.979764</td>\n",
              "      <td>263.979764</td>\n",
              "      <td>0.109275</td>\n",
              "    </tr>\n",
              "    <tr>\n",
              "      <th>3</th>\n",
              "      <td>4</td>\n",
              "      <td>0.040030</td>\n",
              "      <td>0.999636</td>\n",
              "      <td>3.639798</td>\n",
              "      <td>3.639798</td>\n",
              "      <td>1.000000</td>\n",
              "      <td>0.999700</td>\n",
              "      <td>1.000000</td>\n",
              "      <td>0.999839</td>\n",
              "      <td>0.036425</td>\n",
              "      <td>0.145700</td>\n",
              "      <td>263.979764</td>\n",
              "      <td>263.979764</td>\n",
              "      <td>0.145700</td>\n",
              "    </tr>\n",
              "    <tr>\n",
              "      <th>4</th>\n",
              "      <td>5</td>\n",
              "      <td>0.050037</td>\n",
              "      <td>0.999499</td>\n",
              "      <td>3.639798</td>\n",
              "      <td>3.639798</td>\n",
              "      <td>1.000000</td>\n",
              "      <td>0.999573</td>\n",
              "      <td>1.000000</td>\n",
              "      <td>0.999786</td>\n",
              "      <td>0.036425</td>\n",
              "      <td>0.182125</td>\n",
              "      <td>263.979764</td>\n",
              "      <td>263.979764</td>\n",
              "      <td>0.182125</td>\n",
              "    </tr>\n",
              "    <tr>\n",
              "      <th>5</th>\n",
              "      <td>6</td>\n",
              "      <td>0.100074</td>\n",
              "      <td>0.997556</td>\n",
              "      <td>3.639798</td>\n",
              "      <td>3.639798</td>\n",
              "      <td>1.000000</td>\n",
              "      <td>0.998654</td>\n",
              "      <td>1.000000</td>\n",
              "      <td>0.999220</td>\n",
              "      <td>0.182125</td>\n",
              "      <td>0.364250</td>\n",
              "      <td>263.979764</td>\n",
              "      <td>263.979764</td>\n",
              "      <td>0.364250</td>\n",
              "    </tr>\n",
              "    <tr>\n",
              "      <th>6</th>\n",
              "      <td>7</td>\n",
              "      <td>0.150019</td>\n",
              "      <td>0.991210</td>\n",
              "      <td>3.639798</td>\n",
              "      <td>3.639798</td>\n",
              "      <td>1.000000</td>\n",
              "      <td>0.994860</td>\n",
              "      <td>1.000000</td>\n",
              "      <td>0.997768</td>\n",
              "      <td>0.181788</td>\n",
              "      <td>0.546037</td>\n",
              "      <td>263.979764</td>\n",
              "      <td>263.979764</td>\n",
              "      <td>0.546037</td>\n",
              "    </tr>\n",
              "    <tr>\n",
              "      <th>7</th>\n",
              "      <td>8</td>\n",
              "      <td>0.200056</td>\n",
              "      <td>0.964671</td>\n",
              "      <td>3.639798</td>\n",
              "      <td>3.639798</td>\n",
              "      <td>1.000000</td>\n",
              "      <td>0.981236</td>\n",
              "      <td>1.000000</td>\n",
              "      <td>0.993633</td>\n",
              "      <td>0.182125</td>\n",
              "      <td>0.728162</td>\n",
              "      <td>263.979764</td>\n",
              "      <td>263.979764</td>\n",
              "      <td>0.728162</td>\n",
              "    </tr>\n",
              "    <tr>\n",
              "      <th>8</th>\n",
              "      <td>9</td>\n",
              "      <td>0.300037</td>\n",
              "      <td>0.151260</td>\n",
              "      <td>2.685152</td>\n",
              "      <td>3.321681</td>\n",
              "      <td>0.737720</td>\n",
              "      <td>0.685018</td>\n",
              "      <td>0.912600</td>\n",
              "      <td>0.890793</td>\n",
              "      <td>0.268465</td>\n",
              "      <td>0.996627</td>\n",
              "      <td>168.515192</td>\n",
              "      <td>232.168067</td>\n",
              "      <td>0.960470</td>\n",
              "    </tr>\n",
              "    <tr>\n",
              "      <th>9</th>\n",
              "      <td>10</td>\n",
              "      <td>0.400019</td>\n",
              "      <td>0.019669</td>\n",
              "      <td>0.030360</td>\n",
              "      <td>2.499041</td>\n",
              "      <td>0.008341</td>\n",
              "      <td>0.057354</td>\n",
              "      <td>0.686588</td>\n",
              "      <td>0.682482</td>\n",
              "      <td>0.003035</td>\n",
              "      <td>0.999663</td>\n",
              "      <td>-96.964024</td>\n",
              "      <td>149.904105</td>\n",
              "      <td>0.826800</td>\n",
              "    </tr>\n",
              "    <tr>\n",
              "      <th>10</th>\n",
              "      <td>11</td>\n",
              "      <td>0.500000</td>\n",
              "      <td>0.005930</td>\n",
              "      <td>0.003373</td>\n",
              "      <td>2.000000</td>\n",
              "      <td>0.000927</td>\n",
              "      <td>0.011119</td>\n",
              "      <td>0.549481</td>\n",
              "      <td>0.548234</td>\n",
              "      <td>0.000337</td>\n",
              "      <td>1.000000</td>\n",
              "      <td>-99.662669</td>\n",
              "      <td>100.000000</td>\n",
              "      <td>0.689408</td>\n",
              "    </tr>\n",
              "    <tr>\n",
              "      <th>11</th>\n",
              "      <td>12</td>\n",
              "      <td>0.599981</td>\n",
              "      <td>0.001977</td>\n",
              "      <td>0.000000</td>\n",
              "      <td>1.666718</td>\n",
              "      <td>0.000000</td>\n",
              "      <td>0.003670</td>\n",
              "      <td>0.457915</td>\n",
              "      <td>0.457487</td>\n",
              "      <td>0.000000</td>\n",
              "      <td>1.000000</td>\n",
              "      <td>-100.000000</td>\n",
              "      <td>66.671815</td>\n",
              "      <td>0.551552</td>\n",
              "    </tr>\n",
              "    <tr>\n",
              "      <th>12</th>\n",
              "      <td>13</td>\n",
              "      <td>0.699963</td>\n",
              "      <td>0.000519</td>\n",
              "      <td>0.000000</td>\n",
              "      <td>1.428647</td>\n",
              "      <td>0.000000</td>\n",
              "      <td>0.001121</td>\n",
              "      <td>0.392507</td>\n",
              "      <td>0.392301</td>\n",
              "      <td>0.000000</td>\n",
              "      <td>1.000000</td>\n",
              "      <td>-100.000000</td>\n",
              "      <td>42.864707</td>\n",
              "      <td>0.413696</td>\n",
              "    </tr>\n",
              "    <tr>\n",
              "      <th>13</th>\n",
              "      <td>14</td>\n",
              "      <td>0.799944</td>\n",
              "      <td>0.000141</td>\n",
              "      <td>0.000000</td>\n",
              "      <td>1.250087</td>\n",
              "      <td>0.000000</td>\n",
              "      <td>0.000283</td>\n",
              "      <td>0.343450</td>\n",
              "      <td>0.343304</td>\n",
              "      <td>0.000000</td>\n",
              "      <td>1.000000</td>\n",
              "      <td>-100.000000</td>\n",
              "      <td>25.008688</td>\n",
              "      <td>0.275840</td>\n",
              "    </tr>\n",
              "    <tr>\n",
              "      <th>14</th>\n",
              "      <td>15</td>\n",
              "      <td>0.899926</td>\n",
              "      <td>0.000052</td>\n",
              "      <td>0.000000</td>\n",
              "      <td>1.111203</td>\n",
              "      <td>0.000000</td>\n",
              "      <td>0.000088</td>\n",
              "      <td>0.305292</td>\n",
              "      <td>0.305173</td>\n",
              "      <td>0.000000</td>\n",
              "      <td>1.000000</td>\n",
              "      <td>-100.000000</td>\n",
              "      <td>11.120264</td>\n",
              "      <td>0.137984</td>\n",
              "    </tr>\n",
              "    <tr>\n",
              "      <th>15</th>\n",
              "      <td>16</td>\n",
              "      <td>1.000000</td>\n",
              "      <td>0.000003</td>\n",
              "      <td>0.000000</td>\n",
              "      <td>1.000000</td>\n",
              "      <td>0.000000</td>\n",
              "      <td>0.000029</td>\n",
              "      <td>0.274741</td>\n",
              "      <td>0.274636</td>\n",
              "      <td>0.000000</td>\n",
              "      <td>1.000000</td>\n",
              "      <td>-100.000000</td>\n",
              "      <td>0.000000</td>\n",
              "      <td>0.000000</td>\n",
              "    </tr>\n",
              "  </tbody>\n",
              "</table>\n",
              "</div>\n",
              "      <button class=\"colab-df-convert\" onclick=\"convertToInteractive('df-bc1e0ff6-5687-4dcf-8f60-1710f9ea7c02')\"\n",
              "              title=\"Convert this dataframe to an interactive table.\"\n",
              "              style=\"display:none;\">\n",
              "        \n",
              "  <svg xmlns=\"http://www.w3.org/2000/svg\" height=\"24px\"viewBox=\"0 0 24 24\"\n",
              "       width=\"24px\">\n",
              "    <path d=\"M0 0h24v24H0V0z\" fill=\"none\"/>\n",
              "    <path d=\"M18.56 5.44l.94 2.06.94-2.06 2.06-.94-2.06-.94-.94-2.06-.94 2.06-2.06.94zm-11 1L8.5 8.5l.94-2.06 2.06-.94-2.06-.94L8.5 2.5l-.94 2.06-2.06.94zm10 10l.94 2.06.94-2.06 2.06-.94-2.06-.94-.94-2.06-.94 2.06-2.06.94z\"/><path d=\"M17.41 7.96l-1.37-1.37c-.4-.4-.92-.59-1.43-.59-.52 0-1.04.2-1.43.59L10.3 9.45l-7.72 7.72c-.78.78-.78 2.05 0 2.83L4 21.41c.39.39.9.59 1.41.59.51 0 1.02-.2 1.41-.59l7.78-7.78 2.81-2.81c.8-.78.8-2.07 0-2.86zM5.41 20L4 18.59l7.72-7.72 1.47 1.35L5.41 20z\"/>\n",
              "  </svg>\n",
              "      </button>\n",
              "      \n",
              "  <style>\n",
              "    .colab-df-container {\n",
              "      display:flex;\n",
              "      flex-wrap:wrap;\n",
              "      gap: 12px;\n",
              "    }\n",
              "\n",
              "    .colab-df-convert {\n",
              "      background-color: #E8F0FE;\n",
              "      border: none;\n",
              "      border-radius: 50%;\n",
              "      cursor: pointer;\n",
              "      display: none;\n",
              "      fill: #1967D2;\n",
              "      height: 32px;\n",
              "      padding: 0 0 0 0;\n",
              "      width: 32px;\n",
              "    }\n",
              "\n",
              "    .colab-df-convert:hover {\n",
              "      background-color: #E2EBFA;\n",
              "      box-shadow: 0px 1px 2px rgba(60, 64, 67, 0.3), 0px 1px 3px 1px rgba(60, 64, 67, 0.15);\n",
              "      fill: #174EA6;\n",
              "    }\n",
              "\n",
              "    [theme=dark] .colab-df-convert {\n",
              "      background-color: #3B4455;\n",
              "      fill: #D2E3FC;\n",
              "    }\n",
              "\n",
              "    [theme=dark] .colab-df-convert:hover {\n",
              "      background-color: #434B5C;\n",
              "      box-shadow: 0px 1px 3px 1px rgba(0, 0, 0, 0.15);\n",
              "      filter: drop-shadow(0px 1px 2px rgba(0, 0, 0, 0.3));\n",
              "      fill: #FFFFFF;\n",
              "    }\n",
              "  </style>\n",
              "\n",
              "      <script>\n",
              "        const buttonEl =\n",
              "          document.querySelector('#df-bc1e0ff6-5687-4dcf-8f60-1710f9ea7c02 button.colab-df-convert');\n",
              "        buttonEl.style.display =\n",
              "          google.colab.kernel.accessAllowed ? 'block' : 'none';\n",
              "\n",
              "        async function convertToInteractive(key) {\n",
              "          const element = document.querySelector('#df-bc1e0ff6-5687-4dcf-8f60-1710f9ea7c02');\n",
              "          const dataTable =\n",
              "            await google.colab.kernel.invokeFunction('convertToInteractive',\n",
              "                                                     [key], {});\n",
              "          if (!dataTable) return;\n",
              "\n",
              "          const docLinkHtml = 'Like what you see? Visit the ' +\n",
              "            '<a target=\"_blank\" href=https://colab.research.google.com/notebooks/data_table.ipynb>data table notebook</a>'\n",
              "            + ' to learn more about interactive tables.';\n",
              "          element.innerHTML = '';\n",
              "          dataTable['output_type'] = 'display_data';\n",
              "          await google.colab.output.renderOutput(dataTable, element);\n",
              "          const docLink = document.createElement('div');\n",
              "          docLink.innerHTML = docLinkHtml;\n",
              "          element.appendChild(docLink);\n",
              "        }\n",
              "      </script>\n",
              "    </div>\n",
              "  </div>\n",
              "  "
            ]
          },
          "metadata": {}
        },
        {
          "output_type": "stream",
          "name": "stdout",
          "text": [
            "\n",
            "\n",
            "ModelMetricsBinomial: xgboost\n",
            "** Reported on cross-validation data. **\n",
            "\n",
            "MSE: 0.02924151710162\n",
            "RMSE: 0.1710015119863564\n",
            "LogLoss: 0.10178759269602781\n",
            "Mean Per-Class Error: 0.053299309197138545\n",
            "AUC: 0.9916070134706881\n",
            "AUCPR: 0.9811143115074166\n",
            "Gini: 0.9832140269413763\n",
            "\n",
            "Confusion Matrix (Act/Pred) for max f1 @ threshold = 0.5507952272891998: \n"
          ]
        },
        {
          "output_type": "display_data",
          "data": {
            "text/plain": [
              "               0       1   Error              Rate\n",
              "0      0  7679.0   148.0  0.0189    (148.0/7827.0)\n",
              "1      1   260.0  2705.0  0.0877    (260.0/2965.0)\n",
              "2  Total  7939.0  2853.0  0.0378   (408.0/10792.0)"
            ],
            "text/html": [
              "\n",
              "  <div id=\"df-a664dfbb-6eb0-4738-9a93-fd72079d216c\">\n",
              "    <div class=\"colab-df-container\">\n",
              "      <div>\n",
              "<style scoped>\n",
              "    .dataframe tbody tr th:only-of-type {\n",
              "        vertical-align: middle;\n",
              "    }\n",
              "\n",
              "    .dataframe tbody tr th {\n",
              "        vertical-align: top;\n",
              "    }\n",
              "\n",
              "    .dataframe thead th {\n",
              "        text-align: right;\n",
              "    }\n",
              "</style>\n",
              "<table border=\"1\" class=\"dataframe\">\n",
              "  <thead>\n",
              "    <tr style=\"text-align: right;\">\n",
              "      <th></th>\n",
              "      <th></th>\n",
              "      <th>0</th>\n",
              "      <th>1</th>\n",
              "      <th>Error</th>\n",
              "      <th>Rate</th>\n",
              "    </tr>\n",
              "  </thead>\n",
              "  <tbody>\n",
              "    <tr>\n",
              "      <th>0</th>\n",
              "      <td>0</td>\n",
              "      <td>7679.0</td>\n",
              "      <td>148.0</td>\n",
              "      <td>0.0189</td>\n",
              "      <td>(148.0/7827.0)</td>\n",
              "    </tr>\n",
              "    <tr>\n",
              "      <th>1</th>\n",
              "      <td>1</td>\n",
              "      <td>260.0</td>\n",
              "      <td>2705.0</td>\n",
              "      <td>0.0877</td>\n",
              "      <td>(260.0/2965.0)</td>\n",
              "    </tr>\n",
              "    <tr>\n",
              "      <th>2</th>\n",
              "      <td>Total</td>\n",
              "      <td>7939.0</td>\n",
              "      <td>2853.0</td>\n",
              "      <td>0.0378</td>\n",
              "      <td>(408.0/10792.0)</td>\n",
              "    </tr>\n",
              "  </tbody>\n",
              "</table>\n",
              "</div>\n",
              "      <button class=\"colab-df-convert\" onclick=\"convertToInteractive('df-a664dfbb-6eb0-4738-9a93-fd72079d216c')\"\n",
              "              title=\"Convert this dataframe to an interactive table.\"\n",
              "              style=\"display:none;\">\n",
              "        \n",
              "  <svg xmlns=\"http://www.w3.org/2000/svg\" height=\"24px\"viewBox=\"0 0 24 24\"\n",
              "       width=\"24px\">\n",
              "    <path d=\"M0 0h24v24H0V0z\" fill=\"none\"/>\n",
              "    <path d=\"M18.56 5.44l.94 2.06.94-2.06 2.06-.94-2.06-.94-.94-2.06-.94 2.06-2.06.94zm-11 1L8.5 8.5l.94-2.06 2.06-.94-2.06-.94L8.5 2.5l-.94 2.06-2.06.94zm10 10l.94 2.06.94-2.06 2.06-.94-2.06-.94-.94-2.06-.94 2.06-2.06.94z\"/><path d=\"M17.41 7.96l-1.37-1.37c-.4-.4-.92-.59-1.43-.59-.52 0-1.04.2-1.43.59L10.3 9.45l-7.72 7.72c-.78.78-.78 2.05 0 2.83L4 21.41c.39.39.9.59 1.41.59.51 0 1.02-.2 1.41-.59l7.78-7.78 2.81-2.81c.8-.78.8-2.07 0-2.86zM5.41 20L4 18.59l7.72-7.72 1.47 1.35L5.41 20z\"/>\n",
              "  </svg>\n",
              "      </button>\n",
              "      \n",
              "  <style>\n",
              "    .colab-df-container {\n",
              "      display:flex;\n",
              "      flex-wrap:wrap;\n",
              "      gap: 12px;\n",
              "    }\n",
              "\n",
              "    .colab-df-convert {\n",
              "      background-color: #E8F0FE;\n",
              "      border: none;\n",
              "      border-radius: 50%;\n",
              "      cursor: pointer;\n",
              "      display: none;\n",
              "      fill: #1967D2;\n",
              "      height: 32px;\n",
              "      padding: 0 0 0 0;\n",
              "      width: 32px;\n",
              "    }\n",
              "\n",
              "    .colab-df-convert:hover {\n",
              "      background-color: #E2EBFA;\n",
              "      box-shadow: 0px 1px 2px rgba(60, 64, 67, 0.3), 0px 1px 3px 1px rgba(60, 64, 67, 0.15);\n",
              "      fill: #174EA6;\n",
              "    }\n",
              "\n",
              "    [theme=dark] .colab-df-convert {\n",
              "      background-color: #3B4455;\n",
              "      fill: #D2E3FC;\n",
              "    }\n",
              "\n",
              "    [theme=dark] .colab-df-convert:hover {\n",
              "      background-color: #434B5C;\n",
              "      box-shadow: 0px 1px 3px 1px rgba(0, 0, 0, 0.15);\n",
              "      filter: drop-shadow(0px 1px 2px rgba(0, 0, 0, 0.3));\n",
              "      fill: #FFFFFF;\n",
              "    }\n",
              "  </style>\n",
              "\n",
              "      <script>\n",
              "        const buttonEl =\n",
              "          document.querySelector('#df-a664dfbb-6eb0-4738-9a93-fd72079d216c button.colab-df-convert');\n",
              "        buttonEl.style.display =\n",
              "          google.colab.kernel.accessAllowed ? 'block' : 'none';\n",
              "\n",
              "        async function convertToInteractive(key) {\n",
              "          const element = document.querySelector('#df-a664dfbb-6eb0-4738-9a93-fd72079d216c');\n",
              "          const dataTable =\n",
              "            await google.colab.kernel.invokeFunction('convertToInteractive',\n",
              "                                                     [key], {});\n",
              "          if (!dataTable) return;\n",
              "\n",
              "          const docLinkHtml = 'Like what you see? Visit the ' +\n",
              "            '<a target=\"_blank\" href=https://colab.research.google.com/notebooks/data_table.ipynb>data table notebook</a>'\n",
              "            + ' to learn more about interactive tables.';\n",
              "          element.innerHTML = '';\n",
              "          dataTable['output_type'] = 'display_data';\n",
              "          await google.colab.output.renderOutput(dataTable, element);\n",
              "          const docLink = document.createElement('div');\n",
              "          docLink.innerHTML = docLinkHtml;\n",
              "          element.appendChild(docLink);\n",
              "        }\n",
              "      </script>\n",
              "    </div>\n",
              "  </div>\n",
              "  "
            ]
          },
          "metadata": {}
        },
        {
          "output_type": "stream",
          "name": "stdout",
          "text": [
            "\n",
            "Maximum Metrics: Maximum metrics at their respective thresholds\n"
          ]
        },
        {
          "output_type": "display_data",
          "data": {
            "text/plain": [
              "                         metric  threshold        value    idx\n",
              "0                        max f1   0.550795     0.929873  171.0\n",
              "1                        max f2   0.173391     0.941569  276.0\n",
              "2                  max f0point5   0.714648     0.948544  130.0\n",
              "3                  max accuracy   0.550795     0.962194  171.0\n",
              "4                 max precision   0.999825     1.000000    0.0\n",
              "5                    max recall   0.000358     1.000000  397.0\n",
              "6               max specificity   0.999825     1.000000    0.0\n",
              "7              max absolute_mcc   0.550795     0.904321  171.0\n",
              "8    max min_per_class_accuracy   0.214657     0.952983  261.0\n",
              "9   max mean_per_class_accuracy   0.294005     0.954074  235.0\n",
              "10                      max tns   0.999825  7827.000000    0.0\n",
              "11                      max fns   0.999825  2455.000000    0.0\n",
              "12                      max fps   0.000029  7827.000000  399.0\n",
              "13                      max tps   0.000358  2965.000000  397.0\n",
              "14                      max tnr   0.999825     1.000000    0.0\n",
              "15                      max fnr   0.999825     0.827993    0.0\n",
              "16                      max fpr   0.000029     1.000000  399.0\n",
              "17                      max tpr   0.000358     1.000000  397.0"
            ],
            "text/html": [
              "\n",
              "  <div id=\"df-ed41c827-38f6-4946-8562-7bee1f458748\">\n",
              "    <div class=\"colab-df-container\">\n",
              "      <div>\n",
              "<style scoped>\n",
              "    .dataframe tbody tr th:only-of-type {\n",
              "        vertical-align: middle;\n",
              "    }\n",
              "\n",
              "    .dataframe tbody tr th {\n",
              "        vertical-align: top;\n",
              "    }\n",
              "\n",
              "    .dataframe thead th {\n",
              "        text-align: right;\n",
              "    }\n",
              "</style>\n",
              "<table border=\"1\" class=\"dataframe\">\n",
              "  <thead>\n",
              "    <tr style=\"text-align: right;\">\n",
              "      <th></th>\n",
              "      <th>metric</th>\n",
              "      <th>threshold</th>\n",
              "      <th>value</th>\n",
              "      <th>idx</th>\n",
              "    </tr>\n",
              "  </thead>\n",
              "  <tbody>\n",
              "    <tr>\n",
              "      <th>0</th>\n",
              "      <td>max f1</td>\n",
              "      <td>0.550795</td>\n",
              "      <td>0.929873</td>\n",
              "      <td>171.0</td>\n",
              "    </tr>\n",
              "    <tr>\n",
              "      <th>1</th>\n",
              "      <td>max f2</td>\n",
              "      <td>0.173391</td>\n",
              "      <td>0.941569</td>\n",
              "      <td>276.0</td>\n",
              "    </tr>\n",
              "    <tr>\n",
              "      <th>2</th>\n",
              "      <td>max f0point5</td>\n",
              "      <td>0.714648</td>\n",
              "      <td>0.948544</td>\n",
              "      <td>130.0</td>\n",
              "    </tr>\n",
              "    <tr>\n",
              "      <th>3</th>\n",
              "      <td>max accuracy</td>\n",
              "      <td>0.550795</td>\n",
              "      <td>0.962194</td>\n",
              "      <td>171.0</td>\n",
              "    </tr>\n",
              "    <tr>\n",
              "      <th>4</th>\n",
              "      <td>max precision</td>\n",
              "      <td>0.999825</td>\n",
              "      <td>1.000000</td>\n",
              "      <td>0.0</td>\n",
              "    </tr>\n",
              "    <tr>\n",
              "      <th>5</th>\n",
              "      <td>max recall</td>\n",
              "      <td>0.000358</td>\n",
              "      <td>1.000000</td>\n",
              "      <td>397.0</td>\n",
              "    </tr>\n",
              "    <tr>\n",
              "      <th>6</th>\n",
              "      <td>max specificity</td>\n",
              "      <td>0.999825</td>\n",
              "      <td>1.000000</td>\n",
              "      <td>0.0</td>\n",
              "    </tr>\n",
              "    <tr>\n",
              "      <th>7</th>\n",
              "      <td>max absolute_mcc</td>\n",
              "      <td>0.550795</td>\n",
              "      <td>0.904321</td>\n",
              "      <td>171.0</td>\n",
              "    </tr>\n",
              "    <tr>\n",
              "      <th>8</th>\n",
              "      <td>max min_per_class_accuracy</td>\n",
              "      <td>0.214657</td>\n",
              "      <td>0.952983</td>\n",
              "      <td>261.0</td>\n",
              "    </tr>\n",
              "    <tr>\n",
              "      <th>9</th>\n",
              "      <td>max mean_per_class_accuracy</td>\n",
              "      <td>0.294005</td>\n",
              "      <td>0.954074</td>\n",
              "      <td>235.0</td>\n",
              "    </tr>\n",
              "    <tr>\n",
              "      <th>10</th>\n",
              "      <td>max tns</td>\n",
              "      <td>0.999825</td>\n",
              "      <td>7827.000000</td>\n",
              "      <td>0.0</td>\n",
              "    </tr>\n",
              "    <tr>\n",
              "      <th>11</th>\n",
              "      <td>max fns</td>\n",
              "      <td>0.999825</td>\n",
              "      <td>2455.000000</td>\n",
              "      <td>0.0</td>\n",
              "    </tr>\n",
              "    <tr>\n",
              "      <th>12</th>\n",
              "      <td>max fps</td>\n",
              "      <td>0.000029</td>\n",
              "      <td>7827.000000</td>\n",
              "      <td>399.0</td>\n",
              "    </tr>\n",
              "    <tr>\n",
              "      <th>13</th>\n",
              "      <td>max tps</td>\n",
              "      <td>0.000358</td>\n",
              "      <td>2965.000000</td>\n",
              "      <td>397.0</td>\n",
              "    </tr>\n",
              "    <tr>\n",
              "      <th>14</th>\n",
              "      <td>max tnr</td>\n",
              "      <td>0.999825</td>\n",
              "      <td>1.000000</td>\n",
              "      <td>0.0</td>\n",
              "    </tr>\n",
              "    <tr>\n",
              "      <th>15</th>\n",
              "      <td>max fnr</td>\n",
              "      <td>0.999825</td>\n",
              "      <td>0.827993</td>\n",
              "      <td>0.0</td>\n",
              "    </tr>\n",
              "    <tr>\n",
              "      <th>16</th>\n",
              "      <td>max fpr</td>\n",
              "      <td>0.000029</td>\n",
              "      <td>1.000000</td>\n",
              "      <td>399.0</td>\n",
              "    </tr>\n",
              "    <tr>\n",
              "      <th>17</th>\n",
              "      <td>max tpr</td>\n",
              "      <td>0.000358</td>\n",
              "      <td>1.000000</td>\n",
              "      <td>397.0</td>\n",
              "    </tr>\n",
              "  </tbody>\n",
              "</table>\n",
              "</div>\n",
              "      <button class=\"colab-df-convert\" onclick=\"convertToInteractive('df-ed41c827-38f6-4946-8562-7bee1f458748')\"\n",
              "              title=\"Convert this dataframe to an interactive table.\"\n",
              "              style=\"display:none;\">\n",
              "        \n",
              "  <svg xmlns=\"http://www.w3.org/2000/svg\" height=\"24px\"viewBox=\"0 0 24 24\"\n",
              "       width=\"24px\">\n",
              "    <path d=\"M0 0h24v24H0V0z\" fill=\"none\"/>\n",
              "    <path d=\"M18.56 5.44l.94 2.06.94-2.06 2.06-.94-2.06-.94-.94-2.06-.94 2.06-2.06.94zm-11 1L8.5 8.5l.94-2.06 2.06-.94-2.06-.94L8.5 2.5l-.94 2.06-2.06.94zm10 10l.94 2.06.94-2.06 2.06-.94-2.06-.94-.94-2.06-.94 2.06-2.06.94z\"/><path d=\"M17.41 7.96l-1.37-1.37c-.4-.4-.92-.59-1.43-.59-.52 0-1.04.2-1.43.59L10.3 9.45l-7.72 7.72c-.78.78-.78 2.05 0 2.83L4 21.41c.39.39.9.59 1.41.59.51 0 1.02-.2 1.41-.59l7.78-7.78 2.81-2.81c.8-.78.8-2.07 0-2.86zM5.41 20L4 18.59l7.72-7.72 1.47 1.35L5.41 20z\"/>\n",
              "  </svg>\n",
              "      </button>\n",
              "      \n",
              "  <style>\n",
              "    .colab-df-container {\n",
              "      display:flex;\n",
              "      flex-wrap:wrap;\n",
              "      gap: 12px;\n",
              "    }\n",
              "\n",
              "    .colab-df-convert {\n",
              "      background-color: #E8F0FE;\n",
              "      border: none;\n",
              "      border-radius: 50%;\n",
              "      cursor: pointer;\n",
              "      display: none;\n",
              "      fill: #1967D2;\n",
              "      height: 32px;\n",
              "      padding: 0 0 0 0;\n",
              "      width: 32px;\n",
              "    }\n",
              "\n",
              "    .colab-df-convert:hover {\n",
              "      background-color: #E2EBFA;\n",
              "      box-shadow: 0px 1px 2px rgba(60, 64, 67, 0.3), 0px 1px 3px 1px rgba(60, 64, 67, 0.15);\n",
              "      fill: #174EA6;\n",
              "    }\n",
              "\n",
              "    [theme=dark] .colab-df-convert {\n",
              "      background-color: #3B4455;\n",
              "      fill: #D2E3FC;\n",
              "    }\n",
              "\n",
              "    [theme=dark] .colab-df-convert:hover {\n",
              "      background-color: #434B5C;\n",
              "      box-shadow: 0px 1px 3px 1px rgba(0, 0, 0, 0.15);\n",
              "      filter: drop-shadow(0px 1px 2px rgba(0, 0, 0, 0.3));\n",
              "      fill: #FFFFFF;\n",
              "    }\n",
              "  </style>\n",
              "\n",
              "      <script>\n",
              "        const buttonEl =\n",
              "          document.querySelector('#df-ed41c827-38f6-4946-8562-7bee1f458748 button.colab-df-convert');\n",
              "        buttonEl.style.display =\n",
              "          google.colab.kernel.accessAllowed ? 'block' : 'none';\n",
              "\n",
              "        async function convertToInteractive(key) {\n",
              "          const element = document.querySelector('#df-ed41c827-38f6-4946-8562-7bee1f458748');\n",
              "          const dataTable =\n",
              "            await google.colab.kernel.invokeFunction('convertToInteractive',\n",
              "                                                     [key], {});\n",
              "          if (!dataTable) return;\n",
              "\n",
              "          const docLinkHtml = 'Like what you see? Visit the ' +\n",
              "            '<a target=\"_blank\" href=https://colab.research.google.com/notebooks/data_table.ipynb>data table notebook</a>'\n",
              "            + ' to learn more about interactive tables.';\n",
              "          element.innerHTML = '';\n",
              "          dataTable['output_type'] = 'display_data';\n",
              "          await google.colab.output.renderOutput(dataTable, element);\n",
              "          const docLink = document.createElement('div');\n",
              "          docLink.innerHTML = docLinkHtml;\n",
              "          element.appendChild(docLink);\n",
              "        }\n",
              "      </script>\n",
              "    </div>\n",
              "  </div>\n",
              "  "
            ]
          },
          "metadata": {}
        },
        {
          "output_type": "stream",
          "name": "stdout",
          "text": [
            "\n",
            "Gains/Lift Table: Avg response rate: 27.47 %, avg score: 27.26 %\n"
          ]
        },
        {
          "output_type": "display_data",
          "data": {
            "text/plain": [
              "    group  cumulative_data_fraction  lower_threshold      lift  \\\n",
              "0       1                  0.010007     9.999284e-01  3.639798   \n",
              "1       2                  0.020015     9.998765e-01  3.639798   \n",
              "2       3                  0.030022     9.998053e-01  3.639798   \n",
              "3       4                  0.040030     9.996770e-01  3.639798   \n",
              "4       5                  0.050037     9.995381e-01  3.639798   \n",
              "5       6                  0.100074     9.977328e-01  3.639798   \n",
              "6       7                  0.150019     9.906870e-01  3.619539   \n",
              "7       8                  0.200056     9.581768e-01  3.558913   \n",
              "8       9                  0.300037     1.880732e-01  2.344448   \n",
              "9      10                  0.400019     2.188554e-02  0.347451   \n",
              "10     11                  0.500000     5.651195e-03  0.060720   \n",
              "11     12                  0.599981     1.653202e-03  0.013493   \n",
              "12     13                  0.699963     3.296710e-04  0.003373   \n",
              "13     14                  0.799944     6.692800e-05  0.000000   \n",
              "14     15                  0.899926     2.091100e-05  0.000000   \n",
              "15     16                  1.000000     3.300000e-07  0.000000   \n",
              "\n",
              "    cumulative_lift  response_rate     score  cumulative_response_rate  \\\n",
              "0          3.639798       1.000000  0.999960                  1.000000   \n",
              "1          3.639798       1.000000  0.999902                  1.000000   \n",
              "2          3.639798       1.000000  0.999840                  1.000000   \n",
              "3          3.639798       1.000000  0.999746                  1.000000   \n",
              "4          3.639798       1.000000  0.999609                  1.000000   \n",
              "5          3.639798       1.000000  0.998816                  1.000000   \n",
              "6          3.633053       0.994434  0.994958                  0.998147   \n",
              "7          3.614510       0.977778  0.979752                  0.993052   \n",
              "8          3.191286       0.644115  0.653643                  0.876776   \n",
              "9          2.480492       0.095459  0.068998                  0.681492   \n",
              "10         1.996627       0.016682  0.011736                  0.548554   \n",
              "11         1.666156       0.003707  0.003282                  0.457761   \n",
              "12         1.428647       0.000927  0.000870                  0.392507   \n",
              "13         1.250087       0.000000  0.000157                  0.343450   \n",
              "14         1.111203       0.000000  0.000039                  0.305292   \n",
              "15         1.000000       0.000000  0.000010                  0.274741   \n",
              "\n",
              "    cumulative_score  capture_rate  cumulative_capture_rate        gain  \\\n",
              "0           0.999960      0.036425                 0.036425  263.979764   \n",
              "1           0.999931      0.036425                 0.072850  263.979764   \n",
              "2           0.999901      0.036425                 0.109275  263.979764   \n",
              "3           0.999862      0.036425                 0.145700  263.979764   \n",
              "4           0.999812      0.036425                 0.182125  263.979764   \n",
              "5           0.999314      0.182125                 0.364250  263.979764   \n",
              "6           0.997864      0.180776                 0.545025  261.953903   \n",
              "7           0.993334      0.178078                 0.723103  255.891325   \n",
              "8           0.880138      0.234401                 0.957504  134.444797   \n",
              "9           0.677400      0.034739                 0.992243  -65.254944   \n",
              "10          0.544292      0.006071                 0.998314  -93.928048   \n",
              "11          0.454138      0.001349                 0.999663  -98.650677   \n",
              "12          0.389394      0.000337                 1.000000  -99.662669   \n",
              "13          0.340745      0.000000                 1.000000 -100.000000   \n",
              "14          0.302893      0.000000                 1.000000 -100.000000   \n",
              "15          0.272582      0.000000                 1.000000 -100.000000   \n",
              "\n",
              "    cumulative_gain  kolmogorov_smirnov  \n",
              "0        263.979764            0.036425  \n",
              "1        263.979764            0.072850  \n",
              "2        263.979764            0.109275  \n",
              "3        263.979764            0.145700  \n",
              "4        263.979764            0.182125  \n",
              "5        263.979764            0.364250  \n",
              "6        263.305311            0.544642  \n",
              "7        261.450956            0.721186  \n",
              "8        219.128644            0.906527  \n",
              "9        148.049216            0.816569  \n",
              "10        99.662732            0.687083  \n",
              "11        66.615602            0.551087  \n",
              "12        42.864707            0.413696  \n",
              "13        25.008688            0.275840  \n",
              "14        11.120264            0.137984  \n",
              "15         0.000000            0.000000  "
            ],
            "text/html": [
              "\n",
              "  <div id=\"df-2ba86d57-30c0-418b-86d3-af580cd87468\">\n",
              "    <div class=\"colab-df-container\">\n",
              "      <div>\n",
              "<style scoped>\n",
              "    .dataframe tbody tr th:only-of-type {\n",
              "        vertical-align: middle;\n",
              "    }\n",
              "\n",
              "    .dataframe tbody tr th {\n",
              "        vertical-align: top;\n",
              "    }\n",
              "\n",
              "    .dataframe thead th {\n",
              "        text-align: right;\n",
              "    }\n",
              "</style>\n",
              "<table border=\"1\" class=\"dataframe\">\n",
              "  <thead>\n",
              "    <tr style=\"text-align: right;\">\n",
              "      <th></th>\n",
              "      <th>group</th>\n",
              "      <th>cumulative_data_fraction</th>\n",
              "      <th>lower_threshold</th>\n",
              "      <th>lift</th>\n",
              "      <th>cumulative_lift</th>\n",
              "      <th>response_rate</th>\n",
              "      <th>score</th>\n",
              "      <th>cumulative_response_rate</th>\n",
              "      <th>cumulative_score</th>\n",
              "      <th>capture_rate</th>\n",
              "      <th>cumulative_capture_rate</th>\n",
              "      <th>gain</th>\n",
              "      <th>cumulative_gain</th>\n",
              "      <th>kolmogorov_smirnov</th>\n",
              "    </tr>\n",
              "  </thead>\n",
              "  <tbody>\n",
              "    <tr>\n",
              "      <th>0</th>\n",
              "      <td>1</td>\n",
              "      <td>0.010007</td>\n",
              "      <td>9.999284e-01</td>\n",
              "      <td>3.639798</td>\n",
              "      <td>3.639798</td>\n",
              "      <td>1.000000</td>\n",
              "      <td>0.999960</td>\n",
              "      <td>1.000000</td>\n",
              "      <td>0.999960</td>\n",
              "      <td>0.036425</td>\n",
              "      <td>0.036425</td>\n",
              "      <td>263.979764</td>\n",
              "      <td>263.979764</td>\n",
              "      <td>0.036425</td>\n",
              "    </tr>\n",
              "    <tr>\n",
              "      <th>1</th>\n",
              "      <td>2</td>\n",
              "      <td>0.020015</td>\n",
              "      <td>9.998765e-01</td>\n",
              "      <td>3.639798</td>\n",
              "      <td>3.639798</td>\n",
              "      <td>1.000000</td>\n",
              "      <td>0.999902</td>\n",
              "      <td>1.000000</td>\n",
              "      <td>0.999931</td>\n",
              "      <td>0.036425</td>\n",
              "      <td>0.072850</td>\n",
              "      <td>263.979764</td>\n",
              "      <td>263.979764</td>\n",
              "      <td>0.072850</td>\n",
              "    </tr>\n",
              "    <tr>\n",
              "      <th>2</th>\n",
              "      <td>3</td>\n",
              "      <td>0.030022</td>\n",
              "      <td>9.998053e-01</td>\n",
              "      <td>3.639798</td>\n",
              "      <td>3.639798</td>\n",
              "      <td>1.000000</td>\n",
              "      <td>0.999840</td>\n",
              "      <td>1.000000</td>\n",
              "      <td>0.999901</td>\n",
              "      <td>0.036425</td>\n",
              "      <td>0.109275</td>\n",
              "      <td>263.979764</td>\n",
              "      <td>263.979764</td>\n",
              "      <td>0.109275</td>\n",
              "    </tr>\n",
              "    <tr>\n",
              "      <th>3</th>\n",
              "      <td>4</td>\n",
              "      <td>0.040030</td>\n",
              "      <td>9.996770e-01</td>\n",
              "      <td>3.639798</td>\n",
              "      <td>3.639798</td>\n",
              "      <td>1.000000</td>\n",
              "      <td>0.999746</td>\n",
              "      <td>1.000000</td>\n",
              "      <td>0.999862</td>\n",
              "      <td>0.036425</td>\n",
              "      <td>0.145700</td>\n",
              "      <td>263.979764</td>\n",
              "      <td>263.979764</td>\n",
              "      <td>0.145700</td>\n",
              "    </tr>\n",
              "    <tr>\n",
              "      <th>4</th>\n",
              "      <td>5</td>\n",
              "      <td>0.050037</td>\n",
              "      <td>9.995381e-01</td>\n",
              "      <td>3.639798</td>\n",
              "      <td>3.639798</td>\n",
              "      <td>1.000000</td>\n",
              "      <td>0.999609</td>\n",
              "      <td>1.000000</td>\n",
              "      <td>0.999812</td>\n",
              "      <td>0.036425</td>\n",
              "      <td>0.182125</td>\n",
              "      <td>263.979764</td>\n",
              "      <td>263.979764</td>\n",
              "      <td>0.182125</td>\n",
              "    </tr>\n",
              "    <tr>\n",
              "      <th>5</th>\n",
              "      <td>6</td>\n",
              "      <td>0.100074</td>\n",
              "      <td>9.977328e-01</td>\n",
              "      <td>3.639798</td>\n",
              "      <td>3.639798</td>\n",
              "      <td>1.000000</td>\n",
              "      <td>0.998816</td>\n",
              "      <td>1.000000</td>\n",
              "      <td>0.999314</td>\n",
              "      <td>0.182125</td>\n",
              "      <td>0.364250</td>\n",
              "      <td>263.979764</td>\n",
              "      <td>263.979764</td>\n",
              "      <td>0.364250</td>\n",
              "    </tr>\n",
              "    <tr>\n",
              "      <th>6</th>\n",
              "      <td>7</td>\n",
              "      <td>0.150019</td>\n",
              "      <td>9.906870e-01</td>\n",
              "      <td>3.619539</td>\n",
              "      <td>3.633053</td>\n",
              "      <td>0.994434</td>\n",
              "      <td>0.994958</td>\n",
              "      <td>0.998147</td>\n",
              "      <td>0.997864</td>\n",
              "      <td>0.180776</td>\n",
              "      <td>0.545025</td>\n",
              "      <td>261.953903</td>\n",
              "      <td>263.305311</td>\n",
              "      <td>0.544642</td>\n",
              "    </tr>\n",
              "    <tr>\n",
              "      <th>7</th>\n",
              "      <td>8</td>\n",
              "      <td>0.200056</td>\n",
              "      <td>9.581768e-01</td>\n",
              "      <td>3.558913</td>\n",
              "      <td>3.614510</td>\n",
              "      <td>0.977778</td>\n",
              "      <td>0.979752</td>\n",
              "      <td>0.993052</td>\n",
              "      <td>0.993334</td>\n",
              "      <td>0.178078</td>\n",
              "      <td>0.723103</td>\n",
              "      <td>255.891325</td>\n",
              "      <td>261.450956</td>\n",
              "      <td>0.721186</td>\n",
              "    </tr>\n",
              "    <tr>\n",
              "      <th>8</th>\n",
              "      <td>9</td>\n",
              "      <td>0.300037</td>\n",
              "      <td>1.880732e-01</td>\n",
              "      <td>2.344448</td>\n",
              "      <td>3.191286</td>\n",
              "      <td>0.644115</td>\n",
              "      <td>0.653643</td>\n",
              "      <td>0.876776</td>\n",
              "      <td>0.880138</td>\n",
              "      <td>0.234401</td>\n",
              "      <td>0.957504</td>\n",
              "      <td>134.444797</td>\n",
              "      <td>219.128644</td>\n",
              "      <td>0.906527</td>\n",
              "    </tr>\n",
              "    <tr>\n",
              "      <th>9</th>\n",
              "      <td>10</td>\n",
              "      <td>0.400019</td>\n",
              "      <td>2.188554e-02</td>\n",
              "      <td>0.347451</td>\n",
              "      <td>2.480492</td>\n",
              "      <td>0.095459</td>\n",
              "      <td>0.068998</td>\n",
              "      <td>0.681492</td>\n",
              "      <td>0.677400</td>\n",
              "      <td>0.034739</td>\n",
              "      <td>0.992243</td>\n",
              "      <td>-65.254944</td>\n",
              "      <td>148.049216</td>\n",
              "      <td>0.816569</td>\n",
              "    </tr>\n",
              "    <tr>\n",
              "      <th>10</th>\n",
              "      <td>11</td>\n",
              "      <td>0.500000</td>\n",
              "      <td>5.651195e-03</td>\n",
              "      <td>0.060720</td>\n",
              "      <td>1.996627</td>\n",
              "      <td>0.016682</td>\n",
              "      <td>0.011736</td>\n",
              "      <td>0.548554</td>\n",
              "      <td>0.544292</td>\n",
              "      <td>0.006071</td>\n",
              "      <td>0.998314</td>\n",
              "      <td>-93.928048</td>\n",
              "      <td>99.662732</td>\n",
              "      <td>0.687083</td>\n",
              "    </tr>\n",
              "    <tr>\n",
              "      <th>11</th>\n",
              "      <td>12</td>\n",
              "      <td>0.599981</td>\n",
              "      <td>1.653202e-03</td>\n",
              "      <td>0.013493</td>\n",
              "      <td>1.666156</td>\n",
              "      <td>0.003707</td>\n",
              "      <td>0.003282</td>\n",
              "      <td>0.457761</td>\n",
              "      <td>0.454138</td>\n",
              "      <td>0.001349</td>\n",
              "      <td>0.999663</td>\n",
              "      <td>-98.650677</td>\n",
              "      <td>66.615602</td>\n",
              "      <td>0.551087</td>\n",
              "    </tr>\n",
              "    <tr>\n",
              "      <th>12</th>\n",
              "      <td>13</td>\n",
              "      <td>0.699963</td>\n",
              "      <td>3.296710e-04</td>\n",
              "      <td>0.003373</td>\n",
              "      <td>1.428647</td>\n",
              "      <td>0.000927</td>\n",
              "      <td>0.000870</td>\n",
              "      <td>0.392507</td>\n",
              "      <td>0.389394</td>\n",
              "      <td>0.000337</td>\n",
              "      <td>1.000000</td>\n",
              "      <td>-99.662669</td>\n",
              "      <td>42.864707</td>\n",
              "      <td>0.413696</td>\n",
              "    </tr>\n",
              "    <tr>\n",
              "      <th>13</th>\n",
              "      <td>14</td>\n",
              "      <td>0.799944</td>\n",
              "      <td>6.692800e-05</td>\n",
              "      <td>0.000000</td>\n",
              "      <td>1.250087</td>\n",
              "      <td>0.000000</td>\n",
              "      <td>0.000157</td>\n",
              "      <td>0.343450</td>\n",
              "      <td>0.340745</td>\n",
              "      <td>0.000000</td>\n",
              "      <td>1.000000</td>\n",
              "      <td>-100.000000</td>\n",
              "      <td>25.008688</td>\n",
              "      <td>0.275840</td>\n",
              "    </tr>\n",
              "    <tr>\n",
              "      <th>14</th>\n",
              "      <td>15</td>\n",
              "      <td>0.899926</td>\n",
              "      <td>2.091100e-05</td>\n",
              "      <td>0.000000</td>\n",
              "      <td>1.111203</td>\n",
              "      <td>0.000000</td>\n",
              "      <td>0.000039</td>\n",
              "      <td>0.305292</td>\n",
              "      <td>0.302893</td>\n",
              "      <td>0.000000</td>\n",
              "      <td>1.000000</td>\n",
              "      <td>-100.000000</td>\n",
              "      <td>11.120264</td>\n",
              "      <td>0.137984</td>\n",
              "    </tr>\n",
              "    <tr>\n",
              "      <th>15</th>\n",
              "      <td>16</td>\n",
              "      <td>1.000000</td>\n",
              "      <td>3.300000e-07</td>\n",
              "      <td>0.000000</td>\n",
              "      <td>1.000000</td>\n",
              "      <td>0.000000</td>\n",
              "      <td>0.000010</td>\n",
              "      <td>0.274741</td>\n",
              "      <td>0.272582</td>\n",
              "      <td>0.000000</td>\n",
              "      <td>1.000000</td>\n",
              "      <td>-100.000000</td>\n",
              "      <td>0.000000</td>\n",
              "      <td>0.000000</td>\n",
              "    </tr>\n",
              "  </tbody>\n",
              "</table>\n",
              "</div>\n",
              "      <button class=\"colab-df-convert\" onclick=\"convertToInteractive('df-2ba86d57-30c0-418b-86d3-af580cd87468')\"\n",
              "              title=\"Convert this dataframe to an interactive table.\"\n",
              "              style=\"display:none;\">\n",
              "        \n",
              "  <svg xmlns=\"http://www.w3.org/2000/svg\" height=\"24px\"viewBox=\"0 0 24 24\"\n",
              "       width=\"24px\">\n",
              "    <path d=\"M0 0h24v24H0V0z\" fill=\"none\"/>\n",
              "    <path d=\"M18.56 5.44l.94 2.06.94-2.06 2.06-.94-2.06-.94-.94-2.06-.94 2.06-2.06.94zm-11 1L8.5 8.5l.94-2.06 2.06-.94-2.06-.94L8.5 2.5l-.94 2.06-2.06.94zm10 10l.94 2.06.94-2.06 2.06-.94-2.06-.94-.94-2.06-.94 2.06-2.06.94z\"/><path d=\"M17.41 7.96l-1.37-1.37c-.4-.4-.92-.59-1.43-.59-.52 0-1.04.2-1.43.59L10.3 9.45l-7.72 7.72c-.78.78-.78 2.05 0 2.83L4 21.41c.39.39.9.59 1.41.59.51 0 1.02-.2 1.41-.59l7.78-7.78 2.81-2.81c.8-.78.8-2.07 0-2.86zM5.41 20L4 18.59l7.72-7.72 1.47 1.35L5.41 20z\"/>\n",
              "  </svg>\n",
              "      </button>\n",
              "      \n",
              "  <style>\n",
              "    .colab-df-container {\n",
              "      display:flex;\n",
              "      flex-wrap:wrap;\n",
              "      gap: 12px;\n",
              "    }\n",
              "\n",
              "    .colab-df-convert {\n",
              "      background-color: #E8F0FE;\n",
              "      border: none;\n",
              "      border-radius: 50%;\n",
              "      cursor: pointer;\n",
              "      display: none;\n",
              "      fill: #1967D2;\n",
              "      height: 32px;\n",
              "      padding: 0 0 0 0;\n",
              "      width: 32px;\n",
              "    }\n",
              "\n",
              "    .colab-df-convert:hover {\n",
              "      background-color: #E2EBFA;\n",
              "      box-shadow: 0px 1px 2px rgba(60, 64, 67, 0.3), 0px 1px 3px 1px rgba(60, 64, 67, 0.15);\n",
              "      fill: #174EA6;\n",
              "    }\n",
              "\n",
              "    [theme=dark] .colab-df-convert {\n",
              "      background-color: #3B4455;\n",
              "      fill: #D2E3FC;\n",
              "    }\n",
              "\n",
              "    [theme=dark] .colab-df-convert:hover {\n",
              "      background-color: #434B5C;\n",
              "      box-shadow: 0px 1px 3px 1px rgba(0, 0, 0, 0.15);\n",
              "      filter: drop-shadow(0px 1px 2px rgba(0, 0, 0, 0.3));\n",
              "      fill: #FFFFFF;\n",
              "    }\n",
              "  </style>\n",
              "\n",
              "      <script>\n",
              "        const buttonEl =\n",
              "          document.querySelector('#df-2ba86d57-30c0-418b-86d3-af580cd87468 button.colab-df-convert');\n",
              "        buttonEl.style.display =\n",
              "          google.colab.kernel.accessAllowed ? 'block' : 'none';\n",
              "\n",
              "        async function convertToInteractive(key) {\n",
              "          const element = document.querySelector('#df-2ba86d57-30c0-418b-86d3-af580cd87468');\n",
              "          const dataTable =\n",
              "            await google.colab.kernel.invokeFunction('convertToInteractive',\n",
              "                                                     [key], {});\n",
              "          if (!dataTable) return;\n",
              "\n",
              "          const docLinkHtml = 'Like what you see? Visit the ' +\n",
              "            '<a target=\"_blank\" href=https://colab.research.google.com/notebooks/data_table.ipynb>data table notebook</a>'\n",
              "            + ' to learn more about interactive tables.';\n",
              "          element.innerHTML = '';\n",
              "          dataTable['output_type'] = 'display_data';\n",
              "          await google.colab.output.renderOutput(dataTable, element);\n",
              "          const docLink = document.createElement('div');\n",
              "          docLink.innerHTML = docLinkHtml;\n",
              "          element.appendChild(docLink);\n",
              "        }\n",
              "      </script>\n",
              "    </div>\n",
              "  </div>\n",
              "  "
            ]
          },
          "metadata": {}
        },
        {
          "output_type": "stream",
          "name": "stdout",
          "text": [
            "\n",
            "\n",
            "Cross-Validation Metrics Summary: \n"
          ]
        },
        {
          "output_type": "display_data",
          "data": {
            "text/plain": [
              "                                  mean        sd  cv_1_valid  cv_2_valid  \\\n",
              "0                  accuracy   0.962472  0.003027    0.965262    0.963872   \n",
              "1                       auc   0.991571  0.001656    0.992881    0.993329   \n",
              "2                       err   0.037528  0.003027    0.034738    0.036128   \n",
              "3                 err_count  81.000000  6.519202   75.000000   78.000000   \n",
              "4                  f0point5   0.935567  0.015622    0.952144    0.927573   \n",
              "5                        f1   0.930983  0.007378    0.938575    0.937400   \n",
              "6                        f2   0.926710  0.013326    0.925388    0.947437   \n",
              "7            lift_top_group   3.645690  0.163563    3.454400    3.527778   \n",
              "8                   logloss   0.101789  0.008643    0.094358    0.093049   \n",
              "9       max_per_class_error   0.075970  0.020704    0.083200    0.045752   \n",
              "10                      mcc   0.905604  0.009087    0.914879    0.912301   \n",
              "11  mean_per_class_accuracy   0.950533  0.006708    0.950903    0.960964   \n",
              "12     mean_per_class_error   0.049467  0.006708    0.049097    0.039036   \n",
              "13                      mse   0.029242  0.002629    0.027059    0.026768   \n",
              "14                   pr_auc   0.980896  0.003794    0.985923    0.983833   \n",
              "15                precision   0.938799  0.023444    0.961409    0.921136   \n",
              "16                       r2   0.852920  0.015539    0.868442    0.868211   \n",
              "17                   recall   0.924030  0.020704    0.916800    0.954248   \n",
              "18                     rmse   0.170866  0.007640    0.164498    0.163609   \n",
              "19              specificity   0.977037  0.009325    0.985007    0.967679   \n",
              "\n",
              "    cv_3_valid  cv_4_valid  cv_5_valid  \n",
              "0     0.961075    0.964319    0.957831  \n",
              "1     0.989138    0.991392    0.991114  \n",
              "2     0.038925    0.035681    0.042169  \n",
              "3    84.000000   77.000000   91.000000  \n",
              "4     0.944093    0.941476    0.912547  \n",
              "5     0.927461    0.930818    0.920663  \n",
              "6     0.911405    0.920398    0.928923  \n",
              "7     3.620805    3.805996    3.819469  \n",
              "8     0.113956    0.101429    0.106153  \n",
              "9     0.098993    0.086420    0.065487  \n",
              "10    0.901619    0.907082    0.892137  \n",
              "11    0.942501    0.947991    0.950307  \n",
              "12    0.057499    0.052009    0.049693  \n",
              "13    0.032662    0.028395    0.031325  \n",
              "14    0.977278    0.979474    0.977968  \n",
              "15    0.955516    0.948718    0.907216  \n",
              "16    0.836613    0.853413    0.837920  \n",
              "17    0.901007    0.913580    0.934513  \n",
              "18    0.180726    0.168509    0.176989  \n",
              "19    0.983995    0.982401    0.966102  "
            ],
            "text/html": [
              "\n",
              "  <div id=\"df-542272dd-9cac-48c8-bb07-22a73b3b1010\">\n",
              "    <div class=\"colab-df-container\">\n",
              "      <div>\n",
              "<style scoped>\n",
              "    .dataframe tbody tr th:only-of-type {\n",
              "        vertical-align: middle;\n",
              "    }\n",
              "\n",
              "    .dataframe tbody tr th {\n",
              "        vertical-align: top;\n",
              "    }\n",
              "\n",
              "    .dataframe thead th {\n",
              "        text-align: right;\n",
              "    }\n",
              "</style>\n",
              "<table border=\"1\" class=\"dataframe\">\n",
              "  <thead>\n",
              "    <tr style=\"text-align: right;\">\n",
              "      <th></th>\n",
              "      <th></th>\n",
              "      <th>mean</th>\n",
              "      <th>sd</th>\n",
              "      <th>cv_1_valid</th>\n",
              "      <th>cv_2_valid</th>\n",
              "      <th>cv_3_valid</th>\n",
              "      <th>cv_4_valid</th>\n",
              "      <th>cv_5_valid</th>\n",
              "    </tr>\n",
              "  </thead>\n",
              "  <tbody>\n",
              "    <tr>\n",
              "      <th>0</th>\n",
              "      <td>accuracy</td>\n",
              "      <td>0.962472</td>\n",
              "      <td>0.003027</td>\n",
              "      <td>0.965262</td>\n",
              "      <td>0.963872</td>\n",
              "      <td>0.961075</td>\n",
              "      <td>0.964319</td>\n",
              "      <td>0.957831</td>\n",
              "    </tr>\n",
              "    <tr>\n",
              "      <th>1</th>\n",
              "      <td>auc</td>\n",
              "      <td>0.991571</td>\n",
              "      <td>0.001656</td>\n",
              "      <td>0.992881</td>\n",
              "      <td>0.993329</td>\n",
              "      <td>0.989138</td>\n",
              "      <td>0.991392</td>\n",
              "      <td>0.991114</td>\n",
              "    </tr>\n",
              "    <tr>\n",
              "      <th>2</th>\n",
              "      <td>err</td>\n",
              "      <td>0.037528</td>\n",
              "      <td>0.003027</td>\n",
              "      <td>0.034738</td>\n",
              "      <td>0.036128</td>\n",
              "      <td>0.038925</td>\n",
              "      <td>0.035681</td>\n",
              "      <td>0.042169</td>\n",
              "    </tr>\n",
              "    <tr>\n",
              "      <th>3</th>\n",
              "      <td>err_count</td>\n",
              "      <td>81.000000</td>\n",
              "      <td>6.519202</td>\n",
              "      <td>75.000000</td>\n",
              "      <td>78.000000</td>\n",
              "      <td>84.000000</td>\n",
              "      <td>77.000000</td>\n",
              "      <td>91.000000</td>\n",
              "    </tr>\n",
              "    <tr>\n",
              "      <th>4</th>\n",
              "      <td>f0point5</td>\n",
              "      <td>0.935567</td>\n",
              "      <td>0.015622</td>\n",
              "      <td>0.952144</td>\n",
              "      <td>0.927573</td>\n",
              "      <td>0.944093</td>\n",
              "      <td>0.941476</td>\n",
              "      <td>0.912547</td>\n",
              "    </tr>\n",
              "    <tr>\n",
              "      <th>5</th>\n",
              "      <td>f1</td>\n",
              "      <td>0.930983</td>\n",
              "      <td>0.007378</td>\n",
              "      <td>0.938575</td>\n",
              "      <td>0.937400</td>\n",
              "      <td>0.927461</td>\n",
              "      <td>0.930818</td>\n",
              "      <td>0.920663</td>\n",
              "    </tr>\n",
              "    <tr>\n",
              "      <th>6</th>\n",
              "      <td>f2</td>\n",
              "      <td>0.926710</td>\n",
              "      <td>0.013326</td>\n",
              "      <td>0.925388</td>\n",
              "      <td>0.947437</td>\n",
              "      <td>0.911405</td>\n",
              "      <td>0.920398</td>\n",
              "      <td>0.928923</td>\n",
              "    </tr>\n",
              "    <tr>\n",
              "      <th>7</th>\n",
              "      <td>lift_top_group</td>\n",
              "      <td>3.645690</td>\n",
              "      <td>0.163563</td>\n",
              "      <td>3.454400</td>\n",
              "      <td>3.527778</td>\n",
              "      <td>3.620805</td>\n",
              "      <td>3.805996</td>\n",
              "      <td>3.819469</td>\n",
              "    </tr>\n",
              "    <tr>\n",
              "      <th>8</th>\n",
              "      <td>logloss</td>\n",
              "      <td>0.101789</td>\n",
              "      <td>0.008643</td>\n",
              "      <td>0.094358</td>\n",
              "      <td>0.093049</td>\n",
              "      <td>0.113956</td>\n",
              "      <td>0.101429</td>\n",
              "      <td>0.106153</td>\n",
              "    </tr>\n",
              "    <tr>\n",
              "      <th>9</th>\n",
              "      <td>max_per_class_error</td>\n",
              "      <td>0.075970</td>\n",
              "      <td>0.020704</td>\n",
              "      <td>0.083200</td>\n",
              "      <td>0.045752</td>\n",
              "      <td>0.098993</td>\n",
              "      <td>0.086420</td>\n",
              "      <td>0.065487</td>\n",
              "    </tr>\n",
              "    <tr>\n",
              "      <th>10</th>\n",
              "      <td>mcc</td>\n",
              "      <td>0.905604</td>\n",
              "      <td>0.009087</td>\n",
              "      <td>0.914879</td>\n",
              "      <td>0.912301</td>\n",
              "      <td>0.901619</td>\n",
              "      <td>0.907082</td>\n",
              "      <td>0.892137</td>\n",
              "    </tr>\n",
              "    <tr>\n",
              "      <th>11</th>\n",
              "      <td>mean_per_class_accuracy</td>\n",
              "      <td>0.950533</td>\n",
              "      <td>0.006708</td>\n",
              "      <td>0.950903</td>\n",
              "      <td>0.960964</td>\n",
              "      <td>0.942501</td>\n",
              "      <td>0.947991</td>\n",
              "      <td>0.950307</td>\n",
              "    </tr>\n",
              "    <tr>\n",
              "      <th>12</th>\n",
              "      <td>mean_per_class_error</td>\n",
              "      <td>0.049467</td>\n",
              "      <td>0.006708</td>\n",
              "      <td>0.049097</td>\n",
              "      <td>0.039036</td>\n",
              "      <td>0.057499</td>\n",
              "      <td>0.052009</td>\n",
              "      <td>0.049693</td>\n",
              "    </tr>\n",
              "    <tr>\n",
              "      <th>13</th>\n",
              "      <td>mse</td>\n",
              "      <td>0.029242</td>\n",
              "      <td>0.002629</td>\n",
              "      <td>0.027059</td>\n",
              "      <td>0.026768</td>\n",
              "      <td>0.032662</td>\n",
              "      <td>0.028395</td>\n",
              "      <td>0.031325</td>\n",
              "    </tr>\n",
              "    <tr>\n",
              "      <th>14</th>\n",
              "      <td>pr_auc</td>\n",
              "      <td>0.980896</td>\n",
              "      <td>0.003794</td>\n",
              "      <td>0.985923</td>\n",
              "      <td>0.983833</td>\n",
              "      <td>0.977278</td>\n",
              "      <td>0.979474</td>\n",
              "      <td>0.977968</td>\n",
              "    </tr>\n",
              "    <tr>\n",
              "      <th>15</th>\n",
              "      <td>precision</td>\n",
              "      <td>0.938799</td>\n",
              "      <td>0.023444</td>\n",
              "      <td>0.961409</td>\n",
              "      <td>0.921136</td>\n",
              "      <td>0.955516</td>\n",
              "      <td>0.948718</td>\n",
              "      <td>0.907216</td>\n",
              "    </tr>\n",
              "    <tr>\n",
              "      <th>16</th>\n",
              "      <td>r2</td>\n",
              "      <td>0.852920</td>\n",
              "      <td>0.015539</td>\n",
              "      <td>0.868442</td>\n",
              "      <td>0.868211</td>\n",
              "      <td>0.836613</td>\n",
              "      <td>0.853413</td>\n",
              "      <td>0.837920</td>\n",
              "    </tr>\n",
              "    <tr>\n",
              "      <th>17</th>\n",
              "      <td>recall</td>\n",
              "      <td>0.924030</td>\n",
              "      <td>0.020704</td>\n",
              "      <td>0.916800</td>\n",
              "      <td>0.954248</td>\n",
              "      <td>0.901007</td>\n",
              "      <td>0.913580</td>\n",
              "      <td>0.934513</td>\n",
              "    </tr>\n",
              "    <tr>\n",
              "      <th>18</th>\n",
              "      <td>rmse</td>\n",
              "      <td>0.170866</td>\n",
              "      <td>0.007640</td>\n",
              "      <td>0.164498</td>\n",
              "      <td>0.163609</td>\n",
              "      <td>0.180726</td>\n",
              "      <td>0.168509</td>\n",
              "      <td>0.176989</td>\n",
              "    </tr>\n",
              "    <tr>\n",
              "      <th>19</th>\n",
              "      <td>specificity</td>\n",
              "      <td>0.977037</td>\n",
              "      <td>0.009325</td>\n",
              "      <td>0.985007</td>\n",
              "      <td>0.967679</td>\n",
              "      <td>0.983995</td>\n",
              "      <td>0.982401</td>\n",
              "      <td>0.966102</td>\n",
              "    </tr>\n",
              "  </tbody>\n",
              "</table>\n",
              "</div>\n",
              "      <button class=\"colab-df-convert\" onclick=\"convertToInteractive('df-542272dd-9cac-48c8-bb07-22a73b3b1010')\"\n",
              "              title=\"Convert this dataframe to an interactive table.\"\n",
              "              style=\"display:none;\">\n",
              "        \n",
              "  <svg xmlns=\"http://www.w3.org/2000/svg\" height=\"24px\"viewBox=\"0 0 24 24\"\n",
              "       width=\"24px\">\n",
              "    <path d=\"M0 0h24v24H0V0z\" fill=\"none\"/>\n",
              "    <path d=\"M18.56 5.44l.94 2.06.94-2.06 2.06-.94-2.06-.94-.94-2.06-.94 2.06-2.06.94zm-11 1L8.5 8.5l.94-2.06 2.06-.94-2.06-.94L8.5 2.5l-.94 2.06-2.06.94zm10 10l.94 2.06.94-2.06 2.06-.94-2.06-.94-.94-2.06-.94 2.06-2.06.94z\"/><path d=\"M17.41 7.96l-1.37-1.37c-.4-.4-.92-.59-1.43-.59-.52 0-1.04.2-1.43.59L10.3 9.45l-7.72 7.72c-.78.78-.78 2.05 0 2.83L4 21.41c.39.39.9.59 1.41.59.51 0 1.02-.2 1.41-.59l7.78-7.78 2.81-2.81c.8-.78.8-2.07 0-2.86zM5.41 20L4 18.59l7.72-7.72 1.47 1.35L5.41 20z\"/>\n",
              "  </svg>\n",
              "      </button>\n",
              "      \n",
              "  <style>\n",
              "    .colab-df-container {\n",
              "      display:flex;\n",
              "      flex-wrap:wrap;\n",
              "      gap: 12px;\n",
              "    }\n",
              "\n",
              "    .colab-df-convert {\n",
              "      background-color: #E8F0FE;\n",
              "      border: none;\n",
              "      border-radius: 50%;\n",
              "      cursor: pointer;\n",
              "      display: none;\n",
              "      fill: #1967D2;\n",
              "      height: 32px;\n",
              "      padding: 0 0 0 0;\n",
              "      width: 32px;\n",
              "    }\n",
              "\n",
              "    .colab-df-convert:hover {\n",
              "      background-color: #E2EBFA;\n",
              "      box-shadow: 0px 1px 2px rgba(60, 64, 67, 0.3), 0px 1px 3px 1px rgba(60, 64, 67, 0.15);\n",
              "      fill: #174EA6;\n",
              "    }\n",
              "\n",
              "    [theme=dark] .colab-df-convert {\n",
              "      background-color: #3B4455;\n",
              "      fill: #D2E3FC;\n",
              "    }\n",
              "\n",
              "    [theme=dark] .colab-df-convert:hover {\n",
              "      background-color: #434B5C;\n",
              "      box-shadow: 0px 1px 3px 1px rgba(0, 0, 0, 0.15);\n",
              "      filter: drop-shadow(0px 1px 2px rgba(0, 0, 0, 0.3));\n",
              "      fill: #FFFFFF;\n",
              "    }\n",
              "  </style>\n",
              "\n",
              "      <script>\n",
              "        const buttonEl =\n",
              "          document.querySelector('#df-542272dd-9cac-48c8-bb07-22a73b3b1010 button.colab-df-convert');\n",
              "        buttonEl.style.display =\n",
              "          google.colab.kernel.accessAllowed ? 'block' : 'none';\n",
              "\n",
              "        async function convertToInteractive(key) {\n",
              "          const element = document.querySelector('#df-542272dd-9cac-48c8-bb07-22a73b3b1010');\n",
              "          const dataTable =\n",
              "            await google.colab.kernel.invokeFunction('convertToInteractive',\n",
              "                                                     [key], {});\n",
              "          if (!dataTable) return;\n",
              "\n",
              "          const docLinkHtml = 'Like what you see? Visit the ' +\n",
              "            '<a target=\"_blank\" href=https://colab.research.google.com/notebooks/data_table.ipynb>data table notebook</a>'\n",
              "            + ' to learn more about interactive tables.';\n",
              "          element.innerHTML = '';\n",
              "          dataTable['output_type'] = 'display_data';\n",
              "          await google.colab.output.renderOutput(dataTable, element);\n",
              "          const docLink = document.createElement('div');\n",
              "          docLink.innerHTML = docLinkHtml;\n",
              "          element.appendChild(docLink);\n",
              "        }\n",
              "      </script>\n",
              "    </div>\n",
              "  </div>\n",
              "  "
            ]
          },
          "metadata": {}
        },
        {
          "output_type": "stream",
          "name": "stdout",
          "text": [
            "\n",
            "Scoring History: \n"
          ]
        },
        {
          "output_type": "display_data",
          "data": {
            "text/plain": [
              "                timestamp    duration  number_of_trees  training_rmse  \\\n",
              "0     2022-04-19 00:53:30  18.242 sec              0.0       0.500000   \n",
              "1     2022-04-19 00:53:30  18.718 sec              5.0       0.220881   \n",
              "2     2022-04-19 00:53:31  19.167 sec             10.0       0.179390   \n",
              "3     2022-04-19 00:53:31  19.352 sec             15.0       0.162283   \n",
              "4     2022-04-19 00:53:31  19.511 sec             20.0       0.153132   \n",
              "5     2022-04-19 00:53:32  20.195 sec             25.0       0.143925   \n",
              "6     2022-04-19 00:53:33  21.028 sec             30.0       0.136704   \n",
              "7     2022-04-19 00:53:33  21.703 sec             35.0       0.129070   \n",
              "8     2022-04-19 00:53:34  22.262 sec             40.0       0.123214   \n",
              "9     2022-04-19 00:53:34  22.447 sec             45.0       0.118611   \n",
              "10    2022-04-19 00:53:34  22.634 sec             50.0       0.114245   \n",
              "11    2022-04-19 00:53:35  23.201 sec             55.0       0.108621   \n",
              "12    2022-04-19 00:53:35  23.560 sec             60.0       0.103801   \n",
              "13    2022-04-19 00:53:35  23.905 sec             65.0       0.098987   \n",
              "14    2022-04-19 00:53:36  24.392 sec             68.0       0.095578   \n",
              "\n",
              "    training_logloss  training_auc  training_pr_auc  training_lift  \\\n",
              "0           0.693147      0.500000         0.274741       1.000000   \n",
              "1           0.213703      0.985840         0.968815       3.639798   \n",
              "2           0.130500      0.991140         0.979851       3.639798   \n",
              "3           0.101922      0.993750         0.985665       3.639798   \n",
              "4           0.087995      0.994960         0.988258       3.639798   \n",
              "5           0.078262      0.996124         0.990840       3.639798   \n",
              "6           0.071458      0.996945         0.992742       3.639798   \n",
              "7           0.064133      0.997611         0.994256       3.639798   \n",
              "8           0.059570      0.998095         0.995355       3.639798   \n",
              "9           0.055766      0.998367         0.996007       3.639798   \n",
              "10          0.052339      0.998606         0.996555       3.639798   \n",
              "11          0.048230      0.998902         0.997267       3.639798   \n",
              "12          0.044986      0.999121         0.997805       3.639798   \n",
              "13          0.041915      0.999273         0.998192       3.639798   \n",
              "14          0.039690      0.999375         0.998455       3.639798   \n",
              "\n",
              "    training_classification_error  \n",
              "0                        0.725259  \n",
              "1                        0.049944  \n",
              "2                        0.040030  \n",
              "3                        0.033265  \n",
              "4                        0.029003  \n",
              "5                        0.025760  \n",
              "6                        0.023443  \n",
              "7                        0.020571  \n",
              "8                        0.018069  \n",
              "9                        0.016586  \n",
              "10                       0.014733  \n",
              "11                       0.013158  \n",
              "12                       0.011119  \n",
              "13                       0.009544  \n",
              "14                       0.009081  "
            ],
            "text/html": [
              "\n",
              "  <div id=\"df-7d6836b2-f39f-4c0c-9066-39851849980b\">\n",
              "    <div class=\"colab-df-container\">\n",
              "      <div>\n",
              "<style scoped>\n",
              "    .dataframe tbody tr th:only-of-type {\n",
              "        vertical-align: middle;\n",
              "    }\n",
              "\n",
              "    .dataframe tbody tr th {\n",
              "        vertical-align: top;\n",
              "    }\n",
              "\n",
              "    .dataframe thead th {\n",
              "        text-align: right;\n",
              "    }\n",
              "</style>\n",
              "<table border=\"1\" class=\"dataframe\">\n",
              "  <thead>\n",
              "    <tr style=\"text-align: right;\">\n",
              "      <th></th>\n",
              "      <th></th>\n",
              "      <th>timestamp</th>\n",
              "      <th>duration</th>\n",
              "      <th>number_of_trees</th>\n",
              "      <th>training_rmse</th>\n",
              "      <th>training_logloss</th>\n",
              "      <th>training_auc</th>\n",
              "      <th>training_pr_auc</th>\n",
              "      <th>training_lift</th>\n",
              "      <th>training_classification_error</th>\n",
              "    </tr>\n",
              "  </thead>\n",
              "  <tbody>\n",
              "    <tr>\n",
              "      <th>0</th>\n",
              "      <td></td>\n",
              "      <td>2022-04-19 00:53:30</td>\n",
              "      <td>18.242 sec</td>\n",
              "      <td>0.0</td>\n",
              "      <td>0.500000</td>\n",
              "      <td>0.693147</td>\n",
              "      <td>0.500000</td>\n",
              "      <td>0.274741</td>\n",
              "      <td>1.000000</td>\n",
              "      <td>0.725259</td>\n",
              "    </tr>\n",
              "    <tr>\n",
              "      <th>1</th>\n",
              "      <td></td>\n",
              "      <td>2022-04-19 00:53:30</td>\n",
              "      <td>18.718 sec</td>\n",
              "      <td>5.0</td>\n",
              "      <td>0.220881</td>\n",
              "      <td>0.213703</td>\n",
              "      <td>0.985840</td>\n",
              "      <td>0.968815</td>\n",
              "      <td>3.639798</td>\n",
              "      <td>0.049944</td>\n",
              "    </tr>\n",
              "    <tr>\n",
              "      <th>2</th>\n",
              "      <td></td>\n",
              "      <td>2022-04-19 00:53:31</td>\n",
              "      <td>19.167 sec</td>\n",
              "      <td>10.0</td>\n",
              "      <td>0.179390</td>\n",
              "      <td>0.130500</td>\n",
              "      <td>0.991140</td>\n",
              "      <td>0.979851</td>\n",
              "      <td>3.639798</td>\n",
              "      <td>0.040030</td>\n",
              "    </tr>\n",
              "    <tr>\n",
              "      <th>3</th>\n",
              "      <td></td>\n",
              "      <td>2022-04-19 00:53:31</td>\n",
              "      <td>19.352 sec</td>\n",
              "      <td>15.0</td>\n",
              "      <td>0.162283</td>\n",
              "      <td>0.101922</td>\n",
              "      <td>0.993750</td>\n",
              "      <td>0.985665</td>\n",
              "      <td>3.639798</td>\n",
              "      <td>0.033265</td>\n",
              "    </tr>\n",
              "    <tr>\n",
              "      <th>4</th>\n",
              "      <td></td>\n",
              "      <td>2022-04-19 00:53:31</td>\n",
              "      <td>19.511 sec</td>\n",
              "      <td>20.0</td>\n",
              "      <td>0.153132</td>\n",
              "      <td>0.087995</td>\n",
              "      <td>0.994960</td>\n",
              "      <td>0.988258</td>\n",
              "      <td>3.639798</td>\n",
              "      <td>0.029003</td>\n",
              "    </tr>\n",
              "    <tr>\n",
              "      <th>5</th>\n",
              "      <td></td>\n",
              "      <td>2022-04-19 00:53:32</td>\n",
              "      <td>20.195 sec</td>\n",
              "      <td>25.0</td>\n",
              "      <td>0.143925</td>\n",
              "      <td>0.078262</td>\n",
              "      <td>0.996124</td>\n",
              "      <td>0.990840</td>\n",
              "      <td>3.639798</td>\n",
              "      <td>0.025760</td>\n",
              "    </tr>\n",
              "    <tr>\n",
              "      <th>6</th>\n",
              "      <td></td>\n",
              "      <td>2022-04-19 00:53:33</td>\n",
              "      <td>21.028 sec</td>\n",
              "      <td>30.0</td>\n",
              "      <td>0.136704</td>\n",
              "      <td>0.071458</td>\n",
              "      <td>0.996945</td>\n",
              "      <td>0.992742</td>\n",
              "      <td>3.639798</td>\n",
              "      <td>0.023443</td>\n",
              "    </tr>\n",
              "    <tr>\n",
              "      <th>7</th>\n",
              "      <td></td>\n",
              "      <td>2022-04-19 00:53:33</td>\n",
              "      <td>21.703 sec</td>\n",
              "      <td>35.0</td>\n",
              "      <td>0.129070</td>\n",
              "      <td>0.064133</td>\n",
              "      <td>0.997611</td>\n",
              "      <td>0.994256</td>\n",
              "      <td>3.639798</td>\n",
              "      <td>0.020571</td>\n",
              "    </tr>\n",
              "    <tr>\n",
              "      <th>8</th>\n",
              "      <td></td>\n",
              "      <td>2022-04-19 00:53:34</td>\n",
              "      <td>22.262 sec</td>\n",
              "      <td>40.0</td>\n",
              "      <td>0.123214</td>\n",
              "      <td>0.059570</td>\n",
              "      <td>0.998095</td>\n",
              "      <td>0.995355</td>\n",
              "      <td>3.639798</td>\n",
              "      <td>0.018069</td>\n",
              "    </tr>\n",
              "    <tr>\n",
              "      <th>9</th>\n",
              "      <td></td>\n",
              "      <td>2022-04-19 00:53:34</td>\n",
              "      <td>22.447 sec</td>\n",
              "      <td>45.0</td>\n",
              "      <td>0.118611</td>\n",
              "      <td>0.055766</td>\n",
              "      <td>0.998367</td>\n",
              "      <td>0.996007</td>\n",
              "      <td>3.639798</td>\n",
              "      <td>0.016586</td>\n",
              "    </tr>\n",
              "    <tr>\n",
              "      <th>10</th>\n",
              "      <td></td>\n",
              "      <td>2022-04-19 00:53:34</td>\n",
              "      <td>22.634 sec</td>\n",
              "      <td>50.0</td>\n",
              "      <td>0.114245</td>\n",
              "      <td>0.052339</td>\n",
              "      <td>0.998606</td>\n",
              "      <td>0.996555</td>\n",
              "      <td>3.639798</td>\n",
              "      <td>0.014733</td>\n",
              "    </tr>\n",
              "    <tr>\n",
              "      <th>11</th>\n",
              "      <td></td>\n",
              "      <td>2022-04-19 00:53:35</td>\n",
              "      <td>23.201 sec</td>\n",
              "      <td>55.0</td>\n",
              "      <td>0.108621</td>\n",
              "      <td>0.048230</td>\n",
              "      <td>0.998902</td>\n",
              "      <td>0.997267</td>\n",
              "      <td>3.639798</td>\n",
              "      <td>0.013158</td>\n",
              "    </tr>\n",
              "    <tr>\n",
              "      <th>12</th>\n",
              "      <td></td>\n",
              "      <td>2022-04-19 00:53:35</td>\n",
              "      <td>23.560 sec</td>\n",
              "      <td>60.0</td>\n",
              "      <td>0.103801</td>\n",
              "      <td>0.044986</td>\n",
              "      <td>0.999121</td>\n",
              "      <td>0.997805</td>\n",
              "      <td>3.639798</td>\n",
              "      <td>0.011119</td>\n",
              "    </tr>\n",
              "    <tr>\n",
              "      <th>13</th>\n",
              "      <td></td>\n",
              "      <td>2022-04-19 00:53:35</td>\n",
              "      <td>23.905 sec</td>\n",
              "      <td>65.0</td>\n",
              "      <td>0.098987</td>\n",
              "      <td>0.041915</td>\n",
              "      <td>0.999273</td>\n",
              "      <td>0.998192</td>\n",
              "      <td>3.639798</td>\n",
              "      <td>0.009544</td>\n",
              "    </tr>\n",
              "    <tr>\n",
              "      <th>14</th>\n",
              "      <td></td>\n",
              "      <td>2022-04-19 00:53:36</td>\n",
              "      <td>24.392 sec</td>\n",
              "      <td>68.0</td>\n",
              "      <td>0.095578</td>\n",
              "      <td>0.039690</td>\n",
              "      <td>0.999375</td>\n",
              "      <td>0.998455</td>\n",
              "      <td>3.639798</td>\n",
              "      <td>0.009081</td>\n",
              "    </tr>\n",
              "  </tbody>\n",
              "</table>\n",
              "</div>\n",
              "      <button class=\"colab-df-convert\" onclick=\"convertToInteractive('df-7d6836b2-f39f-4c0c-9066-39851849980b')\"\n",
              "              title=\"Convert this dataframe to an interactive table.\"\n",
              "              style=\"display:none;\">\n",
              "        \n",
              "  <svg xmlns=\"http://www.w3.org/2000/svg\" height=\"24px\"viewBox=\"0 0 24 24\"\n",
              "       width=\"24px\">\n",
              "    <path d=\"M0 0h24v24H0V0z\" fill=\"none\"/>\n",
              "    <path d=\"M18.56 5.44l.94 2.06.94-2.06 2.06-.94-2.06-.94-.94-2.06-.94 2.06-2.06.94zm-11 1L8.5 8.5l.94-2.06 2.06-.94-2.06-.94L8.5 2.5l-.94 2.06-2.06.94zm10 10l.94 2.06.94-2.06 2.06-.94-2.06-.94-.94-2.06-.94 2.06-2.06.94z\"/><path d=\"M17.41 7.96l-1.37-1.37c-.4-.4-.92-.59-1.43-.59-.52 0-1.04.2-1.43.59L10.3 9.45l-7.72 7.72c-.78.78-.78 2.05 0 2.83L4 21.41c.39.39.9.59 1.41.59.51 0 1.02-.2 1.41-.59l7.78-7.78 2.81-2.81c.8-.78.8-2.07 0-2.86zM5.41 20L4 18.59l7.72-7.72 1.47 1.35L5.41 20z\"/>\n",
              "  </svg>\n",
              "      </button>\n",
              "      \n",
              "  <style>\n",
              "    .colab-df-container {\n",
              "      display:flex;\n",
              "      flex-wrap:wrap;\n",
              "      gap: 12px;\n",
              "    }\n",
              "\n",
              "    .colab-df-convert {\n",
              "      background-color: #E8F0FE;\n",
              "      border: none;\n",
              "      border-radius: 50%;\n",
              "      cursor: pointer;\n",
              "      display: none;\n",
              "      fill: #1967D2;\n",
              "      height: 32px;\n",
              "      padding: 0 0 0 0;\n",
              "      width: 32px;\n",
              "    }\n",
              "\n",
              "    .colab-df-convert:hover {\n",
              "      background-color: #E2EBFA;\n",
              "      box-shadow: 0px 1px 2px rgba(60, 64, 67, 0.3), 0px 1px 3px 1px rgba(60, 64, 67, 0.15);\n",
              "      fill: #174EA6;\n",
              "    }\n",
              "\n",
              "    [theme=dark] .colab-df-convert {\n",
              "      background-color: #3B4455;\n",
              "      fill: #D2E3FC;\n",
              "    }\n",
              "\n",
              "    [theme=dark] .colab-df-convert:hover {\n",
              "      background-color: #434B5C;\n",
              "      box-shadow: 0px 1px 3px 1px rgba(0, 0, 0, 0.15);\n",
              "      filter: drop-shadow(0px 1px 2px rgba(0, 0, 0, 0.3));\n",
              "      fill: #FFFFFF;\n",
              "    }\n",
              "  </style>\n",
              "\n",
              "      <script>\n",
              "        const buttonEl =\n",
              "          document.querySelector('#df-7d6836b2-f39f-4c0c-9066-39851849980b button.colab-df-convert');\n",
              "        buttonEl.style.display =\n",
              "          google.colab.kernel.accessAllowed ? 'block' : 'none';\n",
              "\n",
              "        async function convertToInteractive(key) {\n",
              "          const element = document.querySelector('#df-7d6836b2-f39f-4c0c-9066-39851849980b');\n",
              "          const dataTable =\n",
              "            await google.colab.kernel.invokeFunction('convertToInteractive',\n",
              "                                                     [key], {});\n",
              "          if (!dataTable) return;\n",
              "\n",
              "          const docLinkHtml = 'Like what you see? Visit the ' +\n",
              "            '<a target=\"_blank\" href=https://colab.research.google.com/notebooks/data_table.ipynb>data table notebook</a>'\n",
              "            + ' to learn more about interactive tables.';\n",
              "          element.innerHTML = '';\n",
              "          dataTable['output_type'] = 'display_data';\n",
              "          await google.colab.output.renderOutput(dataTable, element);\n",
              "          const docLink = document.createElement('div');\n",
              "          docLink.innerHTML = docLinkHtml;\n",
              "          element.appendChild(docLink);\n",
              "        }\n",
              "      </script>\n",
              "    </div>\n",
              "  </div>\n",
              "  "
            ]
          },
          "metadata": {}
        },
        {
          "output_type": "stream",
          "name": "stdout",
          "text": [
            "\n",
            "Variable Importances: \n"
          ]
        },
        {
          "output_type": "display_data",
          "data": {
            "text/plain": [
              "                   variable  relative_importance  scaled_importance  \\\n",
              "0                  TRAN_AMT         10861.821289           1.000000   \n",
              "1   ACCT_PRE_TRAN_AVAIL_BAL          2268.820801           0.208880   \n",
              "2                WF_dvc_age           945.601318           0.087057   \n",
              "3   Carrier_Popular Carrier           636.769592           0.058625   \n",
              "4            PH_NUM_UPDT_TS           516.138794           0.047519   \n",
              "5               PWD_UPDT_TS           474.156158           0.043653   \n",
              "6   STATE_PRVNC_TXT.Unknown           297.453613           0.027385   \n",
              "7              OPEN_ACCT_CT           287.929932           0.026508   \n",
              "8        RGN_NAME.southwest           259.363983           0.023878   \n",
              "9             Device_MOBILE           257.416809           0.023699   \n",
              "10           pwd_up_numeric           244.314240           0.022493   \n",
              "11                 CUST_ZIP           195.462173           0.017995   \n",
              "12                  TRAN_TS           114.308014           0.010524   \n",
              "13            phn_diff_tran           111.508774           0.010266   \n",
              "14        cst_since_numeric           110.771461           0.010198   \n",
              "15        ph_num_up_numeric           101.327271           0.009329   \n",
              "16            pwd_diff_tran            83.859444           0.007721   \n",
              "17  Carrier_Unknown Carrier            78.556648           0.007232   \n",
              "18            CUST_SINCE_DT            77.617332           0.007146   \n",
              "19          Tran_TS_Numeric            57.662228           0.005309   \n",
              "\n",
              "    percentage  \n",
              "0     0.588580  \n",
              "1     0.122943  \n",
              "2     0.051240  \n",
              "3     0.034505  \n",
              "4     0.027969  \n",
              "5     0.025694  \n",
              "6     0.016118  \n",
              "7     0.015602  \n",
              "8     0.014054  \n",
              "9     0.013949  \n",
              "10    0.013239  \n",
              "11    0.010592  \n",
              "12    0.006194  \n",
              "13    0.006042  \n",
              "14    0.006002  \n",
              "15    0.005491  \n",
              "16    0.004544  \n",
              "17    0.004257  \n",
              "18    0.004206  \n",
              "19    0.003125  "
            ],
            "text/html": [
              "\n",
              "  <div id=\"df-dac4296b-d979-4d50-b24d-b7d91178cf4a\">\n",
              "    <div class=\"colab-df-container\">\n",
              "      <div>\n",
              "<style scoped>\n",
              "    .dataframe tbody tr th:only-of-type {\n",
              "        vertical-align: middle;\n",
              "    }\n",
              "\n",
              "    .dataframe tbody tr th {\n",
              "        vertical-align: top;\n",
              "    }\n",
              "\n",
              "    .dataframe thead th {\n",
              "        text-align: right;\n",
              "    }\n",
              "</style>\n",
              "<table border=\"1\" class=\"dataframe\">\n",
              "  <thead>\n",
              "    <tr style=\"text-align: right;\">\n",
              "      <th></th>\n",
              "      <th>variable</th>\n",
              "      <th>relative_importance</th>\n",
              "      <th>scaled_importance</th>\n",
              "      <th>percentage</th>\n",
              "    </tr>\n",
              "  </thead>\n",
              "  <tbody>\n",
              "    <tr>\n",
              "      <th>0</th>\n",
              "      <td>TRAN_AMT</td>\n",
              "      <td>10861.821289</td>\n",
              "      <td>1.000000</td>\n",
              "      <td>0.588580</td>\n",
              "    </tr>\n",
              "    <tr>\n",
              "      <th>1</th>\n",
              "      <td>ACCT_PRE_TRAN_AVAIL_BAL</td>\n",
              "      <td>2268.820801</td>\n",
              "      <td>0.208880</td>\n",
              "      <td>0.122943</td>\n",
              "    </tr>\n",
              "    <tr>\n",
              "      <th>2</th>\n",
              "      <td>WF_dvc_age</td>\n",
              "      <td>945.601318</td>\n",
              "      <td>0.087057</td>\n",
              "      <td>0.051240</td>\n",
              "    </tr>\n",
              "    <tr>\n",
              "      <th>3</th>\n",
              "      <td>Carrier_Popular Carrier</td>\n",
              "      <td>636.769592</td>\n",
              "      <td>0.058625</td>\n",
              "      <td>0.034505</td>\n",
              "    </tr>\n",
              "    <tr>\n",
              "      <th>4</th>\n",
              "      <td>PH_NUM_UPDT_TS</td>\n",
              "      <td>516.138794</td>\n",
              "      <td>0.047519</td>\n",
              "      <td>0.027969</td>\n",
              "    </tr>\n",
              "    <tr>\n",
              "      <th>5</th>\n",
              "      <td>PWD_UPDT_TS</td>\n",
              "      <td>474.156158</td>\n",
              "      <td>0.043653</td>\n",
              "      <td>0.025694</td>\n",
              "    </tr>\n",
              "    <tr>\n",
              "      <th>6</th>\n",
              "      <td>STATE_PRVNC_TXT.Unknown</td>\n",
              "      <td>297.453613</td>\n",
              "      <td>0.027385</td>\n",
              "      <td>0.016118</td>\n",
              "    </tr>\n",
              "    <tr>\n",
              "      <th>7</th>\n",
              "      <td>OPEN_ACCT_CT</td>\n",
              "      <td>287.929932</td>\n",
              "      <td>0.026508</td>\n",
              "      <td>0.015602</td>\n",
              "    </tr>\n",
              "    <tr>\n",
              "      <th>8</th>\n",
              "      <td>RGN_NAME.southwest</td>\n",
              "      <td>259.363983</td>\n",
              "      <td>0.023878</td>\n",
              "      <td>0.014054</td>\n",
              "    </tr>\n",
              "    <tr>\n",
              "      <th>9</th>\n",
              "      <td>Device_MOBILE</td>\n",
              "      <td>257.416809</td>\n",
              "      <td>0.023699</td>\n",
              "      <td>0.013949</td>\n",
              "    </tr>\n",
              "    <tr>\n",
              "      <th>10</th>\n",
              "      <td>pwd_up_numeric</td>\n",
              "      <td>244.314240</td>\n",
              "      <td>0.022493</td>\n",
              "      <td>0.013239</td>\n",
              "    </tr>\n",
              "    <tr>\n",
              "      <th>11</th>\n",
              "      <td>CUST_ZIP</td>\n",
              "      <td>195.462173</td>\n",
              "      <td>0.017995</td>\n",
              "      <td>0.010592</td>\n",
              "    </tr>\n",
              "    <tr>\n",
              "      <th>12</th>\n",
              "      <td>TRAN_TS</td>\n",
              "      <td>114.308014</td>\n",
              "      <td>0.010524</td>\n",
              "      <td>0.006194</td>\n",
              "    </tr>\n",
              "    <tr>\n",
              "      <th>13</th>\n",
              "      <td>phn_diff_tran</td>\n",
              "      <td>111.508774</td>\n",
              "      <td>0.010266</td>\n",
              "      <td>0.006042</td>\n",
              "    </tr>\n",
              "    <tr>\n",
              "      <th>14</th>\n",
              "      <td>cst_since_numeric</td>\n",
              "      <td>110.771461</td>\n",
              "      <td>0.010198</td>\n",
              "      <td>0.006002</td>\n",
              "    </tr>\n",
              "    <tr>\n",
              "      <th>15</th>\n",
              "      <td>ph_num_up_numeric</td>\n",
              "      <td>101.327271</td>\n",
              "      <td>0.009329</td>\n",
              "      <td>0.005491</td>\n",
              "    </tr>\n",
              "    <tr>\n",
              "      <th>16</th>\n",
              "      <td>pwd_diff_tran</td>\n",
              "      <td>83.859444</td>\n",
              "      <td>0.007721</td>\n",
              "      <td>0.004544</td>\n",
              "    </tr>\n",
              "    <tr>\n",
              "      <th>17</th>\n",
              "      <td>Carrier_Unknown Carrier</td>\n",
              "      <td>78.556648</td>\n",
              "      <td>0.007232</td>\n",
              "      <td>0.004257</td>\n",
              "    </tr>\n",
              "    <tr>\n",
              "      <th>18</th>\n",
              "      <td>CUST_SINCE_DT</td>\n",
              "      <td>77.617332</td>\n",
              "      <td>0.007146</td>\n",
              "      <td>0.004206</td>\n",
              "    </tr>\n",
              "    <tr>\n",
              "      <th>19</th>\n",
              "      <td>Tran_TS_Numeric</td>\n",
              "      <td>57.662228</td>\n",
              "      <td>0.005309</td>\n",
              "      <td>0.003125</td>\n",
              "    </tr>\n",
              "  </tbody>\n",
              "</table>\n",
              "</div>\n",
              "      <button class=\"colab-df-convert\" onclick=\"convertToInteractive('df-dac4296b-d979-4d50-b24d-b7d91178cf4a')\"\n",
              "              title=\"Convert this dataframe to an interactive table.\"\n",
              "              style=\"display:none;\">\n",
              "        \n",
              "  <svg xmlns=\"http://www.w3.org/2000/svg\" height=\"24px\"viewBox=\"0 0 24 24\"\n",
              "       width=\"24px\">\n",
              "    <path d=\"M0 0h24v24H0V0z\" fill=\"none\"/>\n",
              "    <path d=\"M18.56 5.44l.94 2.06.94-2.06 2.06-.94-2.06-.94-.94-2.06-.94 2.06-2.06.94zm-11 1L8.5 8.5l.94-2.06 2.06-.94-2.06-.94L8.5 2.5l-.94 2.06-2.06.94zm10 10l.94 2.06.94-2.06 2.06-.94-2.06-.94-.94-2.06-.94 2.06-2.06.94z\"/><path d=\"M17.41 7.96l-1.37-1.37c-.4-.4-.92-.59-1.43-.59-.52 0-1.04.2-1.43.59L10.3 9.45l-7.72 7.72c-.78.78-.78 2.05 0 2.83L4 21.41c.39.39.9.59 1.41.59.51 0 1.02-.2 1.41-.59l7.78-7.78 2.81-2.81c.8-.78.8-2.07 0-2.86zM5.41 20L4 18.59l7.72-7.72 1.47 1.35L5.41 20z\"/>\n",
              "  </svg>\n",
              "      </button>\n",
              "      \n",
              "  <style>\n",
              "    .colab-df-container {\n",
              "      display:flex;\n",
              "      flex-wrap:wrap;\n",
              "      gap: 12px;\n",
              "    }\n",
              "\n",
              "    .colab-df-convert {\n",
              "      background-color: #E8F0FE;\n",
              "      border: none;\n",
              "      border-radius: 50%;\n",
              "      cursor: pointer;\n",
              "      display: none;\n",
              "      fill: #1967D2;\n",
              "      height: 32px;\n",
              "      padding: 0 0 0 0;\n",
              "      width: 32px;\n",
              "    }\n",
              "\n",
              "    .colab-df-convert:hover {\n",
              "      background-color: #E2EBFA;\n",
              "      box-shadow: 0px 1px 2px rgba(60, 64, 67, 0.3), 0px 1px 3px 1px rgba(60, 64, 67, 0.15);\n",
              "      fill: #174EA6;\n",
              "    }\n",
              "\n",
              "    [theme=dark] .colab-df-convert {\n",
              "      background-color: #3B4455;\n",
              "      fill: #D2E3FC;\n",
              "    }\n",
              "\n",
              "    [theme=dark] .colab-df-convert:hover {\n",
              "      background-color: #434B5C;\n",
              "      box-shadow: 0px 1px 3px 1px rgba(0, 0, 0, 0.15);\n",
              "      filter: drop-shadow(0px 1px 2px rgba(0, 0, 0, 0.3));\n",
              "      fill: #FFFFFF;\n",
              "    }\n",
              "  </style>\n",
              "\n",
              "      <script>\n",
              "        const buttonEl =\n",
              "          document.querySelector('#df-dac4296b-d979-4d50-b24d-b7d91178cf4a button.colab-df-convert');\n",
              "        buttonEl.style.display =\n",
              "          google.colab.kernel.accessAllowed ? 'block' : 'none';\n",
              "\n",
              "        async function convertToInteractive(key) {\n",
              "          const element = document.querySelector('#df-dac4296b-d979-4d50-b24d-b7d91178cf4a');\n",
              "          const dataTable =\n",
              "            await google.colab.kernel.invokeFunction('convertToInteractive',\n",
              "                                                     [key], {});\n",
              "          if (!dataTable) return;\n",
              "\n",
              "          const docLinkHtml = 'Like what you see? Visit the ' +\n",
              "            '<a target=\"_blank\" href=https://colab.research.google.com/notebooks/data_table.ipynb>data table notebook</a>'\n",
              "            + ' to learn more about interactive tables.';\n",
              "          element.innerHTML = '';\n",
              "          dataTable['output_type'] = 'display_data';\n",
              "          await google.colab.output.renderOutput(dataTable, element);\n",
              "          const docLink = document.createElement('div');\n",
              "          docLink.innerHTML = docLinkHtml;\n",
              "          element.appendChild(docLink);\n",
              "        }\n",
              "      </script>\n",
              "    </div>\n",
              "  </div>\n",
              "  "
            ]
          },
          "metadata": {}
        },
        {
          "output_type": "stream",
          "name": "stdout",
          "text": [
            "\n",
            "See the whole table with table.as_data_frame()\n"
          ]
        },
        {
          "output_type": "execute_result",
          "data": {
            "text/plain": [
              ""
            ]
          },
          "metadata": {},
          "execution_count": 111
        }
      ]
    },
    {
      "cell_type": "code",
      "source": [
        "lb = aml.leaderboard"
      ],
      "metadata": {
        "id": "lc_kamQs9-r6"
      },
      "execution_count": null,
      "outputs": []
    },
    {
      "cell_type": "code",
      "source": [
        "lb.head(rows=lb.nrows)"
      ],
      "metadata": {
        "colab": {
          "base_uri": "https://localhost:8080/",
          "height": 396
        },
        "id": "V0I5oFKV9-pd",
        "outputId": "d333aa8a-5b64-45f6-b820-296b0ef32bc1"
      },
      "execution_count": null,
      "outputs": [
        {
          "output_type": "display_data",
          "data": {
            "text/html": [
              "<table>\n",
              "<thead>\n",
              "<tr><th>model_id                                      </th><th style=\"text-align: right;\">     auc</th><th style=\"text-align: right;\">  logloss</th><th style=\"text-align: right;\">   aucpr</th><th style=\"text-align: right;\">  mean_per_class_error</th><th style=\"text-align: right;\">    rmse</th><th style=\"text-align: right;\">      mse</th></tr>\n",
              "</thead>\n",
              "<tbody>\n",
              "<tr><td>XGBoost_3_AutoML_6_20220419_04928             </td><td style=\"text-align: right;\">0.991607</td><td style=\"text-align: right;\"> 0.101788</td><td style=\"text-align: right;\">0.981114</td><td style=\"text-align: right;\">             0.0532993</td><td style=\"text-align: right;\">0.171002</td><td style=\"text-align: right;\">0.0292415</td></tr>\n",
              "<tr><td>XGBoost_grid_1_AutoML_6_20220419_04928_model_1</td><td style=\"text-align: right;\">0.991549</td><td style=\"text-align: right;\"> 0.111797</td><td style=\"text-align: right;\">0.98113 </td><td style=\"text-align: right;\">             0.0532584</td><td style=\"text-align: right;\">0.173419</td><td style=\"text-align: right;\">0.0300741</td></tr>\n",
              "<tr><td>XGBoost_grid_1_AutoML_6_20220419_04928_model_4</td><td style=\"text-align: right;\">0.991376</td><td style=\"text-align: right;\"> 0.104755</td><td style=\"text-align: right;\">0.980268</td><td style=\"text-align: right;\">             0.049725 </td><td style=\"text-align: right;\">0.17314 </td><td style=\"text-align: right;\">0.0299774</td></tr>\n",
              "<tr><td>XGBoost_grid_1_AutoML_6_20220419_04928_model_3</td><td style=\"text-align: right;\">0.991257</td><td style=\"text-align: right;\"> 0.107195</td><td style=\"text-align: right;\">0.980177</td><td style=\"text-align: right;\">             0.0505936</td><td style=\"text-align: right;\">0.172266</td><td style=\"text-align: right;\">0.0296756</td></tr>\n",
              "<tr><td>XGBoost_grid_1_AutoML_6_20220419_04928_model_5</td><td style=\"text-align: right;\">0.991242</td><td style=\"text-align: right;\"> 0.109489</td><td style=\"text-align: right;\">0.980382</td><td style=\"text-align: right;\">             0.0479418</td><td style=\"text-align: right;\">0.174811</td><td style=\"text-align: right;\">0.030559 </td></tr>\n",
              "<tr><td>XGBoost_grid_1_AutoML_6_20220419_04928_model_2</td><td style=\"text-align: right;\">0.991137</td><td style=\"text-align: right;\"> 0.114013</td><td style=\"text-align: right;\">0.980222</td><td style=\"text-align: right;\">             0.0496075</td><td style=\"text-align: right;\">0.176089</td><td style=\"text-align: right;\">0.0310075</td></tr>\n",
              "<tr><td>XGBoost_1_AutoML_6_20220419_04928             </td><td style=\"text-align: right;\">0.990883</td><td style=\"text-align: right;\"> 0.106603</td><td style=\"text-align: right;\">0.978994</td><td style=\"text-align: right;\">             0.0543623</td><td style=\"text-align: right;\">0.174734</td><td style=\"text-align: right;\">0.0305321</td></tr>\n",
              "<tr><td>XGBoost_2_AutoML_6_20220419_04928             </td><td style=\"text-align: right;\">0.99075 </td><td style=\"text-align: right;\"> 0.107638</td><td style=\"text-align: right;\">0.97913 </td><td style=\"text-align: right;\">             0.0516209</td><td style=\"text-align: right;\">0.174566</td><td style=\"text-align: right;\">0.0304732</td></tr>\n",
              "<tr><td>GBM_1_AutoML_6_20220419_04928                 </td><td style=\"text-align: right;\">0.990597</td><td style=\"text-align: right;\"> 0.108595</td><td style=\"text-align: right;\">0.978678</td><td style=\"text-align: right;\">             0.0500447</td><td style=\"text-align: right;\">0.178103</td><td style=\"text-align: right;\">0.0317207</td></tr>\n",
              "<tr><td>GBM_5_AutoML_6_20220419_04928                 </td><td style=\"text-align: right;\">0.99005 </td><td style=\"text-align: right;\"> 0.11431 </td><td style=\"text-align: right;\">0.97725 </td><td style=\"text-align: right;\">             0.0524874</td><td style=\"text-align: right;\">0.183164</td><td style=\"text-align: right;\">0.033549 </td></tr>\n",
              "<tr><td>GBM_2_AutoML_6_20220419_04928                 </td><td style=\"text-align: right;\">0.990013</td><td style=\"text-align: right;\"> 0.114811</td><td style=\"text-align: right;\">0.976866</td><td style=\"text-align: right;\">             0.0508549</td><td style=\"text-align: right;\">0.183536</td><td style=\"text-align: right;\">0.0336854</td></tr>\n",
              "<tr><td>GBM_3_AutoML_6_20220419_04928                 </td><td style=\"text-align: right;\">0.989903</td><td style=\"text-align: right;\"> 0.115887</td><td style=\"text-align: right;\">0.977076</td><td style=\"text-align: right;\">             0.0544752</td><td style=\"text-align: right;\">0.183801</td><td style=\"text-align: right;\">0.0337829</td></tr>\n",
              "<tr><td>GBM_4_AutoML_6_20220419_04928                 </td><td style=\"text-align: right;\">0.989162</td><td style=\"text-align: right;\"> 0.119977</td><td style=\"text-align: right;\">0.976058</td><td style=\"text-align: right;\">             0.0532004</td><td style=\"text-align: right;\">0.185903</td><td style=\"text-align: right;\">0.03456  </td></tr>\n",
              "<tr><td>DRF_1_AutoML_6_20220419_04928                 </td><td style=\"text-align: right;\">0.980452</td><td style=\"text-align: right;\"> 0.176285</td><td style=\"text-align: right;\">0.960811</td><td style=\"text-align: right;\">             0.0816686</td><td style=\"text-align: right;\">0.220242</td><td style=\"text-align: right;\">0.0485063</td></tr>\n",
              "<tr><td>XRT_1_AutoML_6_20220419_04928                 </td><td style=\"text-align: right;\">0.975756</td><td style=\"text-align: right;\"> 0.239771</td><td style=\"text-align: right;\">0.953697</td><td style=\"text-align: right;\">             0.0859765</td><td style=\"text-align: right;\">0.250138</td><td style=\"text-align: right;\">0.0625693</td></tr>\n",
              "<tr><td>DeepLearning_1_AutoML_6_20220419_04928        </td><td style=\"text-align: right;\">0.945286</td><td style=\"text-align: right;\"> 0.265283</td><td style=\"text-align: right;\">0.882088</td><td style=\"text-align: right;\">             0.131895 </td><td style=\"text-align: right;\">0.284009</td><td style=\"text-align: right;\">0.0806609</td></tr>\n",
              "<tr><td>GLM_1_AutoML_6_20220419_04928                 </td><td style=\"text-align: right;\">0.910706</td><td style=\"text-align: right;\"> 0.332895</td><td style=\"text-align: right;\">0.78888 </td><td style=\"text-align: right;\">             0.172637 </td><td style=\"text-align: right;\">0.320122</td><td style=\"text-align: right;\">0.102478 </td></tr>\n",
              "</tbody>\n",
              "</table>"
            ]
          },
          "metadata": {}
        },
        {
          "output_type": "execute_result",
          "data": {
            "text/plain": [
              ""
            ]
          },
          "metadata": {},
          "execution_count": 113
        }
      ]
    },
    {
      "cell_type": "code",
      "source": [
        "model_path = h2o.save_model(model=aml.leader, path=\".\")"
      ],
      "metadata": {
        "id": "BxP3xp-h9-nC"
      },
      "execution_count": null,
      "outputs": []
    },
    {
      "cell_type": "code",
      "source": [
        "saved_model = h2o.load_model(model_path)"
      ],
      "metadata": {
        "id": "0x1GTQF_-uSP"
      },
      "execution_count": null,
      "outputs": []
    },
    {
      "cell_type": "code",
      "source": [
        "X_test.to_csv(\"/content/Xtest.csv\", index=False)"
      ],
      "metadata": {
        "id": "enhSNYE2TNRk"
      },
      "execution_count": null,
      "outputs": []
    },
    {
      "cell_type": "code",
      "source": [
        "test = h2o.import_file(\"/content/Xtest.csv\", header=1)"
      ],
      "metadata": {
        "colab": {
          "base_uri": "https://localhost:8080/"
        },
        "id": "ECx6_i2ZTzO9",
        "outputId": "b4c5d950-c874-411c-a95e-d63ee8a3f499"
      },
      "execution_count": null,
      "outputs": [
        {
          "output_type": "stream",
          "name": "stdout",
          "text": [
            "Parse progress: |████████████████████████████████████████████████████████████████| (done) 100%\n"
          ]
        }
      ]
    },
    {
      "cell_type": "code",
      "source": [
        ""
      ],
      "metadata": {
        "id": "HIhStc2XT3E3"
      },
      "execution_count": null,
      "outputs": []
    },
    {
      "cell_type": "code",
      "source": [
        ""
      ],
      "metadata": {
        "id": "QswRzbq-T32K"
      },
      "execution_count": null,
      "outputs": []
    },
    {
      "cell_type": "code",
      "source": [
        ""
      ],
      "metadata": {
        "id": "zD0PUmI3T3y0"
      },
      "execution_count": null,
      "outputs": []
    },
    {
      "cell_type": "code",
      "source": [
        "saved_model.predict(test)"
      ],
      "metadata": {
        "colab": {
          "base_uri": "https://localhost:8080/",
          "height": 321
        },
        "id": "MstnfIvRTh94",
        "outputId": "a2bfceec-38dc-4a08-9028-214f1b6e7e74"
      },
      "execution_count": null,
      "outputs": [
        {
          "output_type": "stream",
          "name": "stdout",
          "text": [
            "xgboost prediction progress: |███████████████████████████████████████████████████| (done) 100%\n"
          ]
        },
        {
          "output_type": "stream",
          "name": "stderr",
          "text": [
            "/usr/local/lib/python3.7/dist-packages/h2o/job.py:83: UserWarning: Test/Validation dataset column 'STATE_PRVNC_TXT' has levels not trained on: [\"nordrhein-westfalen\"]\n",
            "  warnings.warn(w)\n"
          ]
        },
        {
          "output_type": "display_data",
          "data": {
            "text/html": [
              "<table>\n",
              "<thead>\n",
              "<tr><th style=\"text-align: right;\">  predict</th><th style=\"text-align: right;\">       p0</th><th style=\"text-align: right;\">         p1</th></tr>\n",
              "</thead>\n",
              "<tbody>\n",
              "<tr><td style=\"text-align: right;\">        0</td><td style=\"text-align: right;\">0.967988 </td><td style=\"text-align: right;\">0.0320118  </td></tr>\n",
              "<tr><td style=\"text-align: right;\">        0</td><td style=\"text-align: right;\">0.996882 </td><td style=\"text-align: right;\">0.00311797 </td></tr>\n",
              "<tr><td style=\"text-align: right;\">        0</td><td style=\"text-align: right;\">0.998971 </td><td style=\"text-align: right;\">0.00102896 </td></tr>\n",
              "<tr><td style=\"text-align: right;\">        1</td><td style=\"text-align: right;\">0.0150291</td><td style=\"text-align: right;\">0.984971   </td></tr>\n",
              "<tr><td style=\"text-align: right;\">        1</td><td style=\"text-align: right;\">0.0194225</td><td style=\"text-align: right;\">0.980577   </td></tr>\n",
              "<tr><td style=\"text-align: right;\">        0</td><td style=\"text-align: right;\">0.999367 </td><td style=\"text-align: right;\">0.00063312 </td></tr>\n",
              "<tr><td style=\"text-align: right;\">        1</td><td style=\"text-align: right;\">0.0613289</td><td style=\"text-align: right;\">0.938671   </td></tr>\n",
              "<tr><td style=\"text-align: right;\">        0</td><td style=\"text-align: right;\">0.998987 </td><td style=\"text-align: right;\">0.0010127  </td></tr>\n",
              "<tr><td style=\"text-align: right;\">        0</td><td style=\"text-align: right;\">0.999975 </td><td style=\"text-align: right;\">2.4999e-05 </td></tr>\n",
              "<tr><td style=\"text-align: right;\">        0</td><td style=\"text-align: right;\">0.999743 </td><td style=\"text-align: right;\">0.000256666</td></tr>\n",
              "</tbody>\n",
              "</table>"
            ]
          },
          "metadata": {}
        },
        {
          "output_type": "execute_result",
          "data": {
            "text/plain": [
              ""
            ]
          },
          "metadata": {},
          "execution_count": 118
        }
      ]
    },
    {
      "cell_type": "code",
      "source": [
        "y_pred = list(saved_model.predict(test)[\"predict\"])"
      ],
      "metadata": {
        "colab": {
          "base_uri": "https://localhost:8080/"
        },
        "id": "ArQURepvT9y5",
        "outputId": "32479786-84a8-4c1a-f7e6-db9c0e5b7e56"
      },
      "execution_count": null,
      "outputs": [
        {
          "output_type": "stream",
          "name": "stdout",
          "text": [
            "xgboost prediction progress: |███████████████████████████████████████████████████| (done) 100%\n"
          ]
        },
        {
          "output_type": "stream",
          "name": "stderr",
          "text": [
            "/usr/local/lib/python3.7/dist-packages/h2o/job.py:83: UserWarning: Test/Validation dataset column 'STATE_PRVNC_TXT' has levels not trained on: [\"nordrhein-westfalen\"]\n",
            "  warnings.warn(w)\n"
          ]
        }
      ]
    },
    {
      "cell_type": "code",
      "source": [
        "# print()\n",
        "y_pred = y_pred[0].as_data_frame()[\"predict\"].tolist()"
      ],
      "metadata": {
        "id": "JRogMglHVAl8"
      },
      "execution_count": null,
      "outputs": []
    },
    {
      "cell_type": "code",
      "source": [
        "from sklearn.metrics import f1_score\n",
        "f1_score(list(y_test), y_pred)\n"
      ],
      "metadata": {
        "colab": {
          "base_uri": "https://localhost:8080/"
        },
        "id": "8GsQMBPOT9va",
        "outputId": "b79e31a7-10d9-4336-8401-81b0796af573"
      },
      "execution_count": null,
      "outputs": [
        {
          "output_type": "execute_result",
          "data": {
            "text/plain": [
              "0.9307359307359307"
            ]
          },
          "metadata": {},
          "execution_count": 132
        }
      ]
    },
    {
      "cell_type": "code",
      "source": [
        "#precision and recall\n",
        "from sklearn.metrics import precision_score\n",
        "print(precision_score(list(y_test), y_pred))\n",
        "from sklearn.metrics import recall_score\n",
        "print(recall_score(list(y_test), y_pred))\n",
        "from sklearn.metrics import accuracy_score\n",
        "print(accuracy_score(list(y_test), y_pred))"
      ],
      "metadata": {
        "colab": {
          "base_uri": "https://localhost:8080/"
        },
        "id": "WwDpCBkoT9sq",
        "outputId": "f5b2a33d-1037-47ec-9050-b8c8ea89de1a"
      },
      "execution_count": null,
      "outputs": [
        {
          "output_type": "stream",
          "name": "stdout",
          "text": [
            "0.9267241379310345\n",
            "0.9347826086956522\n",
            "0.9644312708410523\n"
          ]
        }
      ]
    },
    {
      "cell_type": "code",
      "source": [
        ""
      ],
      "metadata": {
        "id": "zeKmpPMcT9au"
      },
      "execution_count": null,
      "outputs": []
    },
    {
      "cell_type": "code",
      "source": [
        "# df = pd.read_excel(\"/content/test-set-final.xlsx\")"
      ],
      "metadata": {
        "id": "eplXOqivOviG"
      },
      "execution_count": null,
      "outputs": []
    },
    {
      "cell_type": "code",
      "source": [
        "# df"
      ],
      "metadata": {
        "colab": {
          "base_uri": "https://localhost:8080/",
          "height": 661
        },
        "id": "cYEFodoEPGcJ",
        "outputId": "7efc6daf-82f1-4e27-fc64-05661856a3c3"
      },
      "execution_count": null,
      "outputs": [
        {
          "output_type": "execute_result",
          "data": {
            "text/plain": [
              "      dataset_id  TRAN_AMT  ACCT_PRE_TRAN_AVAIL_BAL  CUST_AGE  OPEN_ACCT_CT  \\\n",
              "0              1     54.25                     0.00         0             4   \n",
              "1              2    110.30                     0.00         0             3   \n",
              "2              3    515.95                     0.00         0             5   \n",
              "3              4     42.78                     0.00         1             3   \n",
              "4              5      0.01                     0.00         1            12   \n",
              "...          ...       ...                      ...       ...           ...   \n",
              "5759        5996    449.45                     0.00         0             6   \n",
              "5760        5997    488.72                 34842.64         1             7   \n",
              "5761        5998      0.01                     0.00         0             5   \n",
              "5762        5999    211.10                  3197.42         0            20   \n",
              "5763        6000      7.32                   449.82         0            17   \n",
              "\n",
              "      WF_dvc_age         PWD_UPDT_TS  CARR_NAME           RGN_NAME  \\\n",
              "0            634 2020-09-18 09:33:44          1          southwest   \n",
              "1           1876 2021-05-16 17:02:31          1           mountain   \n",
              "2             40 1999-10-17 00:00:00          2       mid atlantic   \n",
              "3            367 2021-02-18 04:05:00          1          southwest   \n",
              "4            518 2018-02-18 04:07:20          1          southwest   \n",
              "...          ...                 ...        ...                ...   \n",
              "5759         504 2017-03-18 07:07:32          1          southwest   \n",
              "5760           0 2020-02-01 20:56:55          0                NaN   \n",
              "5761         457 1976-10-21 00:00:00          1          southwest   \n",
              "5762           6 2021-11-28 13:18:39          2          southwest   \n",
              "5763         476 2019-01-14 15:12:52          1  pacific northwest   \n",
              "\n",
              "     STATE_PRVNC_TXT  ...  Tran_TS_Numeric cst_diff_tran  phn_diff_tran  \\\n",
              "0         california  ...       1610105624     312032024       79062487   \n",
              "1           colorado  ...       1614409351     608194951      608194951   \n",
              "2           virginia  ...       1619090716     678972316       83672469   \n",
              "3         california  ...       1623927900     724503900       61792532   \n",
              "4         california  ...       1620468051     592480851       26259314   \n",
              "...              ...  ...              ...           ...            ...   \n",
              "5759      california  ...       1610276852     999428852       16347353   \n",
              "5760             NaN  ...       1612883686     282323686       -8202919   \n",
              "5761      california  ...       1613685076    1398981076       19494337   \n",
              "5762      california  ...       1615972719     159182319      159182319   \n",
              "5763      washington  ...       1623226372    1207383172       29006829   \n",
              "\n",
              "     pwd_diff_tran Device_MOBILE Device_NoDevice Device_PHONE Device_TABLET  \\\n",
              "0          9684000             0               0            0             0   \n",
              "1         -6775200             1               0            0             0   \n",
              "2        678972316             1               0            0             0   \n",
              "3         10306800             1               0            0             0   \n",
              "4        101541211             1               0            0             0   \n",
              "...            ...           ...             ...          ...           ...   \n",
              "5759     120456000             0               0            0             0   \n",
              "5760      32293071             1               0            0             0   \n",
              "5761    1398981076             1               0            0             0   \n",
              "5762     -22132800             0               0            0             1   \n",
              "5763      75747600             0               0            0             0   \n",
              "\n",
              "     auth_sec_CHALLENGE_ISSUED auth_sec_CHALLENGE_SUCCESS  \n",
              "0                            0                          0  \n",
              "1                            0                          0  \n",
              "2                            0                          0  \n",
              "3                            0                          0  \n",
              "4                            0                          0  \n",
              "...                        ...                        ...  \n",
              "5759                         0                          0  \n",
              "5760                         0                          0  \n",
              "5761                         0                          0  \n",
              "5762                         0                          0  \n",
              "5763                         0                          0  \n",
              "\n",
              "[5764 rows x 35 columns]"
            ],
            "text/html": [
              "\n",
              "  <div id=\"df-6dec3c8c-0820-4e46-928d-0ffca37a386f\">\n",
              "    <div class=\"colab-df-container\">\n",
              "      <div>\n",
              "<style scoped>\n",
              "    .dataframe tbody tr th:only-of-type {\n",
              "        vertical-align: middle;\n",
              "    }\n",
              "\n",
              "    .dataframe tbody tr th {\n",
              "        vertical-align: top;\n",
              "    }\n",
              "\n",
              "    .dataframe thead th {\n",
              "        text-align: right;\n",
              "    }\n",
              "</style>\n",
              "<table border=\"1\" class=\"dataframe\">\n",
              "  <thead>\n",
              "    <tr style=\"text-align: right;\">\n",
              "      <th></th>\n",
              "      <th>dataset_id</th>\n",
              "      <th>TRAN_AMT</th>\n",
              "      <th>ACCT_PRE_TRAN_AVAIL_BAL</th>\n",
              "      <th>CUST_AGE</th>\n",
              "      <th>OPEN_ACCT_CT</th>\n",
              "      <th>WF_dvc_age</th>\n",
              "      <th>PWD_UPDT_TS</th>\n",
              "      <th>CARR_NAME</th>\n",
              "      <th>RGN_NAME</th>\n",
              "      <th>STATE_PRVNC_TXT</th>\n",
              "      <th>...</th>\n",
              "      <th>Tran_TS_Numeric</th>\n",
              "      <th>cst_diff_tran</th>\n",
              "      <th>phn_diff_tran</th>\n",
              "      <th>pwd_diff_tran</th>\n",
              "      <th>Device_MOBILE</th>\n",
              "      <th>Device_NoDevice</th>\n",
              "      <th>Device_PHONE</th>\n",
              "      <th>Device_TABLET</th>\n",
              "      <th>auth_sec_CHALLENGE_ISSUED</th>\n",
              "      <th>auth_sec_CHALLENGE_SUCCESS</th>\n",
              "    </tr>\n",
              "  </thead>\n",
              "  <tbody>\n",
              "    <tr>\n",
              "      <th>0</th>\n",
              "      <td>1</td>\n",
              "      <td>54.25</td>\n",
              "      <td>0.00</td>\n",
              "      <td>0</td>\n",
              "      <td>4</td>\n",
              "      <td>634</td>\n",
              "      <td>2020-09-18 09:33:44</td>\n",
              "      <td>1</td>\n",
              "      <td>southwest</td>\n",
              "      <td>california</td>\n",
              "      <td>...</td>\n",
              "      <td>1610105624</td>\n",
              "      <td>312032024</td>\n",
              "      <td>79062487</td>\n",
              "      <td>9684000</td>\n",
              "      <td>0</td>\n",
              "      <td>0</td>\n",
              "      <td>0</td>\n",
              "      <td>0</td>\n",
              "      <td>0</td>\n",
              "      <td>0</td>\n",
              "    </tr>\n",
              "    <tr>\n",
              "      <th>1</th>\n",
              "      <td>2</td>\n",
              "      <td>110.30</td>\n",
              "      <td>0.00</td>\n",
              "      <td>0</td>\n",
              "      <td>3</td>\n",
              "      <td>1876</td>\n",
              "      <td>2021-05-16 17:02:31</td>\n",
              "      <td>1</td>\n",
              "      <td>mountain</td>\n",
              "      <td>colorado</td>\n",
              "      <td>...</td>\n",
              "      <td>1614409351</td>\n",
              "      <td>608194951</td>\n",
              "      <td>608194951</td>\n",
              "      <td>-6775200</td>\n",
              "      <td>1</td>\n",
              "      <td>0</td>\n",
              "      <td>0</td>\n",
              "      <td>0</td>\n",
              "      <td>0</td>\n",
              "      <td>0</td>\n",
              "    </tr>\n",
              "    <tr>\n",
              "      <th>2</th>\n",
              "      <td>3</td>\n",
              "      <td>515.95</td>\n",
              "      <td>0.00</td>\n",
              "      <td>0</td>\n",
              "      <td>5</td>\n",
              "      <td>40</td>\n",
              "      <td>1999-10-17 00:00:00</td>\n",
              "      <td>2</td>\n",
              "      <td>mid atlantic</td>\n",
              "      <td>virginia</td>\n",
              "      <td>...</td>\n",
              "      <td>1619090716</td>\n",
              "      <td>678972316</td>\n",
              "      <td>83672469</td>\n",
              "      <td>678972316</td>\n",
              "      <td>1</td>\n",
              "      <td>0</td>\n",
              "      <td>0</td>\n",
              "      <td>0</td>\n",
              "      <td>0</td>\n",
              "      <td>0</td>\n",
              "    </tr>\n",
              "    <tr>\n",
              "      <th>3</th>\n",
              "      <td>4</td>\n",
              "      <td>42.78</td>\n",
              "      <td>0.00</td>\n",
              "      <td>1</td>\n",
              "      <td>3</td>\n",
              "      <td>367</td>\n",
              "      <td>2021-02-18 04:05:00</td>\n",
              "      <td>1</td>\n",
              "      <td>southwest</td>\n",
              "      <td>california</td>\n",
              "      <td>...</td>\n",
              "      <td>1623927900</td>\n",
              "      <td>724503900</td>\n",
              "      <td>61792532</td>\n",
              "      <td>10306800</td>\n",
              "      <td>1</td>\n",
              "      <td>0</td>\n",
              "      <td>0</td>\n",
              "      <td>0</td>\n",
              "      <td>0</td>\n",
              "      <td>0</td>\n",
              "    </tr>\n",
              "    <tr>\n",
              "      <th>4</th>\n",
              "      <td>5</td>\n",
              "      <td>0.01</td>\n",
              "      <td>0.00</td>\n",
              "      <td>1</td>\n",
              "      <td>12</td>\n",
              "      <td>518</td>\n",
              "      <td>2018-02-18 04:07:20</td>\n",
              "      <td>1</td>\n",
              "      <td>southwest</td>\n",
              "      <td>california</td>\n",
              "      <td>...</td>\n",
              "      <td>1620468051</td>\n",
              "      <td>592480851</td>\n",
              "      <td>26259314</td>\n",
              "      <td>101541211</td>\n",
              "      <td>1</td>\n",
              "      <td>0</td>\n",
              "      <td>0</td>\n",
              "      <td>0</td>\n",
              "      <td>0</td>\n",
              "      <td>0</td>\n",
              "    </tr>\n",
              "    <tr>\n",
              "      <th>...</th>\n",
              "      <td>...</td>\n",
              "      <td>...</td>\n",
              "      <td>...</td>\n",
              "      <td>...</td>\n",
              "      <td>...</td>\n",
              "      <td>...</td>\n",
              "      <td>...</td>\n",
              "      <td>...</td>\n",
              "      <td>...</td>\n",
              "      <td>...</td>\n",
              "      <td>...</td>\n",
              "      <td>...</td>\n",
              "      <td>...</td>\n",
              "      <td>...</td>\n",
              "      <td>...</td>\n",
              "      <td>...</td>\n",
              "      <td>...</td>\n",
              "      <td>...</td>\n",
              "      <td>...</td>\n",
              "      <td>...</td>\n",
              "      <td>...</td>\n",
              "    </tr>\n",
              "    <tr>\n",
              "      <th>5759</th>\n",
              "      <td>5996</td>\n",
              "      <td>449.45</td>\n",
              "      <td>0.00</td>\n",
              "      <td>0</td>\n",
              "      <td>6</td>\n",
              "      <td>504</td>\n",
              "      <td>2017-03-18 07:07:32</td>\n",
              "      <td>1</td>\n",
              "      <td>southwest</td>\n",
              "      <td>california</td>\n",
              "      <td>...</td>\n",
              "      <td>1610276852</td>\n",
              "      <td>999428852</td>\n",
              "      <td>16347353</td>\n",
              "      <td>120456000</td>\n",
              "      <td>0</td>\n",
              "      <td>0</td>\n",
              "      <td>0</td>\n",
              "      <td>0</td>\n",
              "      <td>0</td>\n",
              "      <td>0</td>\n",
              "    </tr>\n",
              "    <tr>\n",
              "      <th>5760</th>\n",
              "      <td>5997</td>\n",
              "      <td>488.72</td>\n",
              "      <td>34842.64</td>\n",
              "      <td>1</td>\n",
              "      <td>7</td>\n",
              "      <td>0</td>\n",
              "      <td>2020-02-01 20:56:55</td>\n",
              "      <td>0</td>\n",
              "      <td>NaN</td>\n",
              "      <td>NaN</td>\n",
              "      <td>...</td>\n",
              "      <td>1612883686</td>\n",
              "      <td>282323686</td>\n",
              "      <td>-8202919</td>\n",
              "      <td>32293071</td>\n",
              "      <td>1</td>\n",
              "      <td>0</td>\n",
              "      <td>0</td>\n",
              "      <td>0</td>\n",
              "      <td>0</td>\n",
              "      <td>0</td>\n",
              "    </tr>\n",
              "    <tr>\n",
              "      <th>5761</th>\n",
              "      <td>5998</td>\n",
              "      <td>0.01</td>\n",
              "      <td>0.00</td>\n",
              "      <td>0</td>\n",
              "      <td>5</td>\n",
              "      <td>457</td>\n",
              "      <td>1976-10-21 00:00:00</td>\n",
              "      <td>1</td>\n",
              "      <td>southwest</td>\n",
              "      <td>california</td>\n",
              "      <td>...</td>\n",
              "      <td>1613685076</td>\n",
              "      <td>1398981076</td>\n",
              "      <td>19494337</td>\n",
              "      <td>1398981076</td>\n",
              "      <td>1</td>\n",
              "      <td>0</td>\n",
              "      <td>0</td>\n",
              "      <td>0</td>\n",
              "      <td>0</td>\n",
              "      <td>0</td>\n",
              "    </tr>\n",
              "    <tr>\n",
              "      <th>5762</th>\n",
              "      <td>5999</td>\n",
              "      <td>211.10</td>\n",
              "      <td>3197.42</td>\n",
              "      <td>0</td>\n",
              "      <td>20</td>\n",
              "      <td>6</td>\n",
              "      <td>2021-11-28 13:18:39</td>\n",
              "      <td>2</td>\n",
              "      <td>southwest</td>\n",
              "      <td>california</td>\n",
              "      <td>...</td>\n",
              "      <td>1615972719</td>\n",
              "      <td>159182319</td>\n",
              "      <td>159182319</td>\n",
              "      <td>-22132800</td>\n",
              "      <td>0</td>\n",
              "      <td>0</td>\n",
              "      <td>0</td>\n",
              "      <td>1</td>\n",
              "      <td>0</td>\n",
              "      <td>0</td>\n",
              "    </tr>\n",
              "    <tr>\n",
              "      <th>5763</th>\n",
              "      <td>6000</td>\n",
              "      <td>7.32</td>\n",
              "      <td>449.82</td>\n",
              "      <td>0</td>\n",
              "      <td>17</td>\n",
              "      <td>476</td>\n",
              "      <td>2019-01-14 15:12:52</td>\n",
              "      <td>1</td>\n",
              "      <td>pacific northwest</td>\n",
              "      <td>washington</td>\n",
              "      <td>...</td>\n",
              "      <td>1623226372</td>\n",
              "      <td>1207383172</td>\n",
              "      <td>29006829</td>\n",
              "      <td>75747600</td>\n",
              "      <td>0</td>\n",
              "      <td>0</td>\n",
              "      <td>0</td>\n",
              "      <td>0</td>\n",
              "      <td>0</td>\n",
              "      <td>0</td>\n",
              "    </tr>\n",
              "  </tbody>\n",
              "</table>\n",
              "<p>5764 rows × 35 columns</p>\n",
              "</div>\n",
              "      <button class=\"colab-df-convert\" onclick=\"convertToInteractive('df-6dec3c8c-0820-4e46-928d-0ffca37a386f')\"\n",
              "              title=\"Convert this dataframe to an interactive table.\"\n",
              "              style=\"display:none;\">\n",
              "        \n",
              "  <svg xmlns=\"http://www.w3.org/2000/svg\" height=\"24px\"viewBox=\"0 0 24 24\"\n",
              "       width=\"24px\">\n",
              "    <path d=\"M0 0h24v24H0V0z\" fill=\"none\"/>\n",
              "    <path d=\"M18.56 5.44l.94 2.06.94-2.06 2.06-.94-2.06-.94-.94-2.06-.94 2.06-2.06.94zm-11 1L8.5 8.5l.94-2.06 2.06-.94-2.06-.94L8.5 2.5l-.94 2.06-2.06.94zm10 10l.94 2.06.94-2.06 2.06-.94-2.06-.94-.94-2.06-.94 2.06-2.06.94z\"/><path d=\"M17.41 7.96l-1.37-1.37c-.4-.4-.92-.59-1.43-.59-.52 0-1.04.2-1.43.59L10.3 9.45l-7.72 7.72c-.78.78-.78 2.05 0 2.83L4 21.41c.39.39.9.59 1.41.59.51 0 1.02-.2 1.41-.59l7.78-7.78 2.81-2.81c.8-.78.8-2.07 0-2.86zM5.41 20L4 18.59l7.72-7.72 1.47 1.35L5.41 20z\"/>\n",
              "  </svg>\n",
              "      </button>\n",
              "      \n",
              "  <style>\n",
              "    .colab-df-container {\n",
              "      display:flex;\n",
              "      flex-wrap:wrap;\n",
              "      gap: 12px;\n",
              "    }\n",
              "\n",
              "    .colab-df-convert {\n",
              "      background-color: #E8F0FE;\n",
              "      border: none;\n",
              "      border-radius: 50%;\n",
              "      cursor: pointer;\n",
              "      display: none;\n",
              "      fill: #1967D2;\n",
              "      height: 32px;\n",
              "      padding: 0 0 0 0;\n",
              "      width: 32px;\n",
              "    }\n",
              "\n",
              "    .colab-df-convert:hover {\n",
              "      background-color: #E2EBFA;\n",
              "      box-shadow: 0px 1px 2px rgba(60, 64, 67, 0.3), 0px 1px 3px 1px rgba(60, 64, 67, 0.15);\n",
              "      fill: #174EA6;\n",
              "    }\n",
              "\n",
              "    [theme=dark] .colab-df-convert {\n",
              "      background-color: #3B4455;\n",
              "      fill: #D2E3FC;\n",
              "    }\n",
              "\n",
              "    [theme=dark] .colab-df-convert:hover {\n",
              "      background-color: #434B5C;\n",
              "      box-shadow: 0px 1px 3px 1px rgba(0, 0, 0, 0.15);\n",
              "      filter: drop-shadow(0px 1px 2px rgba(0, 0, 0, 0.3));\n",
              "      fill: #FFFFFF;\n",
              "    }\n",
              "  </style>\n",
              "\n",
              "      <script>\n",
              "        const buttonEl =\n",
              "          document.querySelector('#df-6dec3c8c-0820-4e46-928d-0ffca37a386f button.colab-df-convert');\n",
              "        buttonEl.style.display =\n",
              "          google.colab.kernel.accessAllowed ? 'block' : 'none';\n",
              "\n",
              "        async function convertToInteractive(key) {\n",
              "          const element = document.querySelector('#df-6dec3c8c-0820-4e46-928d-0ffca37a386f');\n",
              "          const dataTable =\n",
              "            await google.colab.kernel.invokeFunction('convertToInteractive',\n",
              "                                                     [key], {});\n",
              "          if (!dataTable) return;\n",
              "\n",
              "          const docLinkHtml = 'Like what you see? Visit the ' +\n",
              "            '<a target=\"_blank\" href=https://colab.research.google.com/notebooks/data_table.ipynb>data table notebook</a>'\n",
              "            + ' to learn more about interactive tables.';\n",
              "          element.innerHTML = '';\n",
              "          dataTable['output_type'] = 'display_data';\n",
              "          await google.colab.output.renderOutput(dataTable, element);\n",
              "          const docLink = document.createElement('div');\n",
              "          docLink.innerHTML = docLinkHtml;\n",
              "          element.appendChild(docLink);\n",
              "        }\n",
              "      </script>\n",
              "    </div>\n",
              "  </div>\n",
              "  "
            ]
          },
          "metadata": {},
          "execution_count": 91
        }
      ]
    },
    {
      "cell_type": "code",
      "source": [
        ""
      ],
      "metadata": {
        "id": "XWnBgrTEPGZm"
      },
      "execution_count": null,
      "outputs": []
    },
    {
      "cell_type": "code",
      "source": [
        ""
      ],
      "metadata": {
        "id": "UdzFJqg2PGXE"
      },
      "execution_count": null,
      "outputs": []
    },
    {
      "cell_type": "code",
      "source": [
        ""
      ],
      "metadata": {
        "id": "R40TDfJaPGVG"
      },
      "execution_count": null,
      "outputs": []
    },
    {
      "cell_type": "code",
      "source": [
        "# import pandas as pd\n",
        "# import numpy as np\n",
        "# df = pd.read_csv(\"/content/final.csv\")\n",
        "\n",
        "# print(list())\n",
        "df[\"FRAUD_NONFRAUD\"] = df[\"FRAUD_NONFRAUD\"].replace({\"Fraud\": 1, \"Non-Fraud\": 0})\n",
        "# df[\"FRAUD_NONFRAUD\"]\n",
        "\n",
        "# df[\"FRAUD_NONFRAUD\"][df[\"FRAUD_NONFRAUD\"] != \"Fraud\"] = 0\n",
        "df[\"FRAUD_NONFRAUD\"] = df[\"FRAUD_NONFRAUD\"].astype(\"int64\")\n",
        "# print(df[\"FRAUD_NONFRAUD\"])\n",
        "\n",
        "# df[\"RGN_NAME\"][df[\"RGN_NAME\"] == np.nan] = \"Unknown\"\n",
        "# df[\"STATE_PRVNC_TXT\"][df[\"STATE_PRVNC_TXT\"] == np.nan] = \"Unknown\"\n",
        "\n",
        "df[\"RGN_NAME\"].fillna(\"Unknown\", inplace=True)\n",
        "df[\"STATE_PRVNC_TXT\"].fillna(\"Unknown\", inplace=True)\n",
        "\n",
        "\n",
        "\n",
        "print(df.info())\n",
        "print(df[\"FRAUD_NONFRAUD\"].describe())\n",
        "df.to_csv(\"/content/h2o_final.csv\", index=False)\n"
      ],
      "metadata": {
        "id": "2Rod7SV1PGSq"
      },
      "execution_count": null,
      "outputs": []
    },
    {
      "cell_type": "code",
      "source": [
        "# print(saved_model.predict(test))"
      ],
      "metadata": {
        "id": "VvS09wIv-uOv"
      },
      "execution_count": null,
      "outputs": []
    },
    {
      "cell_type": "code",
      "source": [
        ""
      ],
      "metadata": {
        "id": "ZURl2fYt-uML"
      },
      "execution_count": null,
      "outputs": []
    },
    {
      "cell_type": "code",
      "source": [
        ""
      ],
      "metadata": {
        "id": "ZDxcZ_H2-uJu"
      },
      "execution_count": null,
      "outputs": []
    },
    {
      "cell_type": "code",
      "source": [
        ""
      ],
      "metadata": {
        "id": "lqpzNNSN-uCc"
      },
      "execution_count": null,
      "outputs": []
    },
    {
      "cell_type": "code",
      "source": [
        ""
      ],
      "metadata": {
        "id": "0gUxX0pu9-ic"
      },
      "execution_count": null,
      "outputs": []
    },
    {
      "cell_type": "code",
      "execution_count": null,
      "metadata": {
        "colab": {
          "base_uri": "https://localhost:8080/",
          "height": 248
        },
        "id": "56RHRY_ZfzJ4",
        "outputId": "73a5b6c0-bcb9-4cdc-972c-78d03ac23334"
      },
      "outputs": [
        {
          "output_type": "display_data",
          "data": {
            "text/plain": [
              "<Figure size 432x288 with 1 Axes>"
            ],
            "image/png": "[encoded data removed]"
          },
          "metadata": {
            "needs_background": "light"
          }
        }
      ],
      "source": [
        "from sklearn import tree\n",
        "tree.plot_tree(dt)\n",
        "plt.show()"
      ]
    },
    {
      "cell_type": "code",
      "execution_count": null,
      "metadata": {
        "colab": {
          "base_uri": "https://localhost:8080/"
        },
        "id": "zAP1CpmYpCK_",
        "outputId": "9163e78a-b6f0-436b-9d50-2c82f7fbd82c"
      },
      "outputs": [
        {
          "output_type": "execute_result",
          "data": {
            "text/plain": [
              "(0.9544275657650981, 0.9545033358042995)"
            ]
          },
          "metadata": {},
          "execution_count": 16
        }
      ],
      "source": [
        "#addressing overfitting\n",
        "# Let maximum depth be 3\n",
        "\n",
        "from sklearn.tree import DecisionTreeClassifier\n",
        "\n",
        "# A Basic Tree\n",
        "\n",
        "dt_3 = DecisionTreeClassifier(random_state = 0, criterion = 'entropy', max_depth = 3)\n",
        "\n",
        "dt_3.fit(X_train, y_train)\n",
        "\n",
        "dt_3.score(X_test, y_test), dt_3.score(X_train, y_train)\n"
      ]
    },
    {
      "cell_type": "code",
      "execution_count": null,
      "metadata": {
        "colab": {
          "base_uri": "https://localhost:8080/"
        },
        "id": "04R-njWCpwjV",
        "outputId": "9932a4dd-5a79-460f-f465-ce1bb0115009"
      },
      "outputs": [
        {
          "output_type": "execute_result",
          "data": {
            "text/plain": [
              "GridSearchCV(cv=5, estimator=DecisionTreeClassifier(random_state=0),\n",
              "             param_grid={'max_depth': range(1, 10),\n",
              "                         'max_leaf_nodes': range(2, 11),\n",
              "                         'min_samples_split': range(2, 11)})"
            ]
          },
          "metadata": {},
          "execution_count": 17
        }
      ],
      "source": [
        "# GridSearch + CV\n",
        "from sklearn.model_selection import GridSearchCV\n",
        "\n",
        "# model\n",
        "opt_tree = DecisionTreeClassifier(random_state = 0) # for all the models, always set random state to 0\n",
        "\n",
        "# hyperparameters\n",
        "dt_params = {'max_depth':   range(1,10)        ,\n",
        "             'min_samples_split':   range(2,11),\n",
        "             'max_leaf_nodes':    range(2,11)   }\n",
        "\n",
        "# gridsearch cv\n",
        "grid_tree = GridSearchCV(opt_tree, dt_params, cv = 5)\n",
        "\n",
        "grid_tree.fit(X_train, y_train)"
      ]
    },
    {
      "cell_type": "code",
      "execution_count": null,
      "metadata": {
        "colab": {
          "base_uri": "https://localhost:8080/"
        },
        "id": "4eAlygM-qWMm",
        "outputId": "a71bb159-1bf7-4310-b104-7af76580de52"
      },
      "outputs": [
        {
          "output_type": "execute_result",
          "data": {
            "text/plain": [
              "{'max_depth': 1, 'max_leaf_nodes': 2, 'min_samples_split': 2}"
            ]
          },
          "metadata": {},
          "execution_count": 18
        }
      ],
      "source": [
        "# Report the best hyperparameters chosen\n",
        "\n",
        "grid_tree.best_params_\n"
      ]
    },
    {
      "cell_type": "code",
      "execution_count": null,
      "metadata": {
        "colab": {
          "base_uri": "https://localhost:8080/"
        },
        "id": "88criXkMqiXF",
        "outputId": "2777fd57-a703-496c-9bfe-321b84b5aadd"
      },
      "outputs": [
        {
          "output_type": "execute_result",
          "data": {
            "text/plain": [
              "0.9544275657650981"
            ]
          },
          "metadata": {},
          "execution_count": 19
        }
      ],
      "source": [
        "grid_tree.score(X_test, y_test)"
      ]
    },
    {
      "cell_type": "code",
      "execution_count": null,
      "metadata": {
        "colab": {
          "base_uri": "https://localhost:8080/"
        },
        "id": "YC-nEQCWqqsp",
        "outputId": "8a6451c8-b371-4d79-9dc3-ead24c7aa83a"
      },
      "outputs": [
        {
          "output_type": "stream",
          "name": "stdout",
          "text": [
            "|--- feature_1 <= -0.33\n",
            "|   |--- class: 0\n",
            "|--- feature_1 >  -0.33\n",
            "|   |--- class: 0\n",
            "\n"
          ]
        }
      ],
      "source": [
        "#Visualizing Decision Tree\n",
        "from sklearn import tree\n",
        "\n",
        "# grid_tree.best_estimator_\n",
        "\n",
        "print(tree.export_text(grid_tree.best_estimator_))"
      ]
    },
    {
      "cell_type": "code",
      "execution_count": null,
      "metadata": {
        "colab": {
          "base_uri": "https://localhost:8080/",
          "height": 374
        },
        "id": "1UF3AnQQqz-j",
        "outputId": "a17ab46f-fd1d-44e9-f170-4cdf19f6126a"
      },
      "outputs": [
        {
          "output_type": "error",
          "ename": "AttributeError",
          "evalue": "ignored",
          "traceback": [
            "\u001b[0;31m---------------------------------------------------------------------------\u001b[0m",
            "\u001b[0;31mAttributeError\u001b[0m                            Traceback (most recent call last)",
            "\u001b[0;32m<ipython-input-21-eb9403f680ef>\u001b[0m in \u001b[0;36m<module>\u001b[0;34m()\u001b[0m\n\u001b[1;32m      6\u001b[0m tree.plot_tree(grid_tree.best_estimator_, \n\u001b[1;32m      7\u001b[0m                \u001b[0;31m#feature_names = wellsfargo.feature_names, # specify variable names\u001b[0m\u001b[0;34m\u001b[0m\u001b[0;34m\u001b[0m\u001b[0;34m\u001b[0m\u001b[0m\n\u001b[0;32m----> 8\u001b[0;31m                \u001b[0mclass_names\u001b[0m \u001b[0;34m=\u001b[0m \u001b[0mwellsfargo\u001b[0m\u001b[0;34m.\u001b[0m\u001b[0mtarget_names\u001b[0m\u001b[0;34m,\u001b[0m \u001b[0;31m# specify class (Y) names\u001b[0m\u001b[0;34m\u001b[0m\u001b[0;34m\u001b[0m\u001b[0m\n\u001b[0m\u001b[1;32m      9\u001b[0m                filled = True, impurity = False) # whether to color the boxes, whether to report gini index\n\u001b[1;32m     10\u001b[0m              \u001b[0;31m#   fontsize = 12) # set fontsize to read\u001b[0m\u001b[0;34m\u001b[0m\u001b[0;34m\u001b[0m\u001b[0;34m\u001b[0m\u001b[0m\n",
            "\u001b[0;32m/usr/local/lib/python3.7/dist-packages/pandas/core/generic.py\u001b[0m in \u001b[0;36m__getattr__\u001b[0;34m(self, name)\u001b[0m\n\u001b[1;32m   5485\u001b[0m         ):\n\u001b[1;32m   5486\u001b[0m             \u001b[0;32mreturn\u001b[0m \u001b[0mself\u001b[0m\u001b[0;34m[\u001b[0m\u001b[0mname\u001b[0m\u001b[0;34m]\u001b[0m\u001b[0;34m\u001b[0m\u001b[0;34m\u001b[0m\u001b[0m\n\u001b[0;32m-> 5487\u001b[0;31m         \u001b[0;32mreturn\u001b[0m \u001b[0mobject\u001b[0m\u001b[0;34m.\u001b[0m\u001b[0m__getattribute__\u001b[0m\u001b[0;34m(\u001b[0m\u001b[0mself\u001b[0m\u001b[0;34m,\u001b[0m \u001b[0mname\u001b[0m\u001b[0;34m)\u001b[0m\u001b[0;34m\u001b[0m\u001b[0;34m\u001b[0m\u001b[0m\n\u001b[0m\u001b[1;32m   5488\u001b[0m \u001b[0;34m\u001b[0m\u001b[0m\n\u001b[1;32m   5489\u001b[0m     \u001b[0;32mdef\u001b[0m \u001b[0m__setattr__\u001b[0m\u001b[0;34m(\u001b[0m\u001b[0mself\u001b[0m\u001b[0;34m,\u001b[0m \u001b[0mname\u001b[0m\u001b[0;34m:\u001b[0m \u001b[0mstr\u001b[0m\u001b[0;34m,\u001b[0m \u001b[0mvalue\u001b[0m\u001b[0;34m)\u001b[0m \u001b[0;34m->\u001b[0m \u001b[0;32mNone\u001b[0m\u001b[0;34m:\u001b[0m\u001b[0;34m\u001b[0m\u001b[0;34m\u001b[0m\u001b[0m\n",
            "\u001b[0;31mAttributeError\u001b[0m: 'DataFrame' object has no attribute 'target_names'"
          ]
        },
        {
          "output_type": "display_data",
          "data": {
            "text/plain": [
              "<Figure size 1440x720 with 0 Axes>"
            ]
          },
          "metadata": {}
        }
      ],
      "source": [
        "# Plot the decision tree---> error in feature names and target names\n",
        "from sklearn import tree\n",
        "\n",
        "fig = plt.figure(figsize=(20,10)) # set a proper figure size (in case that the figure is too small to read or ratio is not proper)\n",
        "\n",
        "tree.plot_tree(grid_tree.best_estimator_, \n",
        "               #feature_names = wellsfargo.feature_names, # specify variable names \n",
        "               class_names = wellsfargo.target_names, # specify class (Y) names\n",
        "               filled = True, impurity = False) # whether to color the boxes, whether to report gini index\n",
        "             #   fontsize = 12) # set fontsize to read\n",
        "plt.show()\n"
      ]
    },
    {
      "cell_type": "code",
      "execution_count": null,
      "metadata": {
        "id": "eeNAeXfxrNLf"
      },
      "outputs": [],
      "source": [
        "# Khevana Chapter 7 - SVM and Naive Bayes"
      ]
    },
    {
      "cell_type": "code",
      "execution_count": null,
      "metadata": {
        "colab": {
          "base_uri": "https://localhost:8080/"
        },
        "id": "vKFUGimxrM7H",
        "outputId": "648a0311-1134-4900-bd25-7d7ba854a5d5"
      },
      "outputs": [
        {
          "name": "stderr",
          "output_type": "stream",
          "text": [
            "/usr/local/lib/python3.7/dist-packages/sklearn/svm/_base.py:1208: ConvergenceWarning: Liblinear failed to converge, increase the number of iterations.\n",
            "  ConvergenceWarning,\n"
          ]
        },
        {
          "data": {
            "text/plain": [
              "0.8914412745461282"
            ]
          },
          "execution_count": 67,
          "metadata": {},
          "output_type": "execute_result"
        }
      ],
      "source": [
        "# Linear SVC \n",
        "from sklearn.svm import LinearSVC\n",
        "\n",
        "lr_svc = LinearSVC()\n",
        "lr_svc.fit(X_train, y_train)\n",
        "lr_svc.score(X_test, y_test)"
      ]
    },
    {
      "cell_type": "code",
      "execution_count": null,
      "metadata": {
        "colab": {
          "base_uri": "https://localhost:8080/"
        },
        "id": "7lK4BsCOrwPD",
        "outputId": "c3882335-f396-4f58-9f2d-ddd4f2270f0d"
      },
      "outputs": [
        {
          "name": "stderr",
          "output_type": "stream",
          "text": [
            "/usr/local/lib/python3.7/dist-packages/sklearn/svm/_base.py:1208: ConvergenceWarning: Liblinear failed to converge, increase the number of iterations.\n",
            "  ConvergenceWarning,\n"
          ]
        },
        {
          "data": {
            "text/plain": [
              "GridSearchCV(estimator=LinearSVC(random_state=22), n_jobs=2,\n",
              "             param_grid={'C': [0.001, 0.01, 0.1, 1, 10, 100, 100000]})"
            ]
          },
          "execution_count": 68,
          "metadata": {},
          "output_type": "execute_result"
        }
      ],
      "source": [
        "# Linear SVC with GridSearchCV\n",
        "from sklearn.model_selection import GridSearchCV\n",
        "\n",
        "# Define Function\n",
        "linear_svc = LinearSVC(random_state = 22) # must specify random state here\n",
        "\n",
        "# Define a list of hyperparameters\n",
        "params_svc = {'C': [0.001, 0.01, 0.1, 1, 10, 100, 100000]   }\n",
        "\n",
        "grid_lr_svc = GridSearchCV(linear_svc, params_svc, n_jobs = 2)\n",
        "\n",
        "grid_lr_svc.fit(X_train, y_train)"
      ]
    },
    {
      "cell_type": "code",
      "execution_count": null,
      "metadata": {
        "colab": {
          "base_uri": "https://localhost:8080/"
        },
        "id": "-Tqfh2J1sI7n",
        "outputId": "835e4ffc-e30d-4ada-ae2f-8eaacddd722e"
      },
      "outputs": [
        {
          "data": {
            "text/plain": [
              "{'C': 0.001}"
            ]
          },
          "execution_count": 69,
          "metadata": {},
          "output_type": "execute_result"
        }
      ],
      "source": [
        "#finding best parameters\n",
        "grid_lr_svc.best_params_"
      ]
    },
    {
      "cell_type": "code",
      "source": [
        "y1 = grid_lr_svc.predict(X_test)\n",
        "f1_score(y_test,y1) "
      ],
      "metadata": {
        "colab": {
          "base_uri": "https://localhost:8080/"
        },
        "id": "J1phE28B9tNn",
        "outputId": "20ce9db8-570b-4ec4-d0d6-c522c2dea19e"
      },
      "execution_count": null,
      "outputs": [
        {
          "output_type": "execute_result",
          "data": {
            "text/plain": [
              "0.1142857142857143"
            ]
          },
          "metadata": {},
          "execution_count": 79
        }
      ]
    },
    {
      "cell_type": "code",
      "execution_count": null,
      "metadata": {
        "colab": {
          "base_uri": "https://localhost:8080/"
        },
        "id": "Rlgptz_YsOyw",
        "outputId": "c2d057b1-e761-46e3-8d82-cbdd0cb88cdf"
      },
      "outputs": [
        {
          "data": {
            "text/plain": [
              "0.9544275657650981"
            ]
          },
          "execution_count": 71,
          "metadata": {},
          "output_type": "execute_result"
        }
      ],
      "source": [
        "#SVM with kernel functions\n",
        "from sklearn.svm import SVC\n",
        "\n",
        "k_svm = SVC(kernel = 'rbf', random_state = 0)\n",
        "\n",
        "k_svm.fit(X_train, y_train)\n",
        "\n",
        "k_svm.score(X_test, y_test)"
      ]
    },
    {
      "cell_type": "code",
      "execution_count": null,
      "metadata": {
        "colab": {
          "background_save": true
        },
        "id": "9eqxWhI2sclS",
        "outputId": "dd0990d0-61c6-4667-851c-c5114ff18943"
      },
      "outputs": [
        {
          "data": {
            "text/plain": [
              "GridSearchCV(cv=5, estimator=SVC(random_state=22), n_jobs=2,\n",
              "             param_grid={'C': [0.001, 0.01, 0.1, 1, 10, 100, 10000],\n",
              "                         'gamma': [0.0001, 0.001, 0.001, 0.1, 1, 10]})"
            ]
          },
          "execution_count": null,
          "metadata": {},
          "output_type": "execute_result"
        }
      ],
      "source": [
        "from sklearn.svm import SVC\n",
        "from sklearn.model_selection import GridSearchCV\n",
        "\n",
        "# Define Function\n",
        "svm = SVC(kernel = 'rbf', random_state = 22)\n",
        "\n",
        "#define a list of parameters\n",
        "param_svc_kernel = {'C':  [0.001, 0.01, 0.1, 1, 10, 100, 10000]     ,\n",
        "                    'gamma':   [0.0001, 0.001,0.001,0.1,1,10]    } # C = 10,000 mimics hard-margin SVM\n",
        "\n",
        "#apply grid search\n",
        "grid_svm = GridSearchCV(svm, param_svc_kernel, cv = 5, n_jobs=2)\n",
        "\n",
        "grid_svm.fit(X_train, y_train)"
      ]
    },
    {
      "cell_type": "code",
      "execution_count": null,
      "metadata": {
        "id": "VxMT0z6IsqRe",
        "colab": {
          "base_uri": "https://localhost:8080/"
        },
        "outputId": "b05dc3d6-3ab9-4177-c9a9-32a602c49f86"
      },
      "outputs": [
        {
          "output_type": "execute_result",
          "data": {
            "text/plain": [
              "{'C': 0.001, 'gamma': 0.0001}"
            ]
          },
          "metadata": {},
          "execution_count": 73
        }
      ],
      "source": [
        "#best parameters\n",
        "grid_svm.best_params_"
      ]
    },
    {
      "cell_type": "code",
      "execution_count": null,
      "metadata": {
        "id": "Tlpk2ps5t7Qe",
        "colab": {
          "base_uri": "https://localhost:8080/",
          "height": 182
        },
        "outputId": "af98983c-8bc1-49a2-f7d6-fdc993f3387f"
      },
      "outputs": [
        {
          "output_type": "error",
          "ename": "TypeError",
          "evalue": "ignored",
          "traceback": [
            "\u001b[0;31m---------------------------------------------------------------------------\u001b[0m",
            "\u001b[0;31mTypeError\u001b[0m                                 Traceback (most recent call last)",
            "\u001b[0;32m<ipython-input-78-378caf32336d>\u001b[0m in \u001b[0;36m<module>\u001b[0;34m()\u001b[0m\n\u001b[1;32m      1\u001b[0m \u001b[0;31m#y_svm_pred = grid_svm.predict(X_test)\u001b[0m\u001b[0;34m\u001b[0m\u001b[0;34m\u001b[0m\u001b[0;34m\u001b[0m\u001b[0m\n\u001b[0;32m----> 2\u001b[0;31m \u001b[0ma\u001b[0m\u001b[0;34m(\u001b[0m\u001b[0my_test\u001b[0m\u001b[0;34m,\u001b[0m\u001b[0my_svm_pred\u001b[0m\u001b[0;34m)\u001b[0m\u001b[0;34m\u001b[0m\u001b[0;34m\u001b[0m\u001b[0m\n\u001b[0m",
            "\u001b[0;31mTypeError\u001b[0m: 'numpy.float64' object is not callable"
          ]
        }
      ],
      "source": [
        "#y_svm_pred = grid_svm.predict(X_test)\n",
        "a(y_test,y_svm_pred)"
      ]
    },
    {
      "cell_type": "code",
      "execution_count": null,
      "metadata": {
        "id": "uOdfZbPCRJJA"
      },
      "outputs": [],
      "source": [
        "# Applying PCA function on training\n",
        "# and testing set of X component\n",
        "from sklearn.decomposition import PCA\n",
        " \n",
        "pca = PCA(n_components = 2)\n",
        " \n",
        "X_train = pca.fit_transform(X_train)\n",
        "X_test = pca.transform(X_test)\n",
        " \n",
        "explained_variance = pca.explained_variance_ratio_"
      ]
    },
    {
      "cell_type": "code",
      "execution_count": null,
      "metadata": {
        "colab": {
          "base_uri": "https://localhost:8080/"
        },
        "id": "kk5HoNWvR9JP",
        "outputId": "94efbda8-1cd0-4d85-9c5c-8cd72beed0c1"
      },
      "outputs": [
        {
          "data": {
            "text/plain": [
              "LogisticRegression(random_state=0)"
            ]
          },
          "execution_count": 49,
          "metadata": {},
          "output_type": "execute_result"
        }
      ],
      "source": [
        "# Fitting Logistic Regression To the training set\n",
        "from sklearn.linear_model import LogisticRegression \n",
        " \n",
        "classifier = LogisticRegression(random_state = 0)\n",
        "classifier.fit(X_train, y_train)"
      ]
    },
    {
      "cell_type": "code",
      "execution_count": null,
      "metadata": {
        "id": "tuOw-UVRZpOi"
      },
      "outputs": [],
      "source": [
        "# Predicting the test set result using\n",
        "# predict function under LogisticRegression\n",
        "y_pred = classifier.predict(X_test)"
      ]
    },
    {
      "cell_type": "code",
      "execution_count": null,
      "metadata": {
        "colab": {
          "base_uri": "https://localhost:8080/"
        },
        "id": "ye-7dSRzgVV8",
        "outputId": "6bd31999-a321-4650-b6af-cc791656ee31"
      },
      "outputs": [
        {
          "name": "stdout",
          "output_type": "stream",
          "text": [
            "[[ 209  481]\n",
            " [ 132 1877]]\n"
          ]
        }
      ],
      "source": [
        "# making confusion matrix between\n",
        "#  test set of Y and predicted value.\n",
        "from sklearn.metrics import confusion_matrix\n",
        " \n",
        "cm = confusion_matrix(y_test, y_pred)\n",
        "print(cm)"
      ]
    },
    {
      "cell_type": "code",
      "execution_count": null,
      "metadata": {
        "colab": {
          "base_uri": "https://localhost:8080/"
        },
        "id": "CMAOc7_hhh8E",
        "outputId": "161ad664-5f81-41ff-e622-6b0af3dba5e6"
      },
      "outputs": [
        {
          "data": {
            "text/plain": [
              "0.7497220163083765"
            ]
          },
          "execution_count": 56,
          "metadata": {},
          "output_type": "execute_result"
        }
      ],
      "source": [
        "classifier.score(X_train,y_train)"
      ]
    },
    {
      "cell_type": "code",
      "execution_count": null,
      "metadata": {
        "colab": {
          "base_uri": "https://localhost:8080/"
        },
        "id": "LnGxN6ONh0er",
        "outputId": "9073cb99-fe76-4030-f05e-dd73c154cbab"
      },
      "outputs": [
        {
          "data": {
            "text/plain": [
              "0.7728788440163024"
            ]
          },
          "execution_count": 57,
          "metadata": {},
          "output_type": "execute_result"
        }
      ],
      "source": [
        "classifier.score(X_test,y_test)"
      ]
    }
  ],
  "metadata": {
    "colab": {
      "collapsed_sections": [],
      "name": "Model Training",
      "provenance": []
    },
    "kernelspec": {
      "display_name": "Python 3",
      "name": "python3"
    },
    "language_info": {
      "name": "python"
    }
  },
  "nbformat": 4,
  "nbformat_minor": 0
}